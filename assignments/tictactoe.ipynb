{
 "cells": [
  {
   "cell_type": "code",
   "execution_count": 72,
   "metadata": {},
   "outputs": [],
   "source": [
    "# python game"
   ]
  },
  {
   "cell_type": "code",
   "execution_count": 73,
   "metadata": {},
   "outputs": [],
   "source": [
    "# all the funtions"
   ]
  },
  {
   "cell_type": "code",
   "execution_count": 74,
   "metadata": {},
   "outputs": [],
   "source": [
    "# display board\n",
    "from IPython.display import clear_output\n",
    "\n",
    "def display_board(lst):\n",
    "    clear_output()\n",
    "    print(lst[7]+' | '+lst[8]+' | '+lst[9])\n",
    "    print('-'+'-'+'-'+'-'+'-'+'-'+'-'+'-'+'-'+'-')\n",
    "    print(lst[4]+' | '+lst[5]+' | '+lst[6])\n",
    "    print('-'+'-'+'-'+'-'+'-'+'-'+'-'+'-'+'-'+'-')\n",
    "    print(lst[1]+' | '+lst[2]+' | '+lst[3])\n",
    "    \n"
   ]
  },
  {
   "cell_type": "code",
   "execution_count": 75,
   "metadata": {},
   "outputs": [],
   "source": [
    "# player input\n",
    "def player_input():\n",
    "    marker=''\n",
    "    while marker!='X' and marker!='O':\n",
    "        marker = input(\"player 1 choose 'X' or 'O' \").upper()\n",
    "    player1 =marker\n",
    "    if player1=='X':\n",
    "        player2 ='O'\n",
    "    else:player2='X'\n",
    "    return player1,player2\n",
    "\n"
   ]
  },
  {
   "cell_type": "code",
   "execution_count": 76,
   "metadata": {},
   "outputs": [],
   "source": [
    "def space_check(board, position):\n",
    "    return board[position]==\" \""
   ]
  },
  {
   "cell_type": "code",
   "execution_count": 77,
   "metadata": {},
   "outputs": [],
   "source": [
    "def full_board_check(board):\n",
    "\n",
    "    for i in range(1,10):\n",
    "        if space_check(board,i):\n",
    "            return False\n",
    "    return True"
   ]
  },
  {
   "cell_type": "code",
   "execution_count": 78,
   "metadata": {},
   "outputs": [],
   "source": [
    "def player_choice(board):\n",
    "    pos = 0\n",
    "    while pos not in [1,2,3,4,5,6,7,8,9] or not space_check(board,pos):\n",
    "        pos = int(input(\"Select a number between 1-9: \"))\n",
    "    return pos   "
   ]
  },
  {
   "cell_type": "code",
   "execution_count": 79,
   "metadata": {},
   "outputs": [],
   "source": [
    "def place_marker(board,marker,position):\n",
    "    board[position] = marker\n",
    "   "
   ]
  },
  {
   "cell_type": "code",
   "execution_count": 80,
   "metadata": {},
   "outputs": [],
   "source": [
    "def win_check(board,mark):\n",
    "    return ((board[1]==mark and board[2]==mark and board[3]==mark) or\n",
    "            (board[4]==mark and board[5]==mark and board[6]==mark) or\n",
    "            (board[7]==mark and board[8]==mark and board[9]==mark) or\n",
    "            (board[7]==mark and board[4]==mark and board[1]==mark) or\n",
    "            (board[8]==mark and board[5]==mark and board[2]==mark) or\n",
    "            (board[9]==mark and board[6]==mark and board[3]==mark) or\n",
    "            (board[1]==mark and board[5]==mark and board[9]==mark) or\n",
    "            (board[3]==mark and board[5]==mark and board[7]==mark))\n"
   ]
  },
  {
   "cell_type": "code",
   "execution_count": 81,
   "metadata": {},
   "outputs": [
    {
     "data": {
      "text/plain": [
       "'Player2'"
      ]
     },
     "execution_count": 81,
     "metadata": {},
     "output_type": "execute_result"
    }
   ],
   "source": [
    "import random\n",
    "def choose_player():\n",
    "     ran = random.randint(1,2)\n",
    "     if ran==1:\n",
    "          return \"Player1\"\n",
    "     return \"Player2\"\n",
    "\n",
    "choose_player()\n",
    "\n",
    "     \n"
   ]
  },
  {
   "cell_type": "code",
   "execution_count": 82,
   "metadata": {},
   "outputs": [],
   "source": [
    "def replay():\n",
    "    rep = input(\"do you want oto play again y or n\").upper()\n",
    "\n",
    "    if rep=='Y':\n",
    "       return True\n",
    "    return False\n"
   ]
  },
  {
   "cell_type": "code",
   "execution_count": 83,
   "metadata": {},
   "outputs": [
    {
     "name": "stdout",
     "output_type": "stream",
     "text": [
      "O | X | O\n",
      "----------\n",
      "O | X | O\n",
      "----------\n",
      "X |   | X\n"
     ]
    },
    {
     "data": {
      "text/plain": [
       "[' ', 'X', 'O', 'X', 'O', 'X', 'O', 'O', 'X', 'O']"
      ]
     },
     "metadata": {},
     "output_type": "display_data"
    },
    {
     "name": "stdout",
     "output_type": "stream",
     "text": [
      "Game is Draw\n"
     ]
    }
   ],
   "source": [
    "# game logic\n",
    "from IPython.display import clear_output\n",
    "\n",
    "print(\"welcome to the game\")\n",
    "\n",
    "while(True):\n",
    "    board = [' ']*10\n",
    "    player1_marker,player2_marker = player_input()\n",
    "    turn = choose_player()\n",
    "\n",
    "    print(f\"first turn is for {turn}\")\n",
    "    status = input(\"are you ready to play y oy n : \").upper()\n",
    "\n",
    "    if status=='Y':\n",
    "        game_on = True\n",
    "    else:game_on=False\n",
    "\n",
    "    while game_on:\n",
    "        if turn =='Player1':\n",
    "            display_board(board)\n",
    "            pos = player_choice(board)\n",
    "            place_marker(board,player1_marker,pos)\n",
    "            if win_check(board,player1_marker):\n",
    "                display_board(board)\n",
    "                print(\"congratulations {turn} for winning this game\")\n",
    "                game_on=False\n",
    "            else:\n",
    "                if full_board_check(board):\n",
    "                    display(board)\n",
    "                    print(\"Game is Draw\")\n",
    "                    break\n",
    "                else: turn='Player2'\n",
    "        else:\n",
    "            display_board(board)\n",
    "            pos = player_choice(board)\n",
    "            place_marker(board,player2_marker,pos)\n",
    "            if win_check(board,player2_marker):\n",
    "                display_board(board)\n",
    "                print(\"congratulations Player2 for winning this game\")\n",
    "                game_on=False\n",
    "            else:\n",
    "                if full_board_check(board):\n",
    "                    display(board)\n",
    "                    print(\"Game is Draw\")\n",
    "                    break\n",
    "                else: turn='Player1'\n",
    "\n",
    "    if not replay():\n",
    "        break\n",
    "\n",
    "\n"
   ]
  }
 ],
 "metadata": {
  "kernelspec": {
   "display_name": "base",
   "language": "python",
   "name": "python3"
  },
  "language_info": {
   "codemirror_mode": {
    "name": "ipython",
    "version": 3
   },
   "file_extension": ".py",
   "mimetype": "text/x-python",
   "name": "python",
   "nbconvert_exporter": "python",
   "pygments_lexer": "ipython3",
   "version": "3.12.7"
  }
 },
 "nbformat": 4,
 "nbformat_minor": 2
}
