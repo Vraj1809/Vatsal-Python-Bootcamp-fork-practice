{
 "cells": [
  {
   "cell_type": "code",
   "execution_count": 2,
   "metadata": {},
   "outputs": [
    {
     "name": "stdout",
     "output_type": "stream",
     "text": [
      "no\n"
     ]
    }
   ],
   "source": [
    "lst = [1,2,3,4,5]\n",
    "lst2 = [11,6,7,8,9]\n",
    "\n",
    "temp = set(lst)& set(lst2)\n",
    "\n",
    "if temp:\n",
    "    print(\"yes\")\n",
    "else:\n",
    "    print(\"no\")"
   ]
  },
  {
   "cell_type": "markdown",
   "metadata": {},
   "source": [
    "Python program to find the power of a number using recursion"
   ]
  },
  {
   "cell_type": "code",
   "execution_count": 3,
   "metadata": {},
   "outputs": [
    {
     "data": {
      "text/plain": [
       "16"
      ]
     },
     "execution_count": 3,
     "metadata": {},
     "output_type": "execute_result"
    }
   ],
   "source": [
    "\n",
    "def Power(n,p):\n",
    "    ans = 1\n",
    "    while(p>0):\n",
    "        ans= ans*n\n",
    "        p=p-1\n",
    "    return ans\n",
    "\n",
    "Power(2,4)"
   ]
  },
  {
   "cell_type": "code",
   "execution_count": 4,
   "metadata": {},
   "outputs": [
    {
     "name": "stdout",
     "output_type": "stream",
     "text": [
      "{'name': 'vatsal', 'surname': 'chauhan', 'age': 21}\n"
     ]
    }
   ],
   "source": [
    "def fun1(**args):\n",
    "    print(args)\n",
    "\n",
    "\n",
    "fun1(name=\"vatsal\",surname=\"chauhan\",age=21)"
   ]
  },
  {
   "cell_type": "markdown",
   "metadata": {},
   "source": [
    "OOPS"
   ]
  },
  {
   "cell_type": "code",
   "execution_count": 5,
   "metadata": {},
   "outputs": [
    {
     "name": "stdout",
     "output_type": "stream",
     "text": [
      "vatsal chauhan\n"
     ]
    }
   ],
   "source": [
    "class FlashCard:\n",
    "    def __init__(self,word,meaning):\n",
    "        self.word = word\n",
    "        self.meaning = meaning\n",
    "    def __str__(self):\n",
    "        return self.word+self.meaning\n",
    "ls=[]\n",
    "while(True):\n",
    "    words = input(\"enter your word\")\n",
    "    meanings = input(\"enter you  meaming\")\n",
    "\n",
    "    ls.append(FlashCard(words,meanings))\n",
    "    out = int(input(\"press 0 if want to eexit or 1  to cintinue\"))\n",
    "    if out==0:\n",
    "        break\n",
    "    else:\n",
    "        continue\n",
    "\n",
    "\n",
    "for i in ls:\n",
    "    print(i)"
   ]
  },
  {
   "cell_type": "code",
   "execution_count": 6,
   "metadata": {},
   "outputs": [
    {
     "name": "stdout",
     "output_type": "stream",
     "text": [
      "['Spadesof K', 'Spadesof 9', 'Heartsof 5', 'Spadesof 8', 'Clubsof 6', 'Clubsof K', 'Heartsof 4', 'Diamondsof A', 'Clubsof A', 'Spadesof 2', 'Clubsof Q', 'Diamondsof 6', 'Diamondsof 10', 'Clubsof 5', 'Heartsof 9', 'Diamondsof 3', 'Clubsof 9', 'Heartsof J', 'Diamondsof Q', 'Spadesof A', 'Clubsof 10', 'Heartsof 7', 'Diamondsof 2', 'Clubsof 3', 'Clubsof J', 'Heartsof 3', 'Diamondsof K', 'Spadesof 10', 'Diamondsof 8', 'Diamondsof J', 'Diamondsof 4', 'Heartsof Q', 'Heartsof 10', 'Clubsof 8', 'Heartsof 6', 'Spadesof 6', 'Spadesof 3', 'Heartsof A', 'Spadesof 5', 'Heartsof 2', 'Diamondsof 7', 'Spadesof 4', 'Heartsof K', 'Clubsof 7', 'Spadesof J', 'Diamondsof 9', 'Clubsof 2', 'Spadesof Q', 'Clubsof 4', 'Spadesof 7', 'Heartsof 8', 'Diamondsof 5']\n"
     ]
    }
   ],
   "source": [
    "from random import shuffle\n",
    "class Cards:\n",
    "    suits = ['Spades','Hearts','Diamonds','Clubs']\n",
    "    values = ['A','2','3','4','5','6','7','8','9','10','J','Q','K']\n",
    "    def __init__(self):\n",
    "        pass\n",
    "\n",
    "class Deck(Cards):\n",
    "    def __init__(self):\n",
    "        super().__init__()\n",
    "        self.cards =[]\n",
    "\n",
    "        for i in self.suits:\n",
    "            for j in self.values:\n",
    "                self.cards.append(i+\"of \"+j)\n",
    "    def Shuffle_Cards(self):\n",
    "         shuffle(self.cards)\n",
    "\n",
    "\n",
    "d1 = Deck()\n",
    "d1.Shuffle_Cards()\n",
    "print(d1.cards)\n"
   ]
  },
  {
   "cell_type": "code",
   "execution_count": 7,
   "metadata": {},
   "outputs": [
    {
     "name": "stdout",
     "output_type": "stream",
     "text": [
      "['Heartsof 7', 'Heartsof 9', 'Heartsof 2', 'Diamondsof 9', 'Heartsof Q', 'Spadesof A', 'Heartsof 4', 'Diamondsof 8', 'Heartsof 8', 'Clubsof 8', 'Clubsof A', 'Diamondsof 10', 'Spadesof J', 'Clubsof 4', 'Spadesof 3', 'Diamondsof J', 'Spadesof 4', 'Heartsof 6', 'Heartsof J', 'Spadesof 5', 'Spadesof 8', 'Heartsof K', 'Clubsof 2', 'Spadesof 6', 'Diamondsof 3', 'Clubsof 7', 'Clubsof 6', 'Clubsof 9', 'Clubsof K', 'Heartsof 10', 'Clubsof Q', 'Diamondsof 7', 'Spadesof 9', 'Clubsof 5', 'Diamondsof 5', 'Spadesof 7', 'Diamondsof 2', 'Diamondsof A', 'Diamondsof 6', 'Clubsof 10', 'Diamondsof K', 'Heartsof A', 'Heartsof 3', 'Diamondsof 4', 'Spadesof Q', 'Spadesof 10', 'Clubsof J', 'Spadesof 2', 'Heartsof 5', 'Diamondsof Q', 'Spadesof K', 'Clubsof 3']\n"
     ]
    }
   ],
   "source": [
    "d2 = Deck()\n",
    "d2.Shuffle_Cards()\n",
    "print(d2.cards)"
   ]
  },
  {
   "cell_type": "code",
   "execution_count": 8,
   "metadata": {},
   "outputs": [],
   "source": [
    "# regular expressions in python"
   ]
  },
  {
   "cell_type": "code",
   "execution_count": 20,
   "metadata": {},
   "outputs": [
    {
     "name": "stdout",
     "output_type": "stream",
     "text": [
      "<re.Match object; span=(0, 4), match='vats'>\n",
      "<class 're.Match'>\n",
      "vats\n"
     ]
    }
   ],
   "source": [
    "import re\n",
    "pattern=\"VATS\"\n",
    "text = \"vatssal chauhan\"\n",
    "match=re.search(pattern,text,re.IGNORECASE)\n",
    "print(match)\n",
    "print(type(match))\n",
    "print(match.group())\n"
   ]
  },
  {
   "cell_type": "code",
   "execution_count": 30,
   "metadata": {},
   "outputs": [
    {
     "name": "stdout",
     "output_type": "stream",
     "text": [
      "['v', 'a', 't', 's', 'a', 'l', ' ', 'c', 'h', 'a', 'u', 'h', 'a', 'n', ' ', 'i', 'd', ' ', 'i', 's', ' ', 'd', 'i', 't']\n",
      "<re.Match object; span=(0, 1), match='v'>\n",
      "<re.Match object; span=(1, 2), match='a'>\n",
      "<re.Match object; span=(2, 3), match='t'>\n",
      "<re.Match object; span=(3, 4), match='s'>\n",
      "<re.Match object; span=(4, 5), match='a'>\n",
      "<re.Match object; span=(5, 6), match='l'>\n",
      "<re.Match object; span=(6, 7), match=' '>\n",
      "<re.Match object; span=(7, 8), match='c'>\n",
      "<re.Match object; span=(8, 9), match='h'>\n",
      "<re.Match object; span=(9, 10), match='a'>\n",
      "<re.Match object; span=(10, 11), match='u'>\n",
      "<re.Match object; span=(11, 12), match='h'>\n",
      "<re.Match object; span=(12, 13), match='a'>\n",
      "<re.Match object; span=(13, 14), match='n'>\n",
      "<re.Match object; span=(14, 15), match=' '>\n",
      "<re.Match object; span=(15, 16), match='i'>\n",
      "<re.Match object; span=(16, 17), match='d'>\n",
      "<re.Match object; span=(17, 18), match=' '>\n",
      "<re.Match object; span=(18, 19), match='i'>\n",
      "<re.Match object; span=(19, 20), match='s'>\n",
      "<re.Match object; span=(20, 21), match=' '>\n",
      "<re.Match object; span=(23, 24), match='d'>\n",
      "<re.Match object; span=(24, 25), match='i'>\n",
      "<re.Match object; span=(25, 26), match='t'>\n",
      "['v', 'a', 't', 's', 'a', 'l', ' ', 'c', 'h', 'a', 'u', 'h', 'a', 'n', ' ', 'i', 'd', ' ', 'i', 's', ' ', 'd', 'i', 't']\n"
     ]
    }
   ],
   "source": [
    "pattern = r'\\D'\n",
    "text = \"vatsal chauhan id is 21dit009\"\n",
    "temp = re.finditer(pattern,text)\n",
    "print(re.findall(pattern,text))\n",
    "for i in temp:\n",
    "    print(i)\n",
    "\n",
    "print(re.findall(pattern,text))"
   ]
  },
  {
   "cell_type": "code",
   "execution_count": 52,
   "metadata": {},
   "outputs": [
    {
     "name": "stdout",
     "output_type": "stream",
     "text": [
      "['Vatsal@123']\n"
     ]
    }
   ],
   "source": [
    "text = \"helllo emails of all students are 21dit009@gmail.com  21ce148@charusat.edu.in vatsal vatsalchauhan009@gmail.com\"\n",
    "text=\"Vatsal@123\"\n",
    "pattern=r'^[A-Z]\\w+@\\d+'\n",
    "print(re.findall(pattern,text))"
   ]
  },
  {
   "cell_type": "code",
   "execution_count": 56,
   "metadata": {},
   "outputs": [
    {
     "data": {
      "text/plain": [
       "['192.0.2.126']"
      ]
     },
     "execution_count": 56,
     "metadata": {},
     "output_type": "execute_result"
    }
   ],
   "source": [
    "'''\n",
    "Given an IP address as input, write a Python program to find the type of IP address i.e. either IPv4 or IPv6. If the given is neither of them then print neither. \n",
    "'''\n",
    "#192.0.2.126\n",
    "text = input(\"enter your ip address\")\n",
    "pattern1 = r'\\d{3}\\.\\d\\.\\d\\.\\d{3}'\n",
    "pattern2= r''\n",
    "re.findall(pattern1,text)"
   ]
  },
  {
   "cell_type": "code",
   "execution_count": 60,
   "metadata": {},
   "outputs": [
    {
     "data": {
      "text/plain": [
       "['',\n",
       " '',\n",
       " '',\n",
       " '',\n",
       " '',\n",
       " '',\n",
       " '',\n",
       " '',\n",
       " '',\n",
       " '',\n",
       " '',\n",
       " '',\n",
       " '',\n",
       " '',\n",
       " '',\n",
       " '',\n",
       " '',\n",
       " '',\n",
       " '',\n",
       " '',\n",
       " '',\n",
       " '',\n",
       " '',\n",
       " '',\n",
       " '',\n",
       " '',\n",
       " '',\n",
       " '',\n",
       " '',\n",
       " '',\n",
       " '',\n",
       " '',\n",
       " '',\n",
       " '',\n",
       " '',\n",
       " '',\n",
       " '',\n",
       " '',\n",
       " '',\n",
       " '',\n",
       " '',\n",
       " '',\n",
       " '',\n",
       " '',\n",
       " '',\n",
       " '',\n",
       " '',\n",
       " '',\n",
       " '',\n",
       " '',\n",
       " '',\n",
       " '',\n",
       " '',\n",
       " '',\n",
       " '',\n",
       " '',\n",
       " '',\n",
       " '',\n",
       " '',\n",
       " '',\n",
       " '']"
      ]
     },
     "execution_count": 60,
     "metadata": {},
     "output_type": "execute_result"
    }
   ],
   "source": [
    "'''\n",
    "<b>Gfg</b> is <b>Best</b>. I love <b>Reading CS</b> from it. \n",
    "'''\n",
    "text = \"<b>Gfg</b> is <b>Best</b>. I love <b>Reading CS</b> from it.\"\n",
    "pattern = r''\n",
    "\n",
    "re.findall(pattern,text)"
   ]
  },
  {
   "cell_type": "code",
   "execution_count": 77,
   "metadata": {},
   "outputs": [
    {
     "data": {
      "text/plain": [
       "24"
      ]
     },
     "execution_count": 77,
     "metadata": {},
     "output_type": "execute_result"
    }
   ],
   "source": [
    "'''\n",
    "file handling\n",
    "'''\n",
    "f = open(\"hello.txt\",'w+')\n",
    "\n",
    "f.write(\"this is hello world file\")\n"
   ]
  },
  {
   "cell_type": "code",
   "execution_count": 97,
   "metadata": {},
   "outputs": [],
   "source": [
    "f2 = open(\"demo.txt\",'a')\n"
   ]
  },
  {
   "cell_type": "code",
   "execution_count": 98,
   "metadata": {},
   "outputs": [
    {
     "ename": "TypeError",
     "evalue": "_IOBase.writelines() takes exactly one argument (2 given)",
     "output_type": "error",
     "traceback": [
      "\u001b[1;31m---------------------------------------------------------------------------\u001b[0m",
      "\u001b[1;31mTypeError\u001b[0m                                 Traceback (most recent call last)",
      "Cell \u001b[1;32mIn[98], line 3\u001b[0m\n\u001b[0;32m      1\u001b[0m f\u001b[38;5;241m.\u001b[39mseek(\u001b[38;5;241m0\u001b[39m)\n\u001b[0;32m      2\u001b[0m temp \u001b[38;5;241m=\u001b[39m f\u001b[38;5;241m.\u001b[39mread()\n\u001b[1;32m----> 3\u001b[0m f2\u001b[38;5;241m.\u001b[39mwritelines(\u001b[38;5;124m\"\u001b[39m\u001b[38;5;130;01m\\n\u001b[39;00m\u001b[38;5;130;01m\\n\u001b[39;00m\u001b[38;5;130;01m\\n\u001b[39;00m\u001b[38;5;130;01m\\n\u001b[39;00m\u001b[38;5;130;01m\\n\u001b[39;00m\u001b[38;5;130;01m\\n\u001b[39;00m\u001b[38;5;130;01m\\n\u001b[39;00m\u001b[38;5;124m\"\u001b[39m,temp)\n\u001b[0;32m      4\u001b[0m f2\u001b[38;5;241m.\u001b[39mclose()\n",
      "\u001b[1;31mTypeError\u001b[0m: _IOBase.writelines() takes exactly one argument (2 given)"
     ]
    }
   ],
   "source": [
    "f.seek(0)\n",
    "temp = f.read()\n",
    "f2.writelines(\"\\n\\n\\n\\n\\n\\n\\n\",temp)\n",
    "f2.close()\n",
    "\n",
    "\n"
   ]
  },
  {
   "cell_type": "code",
   "execution_count": 105,
   "metadata": {},
   "outputs": [],
   "source": [
    "import json\n",
    "dict ={\n",
    "    \"student1\":{\n",
    "        \"name\":\"vatsal\",\n",
    "        \"age\":21\n",
    "    },\n",
    "    \"student2\":{\n",
    "        \"name\":\"vraj\",\n",
    "        \"age\":25\n",
    "    },\n",
    "    \"student3\":{\n",
    "        \"name\":\"aneri\",\n",
    "        \"age\":91\n",
    "    },\n",
    "} \n",
    "with open(\"demo.txt\",'w') as f3:\n",
    "    json.dump(dict,f3)\n",
    "    "
   ]
  },
  {
   "cell_type": "code",
   "execution_count": 132,
   "metadata": {},
   "outputs": [
    {
     "name": "stdout",
     "output_type": "stream",
     "text": [
      "aneri\n"
     ]
    }
   ],
   "source": [
    "with open(\"demo2.txt\") as f4:\n",
    "    \n",
    "    s = f4.read().lower().replace(\",\",\" \").replace(\".\",\" \").split()\n",
    "    dict = {}\n",
    "    for i in s:\n",
    "        dict[i] = 0\n",
    "    for i in s:\n",
    "        dict[i]+=1\n",
    "    \n",
    "    temp = max(dict.values())\n",
    "\n",
    "    for i,j in dict.items():\n",
    "        if j==temp:\n",
    "            print(i)\n",
    "            \n"
   ]
  },
  {
   "cell_type": "code",
   "execution_count": null,
   "metadata": {},
   "outputs": [],
   "source": []
  }
 ],
 "metadata": {
  "kernelspec": {
   "display_name": "base",
   "language": "python",
   "name": "python3"
  },
  "language_info": {
   "codemirror_mode": {
    "name": "ipython",
    "version": 3
   },
   "file_extension": ".py",
   "mimetype": "text/x-python",
   "name": "python",
   "nbconvert_exporter": "python",
   "pygments_lexer": "ipython3",
   "version": "3.12.7"
  }
 },
 "nbformat": 4,
 "nbformat_minor": 2
}
