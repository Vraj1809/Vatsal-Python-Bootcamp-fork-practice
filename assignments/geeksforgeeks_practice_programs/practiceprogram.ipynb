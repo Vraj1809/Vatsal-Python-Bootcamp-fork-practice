{
 "cells": [
  {
   "cell_type": "markdown",
   "metadata": {},
   "source": [
    "Python Conditional Statement Exercises"
   ]
  },
  {
   "cell_type": "code",
   "execution_count": 16,
   "metadata": {},
   "outputs": [
    {
     "name": "stdout",
     "output_type": "stream",
     "text": [
      "1=1\n",
      "1+2=3\n",
      "1+2+3=6\n",
      "1+2+3+4=10\n",
      "1+2+3+4+5=15\n"
     ]
    }
   ],
   "source": [
    "'''\n",
    "Given a natural number n, the task is to write a Python program to first find the sum of first n natural numbers and then print each step as a pattern \n",
    "'''\n",
    "n = int(input(\"enter n\"))\n",
    "sum =0\n",
    "for i in range(1,n+1):\n",
    "    temp = []\n",
    "    for j in range(1,i+1):\n",
    "        \n",
    "        temp.append(str(j))\n",
    "    temp2 = \"+\".join(temp)\n",
    "    sum = sum+i  \n",
    "    print(f\"{temp2}={sum}\")\n",
    "    \n",
    "\n",
    "\n"
   ]
  },
  {
   "cell_type": "code",
   "execution_count": 19,
   "metadata": {},
   "outputs": [
    {
     "name": "stdout",
     "output_type": "stream",
     "text": [
      "not prime\n"
     ]
    }
   ],
   "source": [
    "'''\n",
    "Given a positive integer N, the task is to write a Python program to check if the number is Prime or not in Python. \n",
    "'''\n",
    "x = int(input(\"write a number : \"))\n",
    "c =0\n",
    "for i in range(1,x+1):\n",
    "    if(x%i==0):\n",
    "        c+=1\n",
    "if c==2:\n",
    "    print(\"prime\")\n",
    "else:\n",
    "    print(\"not prime\")\n"
   ]
  },
  {
   "cell_type": "markdown",
   "metadata": {},
   "source": [
    "list\n"
   ]
  },
  {
   "cell_type": "code",
   "execution_count": 20,
   "metadata": {},
   "outputs": [
    {
     "name": "stdout",
     "output_type": "stream",
     "text": [
      "10\n",
      "10\n"
     ]
    }
   ],
   "source": [
    "print(max(2,10))\n",
    "print(min(10,20))\n"
   ]
  },
  {
   "cell_type": "code",
   "execution_count": 22,
   "metadata": {},
   "outputs": [
    {
     "name": "stdout",
     "output_type": "stream",
     "text": [
      "1 8\n"
     ]
    }
   ],
   "source": [
    "'''\n",
    "Given a list, write a Python program to swap the first and last element of the list using \n",
    "'''\n",
    "s = input('insert a list')\n",
    "ls = list(s.split())\n",
    "print(ls[0],ls[-1])"
   ]
  },
  {
   "cell_type": "code",
   "execution_count": 24,
   "metadata": {},
   "outputs": [
    {
     "name": "stdout",
     "output_type": "stream",
     "text": [
      "[50, 20, 30, 40, 10]\n"
     ]
    }
   ],
   "source": [
    "a = [10, 20, 30, 40, 50]\n",
    "\n",
    "a[0], a[4] = a[4], a[0]\n",
    "\n",
    "print(a)"
   ]
  },
  {
   "cell_type": "markdown",
   "metadata": {},
   "source": [
    "Strings"
   ]
  },
  {
   "cell_type": "code",
   "execution_count": 25,
   "metadata": {},
   "outputs": [
    {
     "name": "stdout",
     "output_type": "stream",
     "text": [
      "ml ai chauhan vatsal\n"
     ]
    }
   ],
   "source": [
    "'''\n",
    "We are given a string and we need to reverse words of a given string \n",
    "'''\n",
    "\n",
    "s = input(\"enter a string \")\n",
    "t = list(s.split())\n",
    "y = t[::-1]\n",
    "ans = \" \".join(y)\n",
    "print(ans)"
   ]
  },
  {
   "cell_type": "code",
   "execution_count": 26,
   "metadata": {},
   "outputs": [
    {
     "name": "stdout",
     "output_type": "stream",
     "text": [
      "5\n"
     ]
    }
   ],
   "source": [
    "'''\n",
    "Find Length of String in Python \n",
    "'''\n",
    "s = \"vatsal chauhan\"\n",
    "print(len(a))"
   ]
  },
  {
   "cell_type": "code",
   "execution_count": 27,
   "metadata": {},
   "outputs": [
    {
     "name": "stdout",
     "output_type": "stream",
     "text": [
      "['vatsal', 'am']\n"
     ]
    }
   ],
   "source": [
    "'''\n",
    "Given a string. The task is to print all words with even length in the given string. \n",
    "'''\n",
    "s = input(\"enter string\")\n",
    "ls= list(s.split())\n",
    "ans=[]\n",
    "for i in ls:\n",
    "    if len(i)%2==0:\n",
    "        ans.append(i)\n",
    "print(ans)"
   ]
  },
  {
   "cell_type": "code",
   "execution_count": 32,
   "metadata": {},
   "outputs": [
    {
     "data": {
      "text/plain": [
       "'palindrome'"
      ]
     },
     "execution_count": 32,
     "metadata": {},
     "output_type": "execute_result"
    }
   ],
   "source": [
    "'''\n",
    "Python program to check whether the string is Symmetrical or Palindrome \n",
    "'''\n",
    "\n",
    "def Palindrome_check(s):\n",
    "    for i in range(len(s)//2):\n",
    "        if s[i]!=s[len(s)-i-1]:\n",
    "          print(\"not plaindrome\")\n",
    "          return\n",
    "    return \"palindrome\"    \n",
    "\n",
    "s = input(\"enter a valid string\")\n",
    "Palindrome_check(s)\n",
    "\n",
    "\n",
    "        \n",
    "\n"
   ]
  },
  {
   "cell_type": "markdown",
   "metadata": {},
   "source": [
    "Tuple"
   ]
  },
  {
   "cell_type": "code",
   "execution_count": 36,
   "metadata": {},
   "outputs": [
    {
     "name": "stdout",
     "output_type": "stream",
     "text": [
      "[3, 1, 7, 18, 9]\n"
     ]
    }
   ],
   "source": [
    "est_tup = [3, 7, 1, 18, 9]\n",
    "k = 2 \n",
    "for i in range(k):\n",
    "    for j in range(len(est_tup)-1):\n",
    "        if est_tup[i]>est_tup[i+1]:\n",
    "            t = est_tup[i]\n",
    "            est_tup[i] = est_tup[i+1]\n",
    "            est_tup[i+1] = t\n",
    "print(est_tup)"
   ]
  },
  {
   "cell_type": "code",
   "execution_count": 75,
   "metadata": {},
   "outputs": [
    {
     "name": "stdout",
     "output_type": "stream",
     "text": [
      "[['gfg', 3, 1], ['best', 1, 2]]\n"
     ]
    }
   ],
   "source": [
    "test_list = [[('gfg',3),('best',1)]]\n",
    "cus_eles = [1, 2]\n",
    "ans=[]\n",
    "for i,j in enumerate(test_list):\n",
    "\n",
    "    for x,y in enumerate(j):\n",
    "             temp = list(y)\n",
    "             temp.append(cus_eles[x])\n",
    "             ans.append(temp)\n",
    "print(ans)             "
   ]
  },
  {
   "cell_type": "code",
   "execution_count": 78,
   "metadata": {},
   "outputs": [
    {
     "name": "stdout",
     "output_type": "stream",
     "text": [
      "[(1, 1), (2, 8), (3, 27), (4, 64), (5, 125), (6, 216)]\n"
     ]
    }
   ],
   "source": [
    "'''\n",
    "Given a list of numbers of list, write a Python program to create a list of tuples having first element as the number and second element as the cube of the number.\n",
    "''' \n",
    "ls = [1,2,3,4,5,6]\n",
    "ans=[]\n",
    "\n",
    "for i in ls:\n",
    "    t = i**3\n",
    "    temp = []\n",
    "    temp.append(i)\n",
    "    temp.append(t)\n",
    "    tpl = tuple(temp)\n",
    "    ans.append(tpl)\n",
    "print(ans)"
   ]
  },
  {
   "cell_type": "markdown",
   "metadata": {},
   "source": [
    "Dictionaries"
   ]
  },
  {
   "cell_type": "code",
   "execution_count": null,
   "metadata": {},
   "outputs": [
    {
     "ename": "TypeError",
     "evalue": "list.append() takes no keyword arguments",
     "output_type": "error",
     "traceback": [
      "\u001b[1;31m---------------------------------------------------------------------------\u001b[0m",
      "\u001b[1;31mTypeError\u001b[0m                                 Traceback (most recent call last)",
      "Cell \u001b[1;32mIn[87], line 7\u001b[0m\n\u001b[0;32m      5\u001b[0m ans\u001b[38;5;241m=\u001b[39m[]\n\u001b[0;32m      6\u001b[0m \u001b[38;5;28;01mfor\u001b[39;00m i \u001b[38;5;129;01min\u001b[39;00m ls:\n\u001b[1;32m----> 7\u001b[0m     ans\u001b[38;5;241m.\u001b[39mappend(i\u001b[38;5;241m=\u001b[39m d[i]) \n\u001b[0;32m      8\u001b[0m ans\n",
      "\u001b[1;31mTypeError\u001b[0m: list.append() takes no keyword arguments"
     ]
    }
   ],
   "source": [
    "d = {'ravi': 10, 'rajnish': 9, 'sanjeev': 15}\n",
    "\n",
    "ls = list(d.keys())\n",
    "ls.sort()\n",
    "ans=[i:d[i] for i in ls]\n",
    "\n",
    "\n",
    "\n",
    "    "
   ]
  },
  {
   "cell_type": "code",
   "execution_count": 89,
   "metadata": {},
   "outputs": [
    {
     "name": "stdout",
     "output_type": "stream",
     "text": [
      "600\n"
     ]
    }
   ],
   "source": [
    "'''\n",
    "Given a dictionary in Python, write a Python program to find the sum of all items in the dictionary. \n",
    "'''\n",
    "\n",
    "dict = {'a': 100, 'b':200, 'c':300}\n",
    "sum =0\n",
    "\n",
    "for i in dict.values():\n",
    "    sum = sum+i\n",
    "print(sum)"
   ]
  },
  {
   "cell_type": "code",
   "execution_count": 91,
   "metadata": {},
   "outputs": [
    {
     "data": {
      "text/plain": [
       "184"
      ]
     },
     "execution_count": 91,
     "metadata": {},
     "output_type": "execute_result"
    }
   ],
   "source": [
    "import sys\n",
    "sys.getsizeof(dict)"
   ]
  },
  {
   "cell_type": "markdown",
   "metadata": {},
   "source": [
    "sets"
   ]
  },
  {
   "cell_type": "code",
   "execution_count": 93,
   "metadata": {},
   "outputs": [
    {
     "name": "stdout",
     "output_type": "stream",
     "text": [
      "64\n"
     ]
    }
   ],
   "source": [
    "s = {}\n",
    "print(sys.getsizeof(s))"
   ]
  },
  {
   "cell_type": "code",
   "execution_count": 130,
   "metadata": {},
   "outputs": [
    {
     "ename": "NameError",
     "evalue": "name 'st' is not defined",
     "output_type": "error",
     "traceback": [
      "\u001b[1;31m---------------------------------------------------------------------------\u001b[0m",
      "\u001b[1;31mNameError\u001b[0m                                 Traceback (most recent call last)",
      "Cell \u001b[1;32mIn[130], line 2\u001b[0m\n\u001b[0;32m      1\u001b[0m se \u001b[38;5;241m=\u001b[39m ([\u001b[38;5;241m8\u001b[39m, \u001b[38;5;241m16\u001b[39m, \u001b[38;5;241m24\u001b[39m, \u001b[38;5;241m1\u001b[39m, \u001b[38;5;241m25\u001b[39m, \u001b[38;5;241m3\u001b[39m, \u001b[38;5;241m10\u001b[39m, \u001b[38;5;241m65\u001b[39m, \u001b[38;5;241m55\u001b[39m])\n\u001b[1;32m----> 2\u001b[0m \u001b[38;5;28mmax\u001b[39m(st)\n",
      "\u001b[1;31mNameError\u001b[0m: name 'st' is not defined"
     ]
    }
   ],
   "source": [
    "se = ([8, 16, 24, 1, 25, 3, 10, 65, 55])\n",
    "max(st)"
   ]
  },
  {
   "cell_type": "code",
   "execution_count": null,
   "metadata": {},
   "outputs": [],
   "source": []
  },
  {
   "cell_type": "code",
   "execution_count": 132,
   "metadata": {},
   "outputs": [
    {
     "ename": "TypeError",
     "evalue": "'list' object is not callable",
     "output_type": "error",
     "traceback": [
      "\u001b[1;31m---------------------------------------------------------------------------\u001b[0m",
      "\u001b[1;31mTypeError\u001b[0m                                 Traceback (most recent call last)",
      "Cell \u001b[1;32mIn[132], line 2\u001b[0m\n\u001b[0;32m      1\u001b[0m lst \u001b[38;5;241m=\u001b[39m[\u001b[38;5;241m1\u001b[39m,\u001b[38;5;241m2\u001b[39m,\u001b[38;5;241m3\u001b[39m,\u001b[38;5;241m4\u001b[39m]\n\u001b[1;32m----> 2\u001b[0m temp \u001b[38;5;241m=\u001b[39m \u001b[38;5;28mset\u001b[39m(lst)\n",
      "\u001b[1;31mTypeError\u001b[0m: 'list' object is not callable"
     ]
    }
   ],
   "source": [
    "lst =[1,2,3,4]\n",
    "temp = set(lst)"
   ]
  }
 ],
 "metadata": {
  "kernelspec": {
   "display_name": "base",
   "language": "python",
   "name": "python3"
  },
  "language_info": {
   "codemirror_mode": {
    "name": "ipython",
    "version": 3
   },
   "file_extension": ".py",
   "mimetype": "text/x-python",
   "name": "python",
   "nbconvert_exporter": "python",
   "pygments_lexer": "ipython3",
   "version": "3.12.7"
  }
 },
 "nbformat": 4,
 "nbformat_minor": 2
}
