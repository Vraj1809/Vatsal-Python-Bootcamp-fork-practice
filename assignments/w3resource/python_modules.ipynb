{
 "cells": [
  {
   "cell_type": "code",
   "execution_count": 43,
   "metadata": {},
   "outputs": [
    {
     "name": "stdout",
     "output_type": "stream",
     "text": [
      "0.5390815646058106\n"
     ]
    }
   ],
   "source": [
    "import random\n",
    "ls = [2,3,4,6]\n",
    "random.seed(30)\n",
    "print(random.random())"
   ]
  },
  {
   "cell_type": "code",
   "execution_count": 48,
   "metadata": {},
   "outputs": [
    {
     "name": "stdout",
     "output_type": "stream",
     "text": [
      "{'name': 'vatsal', 'age': 21}\n"
     ]
    }
   ],
   "source": [
    "import copy\n",
    "\n",
    "dict1 = {\n",
    "    'name':\"vatsal\",\n",
    "    'age':21\n",
    "}\n",
    "dict2 = copy.copy(dict1)\n",
    "dict1['name']='prince'\n",
    "print(dict2)"
   ]
  },
  {
   "cell_type": "code",
   "execution_count": 63,
   "metadata": {},
   "outputs": [
    {
     "name": "stdout",
     "output_type": "stream",
     "text": [
      "nt\n",
      "d:\\Python-Bootcamp\\assignments\\w3resource\n",
      "vatsal\n"
     ]
    }
   ],
   "source": [
    "'os'\n",
    "import os\n",
    "print(os.name)\n",
    "print(os.getcwd())\n",
    "try:\n",
    "   filename = 'abc.txt'\n",
    "   f = open(filename, 'r')\n",
    "   text = f.read()\n",
    "   f.close()\n",
    "except IOError:\n",
    "   print('Not accessed or problem in reading: ' + filename)\n",
    "print(text)"
   ]
  },
  {
   "cell_type": "code",
   "execution_count": 77,
   "metadata": {},
   "outputs": [
    {
     "name": "stdout",
     "output_type": "stream",
     "text": [
      "['letters']\n",
      "['abc.txt', 'advanced_python_datatype.ipynb', 'byte_checker.bin', 'Classes.ipynb', 'control_flow.ipynb', 'datastruccture.ipynb', 'datetime_python.ipynb', 'demo1.txt', 'exception_handling_python.ipynb', 'file_input_output.ipynb', 'funtional_programming.ipynb', 'jsonfile1.json', 'jsonfile2.json', 'masteringpython.ipynb', 'multithreading.ipynb', 'new_binary.bin', 'Object_oriented_programming.ipynb', 'old_binary_file.bin', 'python_basic_parrt2.ipynb', 'python_datatypes.ipynb', 'python_modules.ipynb', 'python_programming_puzzle.ipynb', 'python_unit_testing.py', 'recurssion.ipynb', 'regu.ipynb', 'temp.csv']\n",
      "letters\n"
     ]
    }
   ],
   "source": [
    "path1 = \"D:\\\\Python-Bootcamp\\\\assignments\\\\w3resource\"\n",
    "print([ name for name in os.listdir(path1) if os.path.isdir(os.path.join(path1, name)) ])\n",
    "print([ name for name in os.listdir(path1) if not  os.path.isdir(os.path.join(path1, name)) ])\n",
    "\n",
    "for i in os.listdir(path1):\n",
    "    if os.path.isdir(i):\n",
    "       print(i)"
   ]
  },
  {
   "cell_type": "code",
   "execution_count": 94,
   "metadata": {},
   "outputs": [
    {
     "name": "stdout",
     "output_type": "stream",
     "text": [
      "b'\\x83\\xf8{\\xccH\\xd2Y{\\x004\\x03\\xc7\\xf5X\\xe7'\n",
      "{'Date': 'Thu, 09 Jan 2025 12:52:52 GMT', 'Content-Type': 'text/html; charset=UTF-8', 'Transfer-Encoding': 'chunked', 'Connection': 'keep-alive', 'Vary': 'Accept-Encoding', 'CF-Cache-Status': 'DYNAMIC', 'Report-To': '{\"endpoints\":[{\"url\":\"https:\\\\/\\\\/a.nel.cloudflare.com\\\\/report\\\\/v4?s=mcZp8qQeZsy8B8dUG9ih1JOc3BjrY6mn5WtPFdCBtf%2BdFWHFFFKk2drL%2FGvv%2F47Bs3bIjmosCtZQ7oJ%2FdskPqOgneqRI8jLozqJGqP5HK70qyEQdQe59XVqlHEaQjWIRtjBo0A%3D%3D\"}],\"group\":\"cf-nel\",\"max_age\":604800}', 'NEL': '{\"success_fraction\":0,\"report_to\":\"cf-nel\",\"max_age\":604800}', 'Server': 'cloudflare', 'CF-RAY': '8ff491231b5640b7-BOM', 'Content-Encoding': 'br', 'server-timing': 'cfL4;desc=\"?proto=TCP&rtt=14294&min_rtt=13679&rtt_var=6360&sent=4&recv=6&lost=0&retrans=0&sent_bytes=2846&recv_bytes=833&delivery_rate=156980&cwnd=239&unsent_bytes=0&cid=f7602985acb3a55f&ts=326&x=0\"'}\n",
      "{'current_user_url': 'https://api.github.com/user', 'current_user_authorizations_html_url': 'https://github.com/settings/connections/applications{/client_id}', 'authorizations_url': 'https://api.github.com/authorizations', 'code_search_url': 'https://api.github.com/search/code?q={query}{&page,per_page,sort,order}', 'commit_search_url': 'https://api.github.com/search/commits?q={query}{&page,per_page,sort,order}', 'emails_url': 'https://api.github.com/user/emails', 'emojis_url': 'https://api.github.com/emojis', 'events_url': 'https://api.github.com/events', 'feeds_url': 'https://api.github.com/feeds', 'followers_url': 'https://api.github.com/user/followers', 'following_url': 'https://api.github.com/user/following{/target}', 'gists_url': 'https://api.github.com/gists{/gist_id}', 'hub_url': 'https://api.github.com/hub', 'issue_search_url': 'https://api.github.com/search/issues?q={query}{&page,per_page,sort,order}', 'issues_url': 'https://api.github.com/issues', 'keys_url': 'https://api.github.com/user/keys', 'label_search_url': 'https://api.github.com/search/labels?q={query}&repository_id={repository_id}{&page,per_page}', 'notifications_url': 'https://api.github.com/notifications', 'organization_url': 'https://api.github.com/orgs/{org}', 'organization_repositories_url': 'https://api.github.com/orgs/{org}/repos{?type,page,per_page,sort}', 'organization_teams_url': 'https://api.github.com/orgs/{org}/teams', 'public_gists_url': 'https://api.github.com/gists/public', 'rate_limit_url': 'https://api.github.com/rate_limit', 'repository_url': 'https://api.github.com/repos/{owner}/{repo}', 'repository_search_url': 'https://api.github.com/search/repositories?q={query}{&page,per_page,sort,order}', 'current_user_repositories_url': 'https://api.github.com/user/repos{?type,page,per_page,sort}', 'starred_url': 'https://api.github.com/user/starred{/owner}{/repo}', 'starred_gists_url': 'https://api.github.com/gists/starred', 'topic_search_url': 'https://api.github.com/search/topics?q={query}{&page,per_page}', 'user_url': 'https://api.github.com/users/{user}', 'user_organizations_url': 'https://api.github.com/user/orgs', 'user_repositories_url': 'https://api.github.com/users/{user}/repos{?type,page,per_page,sort}', 'user_search_url': 'https://api.github.com/search/users?q={query}{&page,per_page,sort,order}'}\n"
     ]
    }
   ],
   "source": [
    "'requests module'\n",
    "import requests\n",
    "res = requests.get(\"https://www.w3resource.com/python-exercises/requests/python-request-exercise-1.php\",stream=True)\n",
    "print(res.raw.read(15))\n",
    "print(res.headers)\n",
    "r = requests.get('https://api.github.com/')\n",
    "\n",
    "print(r.json())\n"
   ]
  },
  {
   "cell_type": "code",
   "execution_count": 99,
   "metadata": {},
   "outputs": [
    {
     "name": "stdout",
     "output_type": "stream",
     "text": [
      "Agent details:\n",
      "(5001, 'James Hoog', 'New York', 0.15)\n",
      "(5002, 'Nail Knite', 'Paris', 0.25)\n",
      "(5003, 'Pit Alex', 'London', 0.15)\n",
      "(5004, 'Mc Lyon', 'Paris', 0.35)\n",
      "(5005, 'Paul Adam', 'Rome', 0.45)\n",
      "\n",
      "The SQLite connection is closed.\n"
     ]
    }
   ],
   "source": [
    "import sqlite3\n",
    " \n",
    "from sqlite3 import Error\n",
    " \n",
    "def sql_connection():\n",
    "   try:\n",
    "     conn = sqlite3.connect('mydatabase.db')\n",
    "     return conn\n",
    "   except Error:\n",
    "     print(Error)\n",
    " \n",
    "def sql_table(conn):\n",
    "   cursorObj = conn.cursor()\n",
    "# Create the table\n",
    "   cursorObj.execute(\"CREATE TABLE salesman(salesman_id n(5), name char(30), city char(35), commission decimal(7,2));\")\n",
    "# Insert records\n",
    "   cursorObj.executescript(\"\"\"\n",
    "   INSERT INTO salesman VALUES(5001,'James Hoog', 'New York', 0.15);\n",
    "   INSERT INTO salesman VALUES(5002,'Nail Knite', 'Paris', 0.25);\n",
    "   INSERT INTO salesman VALUES(5003,'Pit Alex', 'London', 0.15);\n",
    "   INSERT INTO salesman VALUES(5004,'Mc Lyon', 'Paris', 0.35);\n",
    "   INSERT INTO salesman VALUES(5005,'Paul Adam', 'Rome', 0.45);\n",
    "   \"\"\")\n",
    "   conn.commit()\n",
    "   cursorObj.execute(\"SELECT * FROM salesman\")\n",
    "   rows = cursorObj.fetchall()\n",
    "   print(\"Agent details:\")\n",
    "   for row in rows:\n",
    "       print(row)\n",
    "sqllite_conn = sql_connection()\n",
    "sql_table(sqllite_conn)\n",
    "if (sqllite_conn):\n",
    " sqllite_conn.close()\n",
    " print(\"\\nThe SQLite connection is closed.\")"
   ]
  }
 ],
 "metadata": {
  "kernelspec": {
   "display_name": "base",
   "language": "python",
   "name": "python3"
  },
  "language_info": {
   "codemirror_mode": {
    "name": "ipython",
    "version": 3
   },
   "file_extension": ".py",
   "mimetype": "text/x-python",
   "name": "python",
   "nbconvert_exporter": "python",
   "pygments_lexer": "ipython3",
   "version": "3.12.7"
  }
 },
 "nbformat": 4,
 "nbformat_minor": 2
}
