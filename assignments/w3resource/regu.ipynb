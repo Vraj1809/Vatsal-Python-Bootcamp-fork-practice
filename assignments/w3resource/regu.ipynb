{
 "cells": [
  {
   "cell_type": "code",
   "execution_count": 14,
   "metadata": {},
   "outputs": [
    {
     "name": "stdout",
     "output_type": "stream",
     "text": [
      "['e e', 'e u']\n"
     ]
    },
    {
     "data": {
      "text/plain": [
       "True"
      ]
     },
     "execution_count": 14,
     "metadata": {},
     "output_type": "execute_result"
    }
   ],
   "source": [
    "'''\n",
    " Write a Python program that takes a string with some words. For two consecutive words in the said string, check whether the first word ends with a vowel and the next word begins with a vowel. If the program meets the condition, return true, otherwise false. Only one space is allowed between the words. \n",
    "'''\n",
    "\n",
    "import re\n",
    "\n",
    "\n",
    "\n",
    "text = \"These exercises can be used for practice.\"\n",
    "pattern = r'[aAeEiIoOuU] [aAeEiIoOuU]'\n",
    "\n",
    "def fun1(text,pattern):\n",
    "    if re.findall(pattern,text):\n",
    "        print(re.findall(pattern,text))\n",
    "        return True\n",
    "    return False\n",
    "\n",
    "fun1(text,pattern)"
   ]
  },
  {
   "cell_type": "code",
   "execution_count": 23,
   "metadata": {},
   "outputs": [
    {
     "name": "stdout",
     "output_type": "stream",
     "text": [
      "['Orange']\n"
     ]
    },
    {
     "data": {
      "text/plain": [
       "True"
      ]
     },
     "execution_count": 23,
     "metadata": {},
     "output_type": "execute_result"
    }
   ],
   "source": [
    "'''\n",
    "Write a Python program that checks whether a word starts and ends with a vowel in a given string. Return true if a word matches the condition; otherwise, return false. \n",
    "'''\n",
    "\n",
    "text = \"Red Orange White\"\n",
    "pattern = r'\\b[aAeEiIoOuU]\\w*[aAeEiIoOuU]\\b'\n",
    "\n",
    "def fun1(text,pattern):\n",
    "    if re.findall(pattern,text):\n",
    "        print(re.findall(pattern,text))\n",
    "        return True\n",
    "    return False\n",
    "\n",
    "fun1(text,pattern)\n"
   ]
  }
 ],
 "metadata": {
  "kernelspec": {
   "display_name": "base",
   "language": "python",
   "name": "python3"
  },
  "language_info": {
   "codemirror_mode": {
    "name": "ipython",
    "version": 3
   },
   "file_extension": ".py",
   "mimetype": "text/x-python",
   "name": "python",
   "nbconvert_exporter": "python",
   "pygments_lexer": "ipython3",
   "version": "3.12.7"
  }
 },
 "nbformat": 4,
 "nbformat_minor": 2
}
