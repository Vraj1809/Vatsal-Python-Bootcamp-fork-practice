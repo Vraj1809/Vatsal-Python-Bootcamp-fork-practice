{
 "cells": [
  {
   "cell_type": "code",
   "execution_count": 7,
   "metadata": {},
   "outputs": [
    {
     "name": "stdout",
     "output_type": "stream",
     "text": [
      "Sam\n",
      "Robert\n",
      "Mark\n",
      "Linda\n",
      "Charles\n",
      "Mary\n",
      "Mark\n"
     ]
    }
   ],
   "source": [
    "import project_package\n",
    "import project_package.random_profile as rp\n",
    "obj = rp.Name(7)\n",
    "\n",
    "obj.first_name()\n",
    "\n",
    "\n",
    "\n"
   ]
  },
  {
   "cell_type": "code",
   "execution_count": 1,
   "metadata": {},
   "outputs": [
    {
     "name": "stdout",
     "output_type": "stream",
     "text": [
      " Aries Daily Horoscope - Aries Horoscope Today \n",
      "Pleasure trips and social get-togethers will keep you relaxed and happy\n",
      "  The arrival of money today can relieve you from many financial troubles\n",
      "  Good day to communicate with people whom you rarely meet\n",
      " Apologize for your rude behaviour in love\n",
      " Your internal strength will equally support you in making the day awesome at work\n",
      " Today, you would like to do all the things that you used to love during your childhood\n",
      "  You might fight today on an old issue with your spouse like he/she forgot your birthday, or something like that\n",
      " But, everything will be alright at the end of the day\n",
      "\n"
     ]
    }
   ],
   "source": [
    "import requests\n",
    "from bs4 import BeautifulSoup\n",
    "\n",
    "rashi = input(\"enter yout Rashi\")\n",
    "\n",
    "try:\n",
    "    res = requests.get(\"https://www.astrosage.com/horoscope/daily-{}-horoscope.asp\".\n",
    " format(rashi))\n",
    "    \n",
    "    if res.status_code==200:\n",
    "           response = BeautifulSoup(res.content,\"html.parser\")\n",
    "           print(response.title.text)\n",
    "           rashi_bhavishya =response.select(\".ui-large-content.text-justify\")\n",
    "           temp = rashi_bhavishya[0].text.split(\".\")\n",
    "           for i in temp:\n",
    "                print(i)\n",
    "                  \n",
    "           \n",
    "except Exception as ex:\n",
    "           print(\"enter a valid Rashi\")\n"
   ]
  },
  {
   "cell_type": "code",
   "execution_count": 20,
   "metadata": {},
   "outputs": [
    {
     "name": "stdout",
     "output_type": "stream",
     "text": [
      "Welcome to the game, to Chalye Shuru Karte Hayy\n",
      "you choose  rock\n",
      "computer chooses rock\n",
      "player1:0 player2:0\n",
      "you choose  rock\n",
      "computer chooses scissor\n",
      "player1:1 player2:0\n",
      "you choose  scissor\n",
      "computer chooses rock\n",
      "player1:1 player2:1\n",
      "you choose  paper\n",
      "computer chooses rock\n",
      "player1:2 player2:1\n",
      "you choose  rock\n",
      "computer chooses paper\n",
      "player1:2 player2:2\n"
     ]
    }
   ],
   "source": [
    "import random\n",
    "game_input_list ={\n",
    "    1:\"rock\",\n",
    "    2:\"paper\",\n",
    "    3:\"scissor\"\n",
    "}\n",
    "\n",
    "class Game:\n",
    "    def __init__(self,n=1,player1=0,player2=0):\n",
    "        self.player1=player1\n",
    "        self.player2=player2\n",
    "        self.n=n\n",
    " \n",
    "    def start_game(self):\n",
    "        print(\"Welcome to the game, to Chalye Shuru Karte Hayy\")\n",
    "        for i in range(self.n):\n",
    "           \n",
    "       \n",
    "    \n",
    "            t1 = int(input(\"Enter your value 1: rock, 2:paper , 3:scissor\"))\n",
    "            print(\"you choose \",game_input_list[t1])\n",
    "            \n",
    "            t2 = random.randint(1,3)\n",
    "            print(\"computer chooses\",game_input_list[t2])\n",
    "\n",
    "            if game_input_list[t1]== game_input_list[t2]:\n",
    "                print(f\"player1:{self.player1} player2:{self.player2}\")\n",
    "            elif game_input_list[t1]==\"rock\" and game_input_list[t2]=='scissor':\n",
    "                 self.player1 = self.player1+1\n",
    "                 print(f\"player1:{self.player1} player2:{self.player2}\")\n",
    "            elif game_input_list[t1]==\"rock\" and game_input_list[t2]=='paper':\n",
    "                 self.player2 = self.player2+1\n",
    "                 print(f\"player1:{self.player1} player2:{self.player2}\")\n",
    "            elif game_input_list[t1]==\"paper\" and game_input_list[t2]=='scissor':\n",
    "                 self.player2 = self.player2+1\n",
    "                 print(f\"player1:{self.player1} player2:{self.player2}\")\n",
    "            elif game_input_list[t1]==\"paper\" and game_input_list[t2]=='rock':\n",
    "                 self.player1 = self.player1+1\n",
    "                 print(f\"player1:{self.player1} player2:{self.player2}\")\n",
    "            elif game_input_list[t1]==\"scissor\" and game_input_list[t2]=='rock':\n",
    "                 self.player2 = self.player2+1\n",
    "                 print(f\"player1:{self.player1} player2:{self.player2}\")\n",
    "            elif game_input_list[t1]==\"scissor\" and game_input_list[t2]=='paper':\n",
    "                 self.player1 = self.player1+1\n",
    "                 print(f\"player1:{self.player1} player2:{self.player2}\")\n",
    "                 \n",
    "           \n",
    "                \n",
    "             \n",
    "\n",
    "\n",
    "g1 = Game(5)\n",
    "g1.start_game()\n"
   ]
  }
 ],
 "metadata": {
  "kernelspec": {
   "display_name": "base",
   "language": "python",
   "name": "python3"
  },
  "language_info": {
   "codemirror_mode": {
    "name": "ipython",
    "version": 3
   },
   "file_extension": ".py",
   "mimetype": "text/x-python",
   "name": "python",
   "nbconvert_exporter": "python",
   "pygments_lexer": "ipython3",
   "version": "3.12.7"
  }
 },
 "nbformat": 4,
 "nbformat_minor": 2
}
