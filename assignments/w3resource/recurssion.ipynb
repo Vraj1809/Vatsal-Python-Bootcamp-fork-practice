{
 "cells": [
  {
   "cell_type": "code",
   "execution_count": 2,
   "metadata": {},
   "outputs": [
    {
     "name": "stdout",
     "output_type": "stream",
     "text": [
      "21\n"
     ]
    }
   ],
   "source": [
    "'''\n",
    "Write a Python program to sum recursion lists using recursion. \n",
    "'''\n",
    "\n",
    "def Fun1(ls):\n",
    "    sum = 0\n",
    "    for i in ls:\n",
    "        if type(i)==type([]):\n",
    "            sum = sum+Fun1(i)\n",
    "        else:\n",
    "            sum = sum+i\n",
    "    return sum\n",
    "\n",
    "\n",
    "Input = [1, 2, [3,4], [5,6]]\n",
    "print(Fun1(Input))\n"
   ]
  },
  {
   "cell_type": "code",
   "execution_count": 8,
   "metadata": {},
   "outputs": [
    {
     "name": "stdout",
     "output_type": "stream",
     "text": [
      "36\n"
     ]
    }
   ],
   "source": [
    "'''\n",
    "Write a Python program to calculate the sum of the positive integers of n+(n-2)+(n-4)... (until n-x =< 0) using recursion . \n",
    "'''\n",
    "\n",
    "def Fun2(n):\n",
    "    if n-2<=0:\n",
    "        return n\n",
    "    \n",
    "    return n + Fun2(n-2)\n",
    "\n",
    "print(Fun2(11))\n"
   ]
  },
  {
   "cell_type": "code",
   "execution_count": null,
   "metadata": {},
   "outputs": [],
   "source": []
  }
 ],
 "metadata": {
  "kernelspec": {
   "display_name": "base",
   "language": "python",
   "name": "python3"
  },
  "language_info": {
   "codemirror_mode": {
    "name": "ipython",
    "version": 3
   },
   "file_extension": ".py",
   "mimetype": "text/x-python",
   "name": "python",
   "nbconvert_exporter": "python",
   "pygments_lexer": "ipython3",
   "version": "3.12.7"
  }
 },
 "nbformat": 4,
 "nbformat_minor": 2
}
