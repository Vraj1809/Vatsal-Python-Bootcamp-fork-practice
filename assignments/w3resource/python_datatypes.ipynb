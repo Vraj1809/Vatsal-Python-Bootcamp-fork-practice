{
 "cells": [
  {
   "cell_type": "markdown",
   "metadata": {},
   "source": [
    "strings\n"
   ]
  },
  {
   "cell_type": "code",
   "execution_count": 16,
   "metadata": {},
   "outputs": [
    {
     "name": "stdout",
     "output_type": "stream",
     "text": [
      "7\n"
     ]
    }
   ],
   "source": [
    "'''\n",
    "Write a Python program that takes two strings. Count the number of times each string contains the same three letters at the same index. \n",
    "'''\n",
    "str1=\"Red White\"\n",
    "str2 = \"Red White\"\n",
    "c = 0\n",
    "for i,j in enumerate(str1):\n",
    "    if i>len(str1)-3:\n",
    "        break\n",
    "    \n",
    "    if str1[i:i+3]==str2[i:i+3]:\n",
    "        \n",
    "        c+=1\n",
    "print(c)\n",
    "\n",
    "\n"
   ]
  },
  {
   "cell_type": "code",
   "execution_count": 20,
   "metadata": {},
   "outputs": [
    {
     "name": "stdout",
     "output_type": "stream",
     "text": [
      "Python Exercises Practice Solution\n"
     ]
    }
   ],
   "source": [
    "'''\n",
    "Write a Python program to insert space before every capital letter appears in a given word. \n",
    "'''\n",
    "import re\n",
    "\n",
    "str1= \"PythonExercisesPracticeSolution\"\n",
    "ans = str1[0]\n",
    "pattern = r'[A-Z]'\n",
    "i =1\n",
    "\n",
    "while i<len(str1):\n",
    "    if re.match(pattern,str1[i]):\n",
    "        ans = ans + \" \" + str1[i]\n",
    "    else:\n",
    "        ans = ans+str1[i]\n",
    "    i=i+1\n",
    "print(ans)\n"
   ]
  },
  {
   "cell_type": "code",
   "execution_count": 25,
   "metadata": {},
   "outputs": [],
   "source": [
    "import json\n",
    "dict = {\n",
    "    \"name\":\"vatsal\",\n",
    "    \"age\":21,\n",
    "    \"job\":\"crest\"\n",
    "}\n",
    "\n",
    "fs1 = open(\"jsonfile1.json\",'w')\n",
    "json.dump(dict,fs1)\n",
    "fs1.close()\n",
    "with open(\"jsonfile2.json\",'w') as fs2:\n",
    "    fs1 = open(\"jsonfile1.json\")\n",
    "    data = fs1.read()\n",
    "    fs2.write(data)"
   ]
  },
  {
   "cell_type": "markdown",
   "metadata": {},
   "source": [
    "LISTs"
   ]
  },
  {
   "cell_type": "code",
   "execution_count": 36,
   "metadata": {},
   "outputs": [
    {
     "name": "stdout",
     "output_type": "stream",
     "text": [
      "[(), (1,), (2,), (3,), (5,), (6,), (7,), (8,), (9,), (10,), (1, 2), (1, 3), (1, 5), (1, 6), (1, 7), (1, 8), (1, 9), (1, 10), (2, 3), (2, 5), (2, 6), (2, 7), (2, 8), (2, 9), (2, 10), (3, 5), (3, 6), (3, 7), (3, 8), (3, 9), (3, 10), (5, 6), (5, 7), (5, 8), (5, 9), (5, 10), (6, 7), (6, 8), (6, 9), (6, 10), (7, 8), (7, 9), (7, 10), (8, 9), (8, 10), (9, 10), (1, 2, 3), (1, 2, 5), (1, 2, 6), (1, 2, 7), (1, 2, 8), (1, 2, 9), (1, 2, 10), (1, 3, 5), (1, 3, 6), (1, 3, 7), (1, 3, 8), (1, 3, 9), (1, 3, 10), (1, 5, 6), (1, 5, 7), (1, 5, 8), (1, 5, 9), (1, 5, 10), (1, 6, 7), (1, 6, 8), (1, 6, 9), (1, 6, 10), (1, 7, 8), (1, 7, 9), (1, 7, 10), (1, 8, 9), (1, 8, 10), (1, 9, 10), (2, 3, 5), (2, 3, 6), (2, 3, 7), (2, 3, 8), (2, 3, 9), (2, 3, 10), (2, 5, 6), (2, 5, 7), (2, 5, 8), (2, 5, 9), (2, 5, 10), (2, 6, 7), (2, 6, 8), (2, 6, 9), (2, 6, 10), (2, 7, 8), (2, 7, 9), (2, 7, 10), (2, 8, 9), (2, 8, 10), (2, 9, 10), (3, 5, 6), (3, 5, 7), (3, 5, 8), (3, 5, 9), (3, 5, 10), (3, 6, 7), (3, 6, 8), (3, 6, 9), (3, 6, 10), (3, 7, 8), (3, 7, 9), (3, 7, 10), (3, 8, 9), (3, 8, 10), (3, 9, 10), (5, 6, 7), (5, 6, 8), (5, 6, 9), (5, 6, 10), (5, 7, 8), (5, 7, 9), (5, 7, 10), (5, 8, 9), (5, 8, 10), (5, 9, 10), (6, 7, 8), (6, 7, 9), (6, 7, 10), (6, 8, 9), (6, 8, 10), (6, 9, 10), (7, 8, 9), (7, 8, 10), (7, 9, 10), (8, 9, 10), (1, 2, 3, 5), (1, 2, 3, 6), (1, 2, 3, 7), (1, 2, 3, 8), (1, 2, 3, 9), (1, 2, 3, 10), (1, 2, 5, 6), (1, 2, 5, 7), (1, 2, 5, 8), (1, 2, 5, 9), (1, 2, 5, 10), (1, 2, 6, 7), (1, 2, 6, 8), (1, 2, 6, 9), (1, 2, 6, 10), (1, 2, 7, 8), (1, 2, 7, 9), (1, 2, 7, 10), (1, 2, 8, 9), (1, 2, 8, 10), (1, 2, 9, 10), (1, 3, 5, 6), (1, 3, 5, 7), (1, 3, 5, 8), (1, 3, 5, 9), (1, 3, 5, 10), (1, 3, 6, 7), (1, 3, 6, 8), (1, 3, 6, 9), (1, 3, 6, 10), (1, 3, 7, 8), (1, 3, 7, 9), (1, 3, 7, 10), (1, 3, 8, 9), (1, 3, 8, 10), (1, 3, 9, 10), (1, 5, 6, 7), (1, 5, 6, 8), (1, 5, 6, 9), (1, 5, 6, 10), (1, 5, 7, 8), (1, 5, 7, 9), (1, 5, 7, 10), (1, 5, 8, 9), (1, 5, 8, 10), (1, 5, 9, 10), (1, 6, 7, 8), (1, 6, 7, 9), (1, 6, 7, 10), (1, 6, 8, 9), (1, 6, 8, 10), (1, 6, 9, 10), (1, 7, 8, 9), (1, 7, 8, 10), (1, 7, 9, 10), (1, 8, 9, 10), (2, 3, 5, 6), (2, 3, 5, 7), (2, 3, 5, 8), (2, 3, 5, 9), (2, 3, 5, 10), (2, 3, 6, 7), (2, 3, 6, 8), (2, 3, 6, 9), (2, 3, 6, 10), (2, 3, 7, 8), (2, 3, 7, 9), (2, 3, 7, 10), (2, 3, 8, 9), (2, 3, 8, 10), (2, 3, 9, 10), (2, 5, 6, 7), (2, 5, 6, 8), (2, 5, 6, 9), (2, 5, 6, 10), (2, 5, 7, 8), (2, 5, 7, 9), (2, 5, 7, 10), (2, 5, 8, 9), (2, 5, 8, 10), (2, 5, 9, 10), (2, 6, 7, 8), (2, 6, 7, 9), (2, 6, 7, 10), (2, 6, 8, 9), (2, 6, 8, 10), (2, 6, 9, 10), (2, 7, 8, 9), (2, 7, 8, 10), (2, 7, 9, 10), (2, 8, 9, 10), (3, 5, 6, 7), (3, 5, 6, 8), (3, 5, 6, 9), (3, 5, 6, 10), (3, 5, 7, 8), (3, 5, 7, 9), (3, 5, 7, 10), (3, 5, 8, 9), (3, 5, 8, 10), (3, 5, 9, 10), (3, 6, 7, 8), (3, 6, 7, 9), (3, 6, 7, 10), (3, 6, 8, 9), (3, 6, 8, 10), (3, 6, 9, 10), (3, 7, 8, 9), (3, 7, 8, 10), (3, 7, 9, 10), (3, 8, 9, 10), (5, 6, 7, 8), (5, 6, 7, 9), (5, 6, 7, 10), (5, 6, 8, 9), (5, 6, 8, 10), (5, 6, 9, 10), (5, 7, 8, 9), (5, 7, 8, 10), (5, 7, 9, 10), (5, 8, 9, 10), (6, 7, 8, 9), (6, 7, 8, 10), (6, 7, 9, 10), (6, 8, 9, 10), (7, 8, 9, 10), (1, 2, 3, 5, 6), (1, 2, 3, 5, 7), (1, 2, 3, 5, 8), (1, 2, 3, 5, 9), (1, 2, 3, 5, 10), (1, 2, 3, 6, 7), (1, 2, 3, 6, 8), (1, 2, 3, 6, 9), (1, 2, 3, 6, 10), (1, 2, 3, 7, 8), (1, 2, 3, 7, 9), (1, 2, 3, 7, 10), (1, 2, 3, 8, 9), (1, 2, 3, 8, 10), (1, 2, 3, 9, 10), (1, 2, 5, 6, 7), (1, 2, 5, 6, 8), (1, 2, 5, 6, 9), (1, 2, 5, 6, 10), (1, 2, 5, 7, 8), (1, 2, 5, 7, 9), (1, 2, 5, 7, 10), (1, 2, 5, 8, 9), (1, 2, 5, 8, 10), (1, 2, 5, 9, 10), (1, 2, 6, 7, 8), (1, 2, 6, 7, 9), (1, 2, 6, 7, 10), (1, 2, 6, 8, 9), (1, 2, 6, 8, 10), (1, 2, 6, 9, 10), (1, 2, 7, 8, 9), (1, 2, 7, 8, 10), (1, 2, 7, 9, 10), (1, 2, 8, 9, 10), (1, 3, 5, 6, 7), (1, 3, 5, 6, 8), (1, 3, 5, 6, 9), (1, 3, 5, 6, 10), (1, 3, 5, 7, 8), (1, 3, 5, 7, 9), (1, 3, 5, 7, 10), (1, 3, 5, 8, 9), (1, 3, 5, 8, 10), (1, 3, 5, 9, 10), (1, 3, 6, 7, 8), (1, 3, 6, 7, 9), (1, 3, 6, 7, 10), (1, 3, 6, 8, 9), (1, 3, 6, 8, 10), (1, 3, 6, 9, 10), (1, 3, 7, 8, 9), (1, 3, 7, 8, 10), (1, 3, 7, 9, 10), (1, 3, 8, 9, 10), (1, 5, 6, 7, 8), (1, 5, 6, 7, 9), (1, 5, 6, 7, 10), (1, 5, 6, 8, 9), (1, 5, 6, 8, 10), (1, 5, 6, 9, 10), (1, 5, 7, 8, 9), (1, 5, 7, 8, 10), (1, 5, 7, 9, 10), (1, 5, 8, 9, 10), (1, 6, 7, 8, 9), (1, 6, 7, 8, 10), (1, 6, 7, 9, 10), (1, 6, 8, 9, 10), (1, 7, 8, 9, 10), (2, 3, 5, 6, 7), (2, 3, 5, 6, 8), (2, 3, 5, 6, 9), (2, 3, 5, 6, 10), (2, 3, 5, 7, 8), (2, 3, 5, 7, 9), (2, 3, 5, 7, 10), (2, 3, 5, 8, 9), (2, 3, 5, 8, 10), (2, 3, 5, 9, 10), (2, 3, 6, 7, 8), (2, 3, 6, 7, 9), (2, 3, 6, 7, 10), (2, 3, 6, 8, 9), (2, 3, 6, 8, 10), (2, 3, 6, 9, 10), (2, 3, 7, 8, 9), (2, 3, 7, 8, 10), (2, 3, 7, 9, 10), (2, 3, 8, 9, 10), (2, 5, 6, 7, 8), (2, 5, 6, 7, 9), (2, 5, 6, 7, 10), (2, 5, 6, 8, 9), (2, 5, 6, 8, 10), (2, 5, 6, 9, 10), (2, 5, 7, 8, 9), (2, 5, 7, 8, 10), (2, 5, 7, 9, 10), (2, 5, 8, 9, 10), (2, 6, 7, 8, 9), (2, 6, 7, 8, 10), (2, 6, 7, 9, 10), (2, 6, 8, 9, 10), (2, 7, 8, 9, 10), (3, 5, 6, 7, 8), (3, 5, 6, 7, 9), (3, 5, 6, 7, 10), (3, 5, 6, 8, 9), (3, 5, 6, 8, 10), (3, 5, 6, 9, 10), (3, 5, 7, 8, 9), (3, 5, 7, 8, 10), (3, 5, 7, 9, 10), (3, 5, 8, 9, 10), (3, 6, 7, 8, 9), (3, 6, 7, 8, 10), (3, 6, 7, 9, 10), (3, 6, 8, 9, 10), (3, 7, 8, 9, 10), (5, 6, 7, 8, 9), (5, 6, 7, 8, 10), (5, 6, 7, 9, 10), (5, 6, 8, 9, 10), (5, 7, 8, 9, 10), (6, 7, 8, 9, 10), (1, 2, 3, 5, 6, 7), (1, 2, 3, 5, 6, 8), (1, 2, 3, 5, 6, 9), (1, 2, 3, 5, 6, 10), (1, 2, 3, 5, 7, 8), (1, 2, 3, 5, 7, 9), (1, 2, 3, 5, 7, 10), (1, 2, 3, 5, 8, 9), (1, 2, 3, 5, 8, 10), (1, 2, 3, 5, 9, 10), (1, 2, 3, 6, 7, 8), (1, 2, 3, 6, 7, 9), (1, 2, 3, 6, 7, 10), (1, 2, 3, 6, 8, 9), (1, 2, 3, 6, 8, 10), (1, 2, 3, 6, 9, 10), (1, 2, 3, 7, 8, 9), (1, 2, 3, 7, 8, 10), (1, 2, 3, 7, 9, 10), (1, 2, 3, 8, 9, 10), (1, 2, 5, 6, 7, 8), (1, 2, 5, 6, 7, 9), (1, 2, 5, 6, 7, 10), (1, 2, 5, 6, 8, 9), (1, 2, 5, 6, 8, 10), (1, 2, 5, 6, 9, 10), (1, 2, 5, 7, 8, 9), (1, 2, 5, 7, 8, 10), (1, 2, 5, 7, 9, 10), (1, 2, 5, 8, 9, 10), (1, 2, 6, 7, 8, 9), (1, 2, 6, 7, 8, 10), (1, 2, 6, 7, 9, 10), (1, 2, 6, 8, 9, 10), (1, 2, 7, 8, 9, 10), (1, 3, 5, 6, 7, 8), (1, 3, 5, 6, 7, 9), (1, 3, 5, 6, 7, 10), (1, 3, 5, 6, 8, 9), (1, 3, 5, 6, 8, 10), (1, 3, 5, 6, 9, 10), (1, 3, 5, 7, 8, 9), (1, 3, 5, 7, 8, 10), (1, 3, 5, 7, 9, 10), (1, 3, 5, 8, 9, 10), (1, 3, 6, 7, 8, 9), (1, 3, 6, 7, 8, 10), (1, 3, 6, 7, 9, 10), (1, 3, 6, 8, 9, 10), (1, 3, 7, 8, 9, 10), (1, 5, 6, 7, 8, 9), (1, 5, 6, 7, 8, 10), (1, 5, 6, 7, 9, 10), (1, 5, 6, 8, 9, 10), (1, 5, 7, 8, 9, 10), (1, 6, 7, 8, 9, 10), (2, 3, 5, 6, 7, 8), (2, 3, 5, 6, 7, 9), (2, 3, 5, 6, 7, 10), (2, 3, 5, 6, 8, 9), (2, 3, 5, 6, 8, 10), (2, 3, 5, 6, 9, 10), (2, 3, 5, 7, 8, 9), (2, 3, 5, 7, 8, 10), (2, 3, 5, 7, 9, 10), (2, 3, 5, 8, 9, 10), (2, 3, 6, 7, 8, 9), (2, 3, 6, 7, 8, 10), (2, 3, 6, 7, 9, 10), (2, 3, 6, 8, 9, 10), (2, 3, 7, 8, 9, 10), (2, 5, 6, 7, 8, 9), (2, 5, 6, 7, 8, 10), (2, 5, 6, 7, 9, 10), (2, 5, 6, 8, 9, 10), (2, 5, 7, 8, 9, 10), (2, 6, 7, 8, 9, 10), (3, 5, 6, 7, 8, 9), (3, 5, 6, 7, 8, 10), (3, 5, 6, 7, 9, 10), (3, 5, 6, 8, 9, 10), (3, 5, 7, 8, 9, 10), (3, 6, 7, 8, 9, 10), (5, 6, 7, 8, 9, 10), (1, 2, 3, 5, 6, 7, 8), (1, 2, 3, 5, 6, 7, 9), (1, 2, 3, 5, 6, 7, 10), (1, 2, 3, 5, 6, 8, 9), (1, 2, 3, 5, 6, 8, 10), (1, 2, 3, 5, 6, 9, 10), (1, 2, 3, 5, 7, 8, 9), (1, 2, 3, 5, 7, 8, 10), (1, 2, 3, 5, 7, 9, 10), (1, 2, 3, 5, 8, 9, 10), (1, 2, 3, 6, 7, 8, 9), (1, 2, 3, 6, 7, 8, 10), (1, 2, 3, 6, 7, 9, 10), (1, 2, 3, 6, 8, 9, 10), (1, 2, 3, 7, 8, 9, 10), (1, 2, 5, 6, 7, 8, 9), (1, 2, 5, 6, 7, 8, 10), (1, 2, 5, 6, 7, 9, 10), (1, 2, 5, 6, 8, 9, 10), (1, 2, 5, 7, 8, 9, 10), (1, 2, 6, 7, 8, 9, 10), (1, 3, 5, 6, 7, 8, 9), (1, 3, 5, 6, 7, 8, 10), (1, 3, 5, 6, 7, 9, 10), (1, 3, 5, 6, 8, 9, 10), (1, 3, 5, 7, 8, 9, 10), (1, 3, 6, 7, 8, 9, 10), (1, 5, 6, 7, 8, 9, 10), (2, 3, 5, 6, 7, 8, 9), (2, 3, 5, 6, 7, 8, 10), (2, 3, 5, 6, 7, 9, 10), (2, 3, 5, 6, 8, 9, 10), (2, 3, 5, 7, 8, 9, 10), (2, 3, 6, 7, 8, 9, 10), (2, 5, 6, 7, 8, 9, 10), (3, 5, 6, 7, 8, 9, 10), (1, 2, 3, 5, 6, 7, 8, 9), (1, 2, 3, 5, 6, 7, 8, 10), (1, 2, 3, 5, 6, 7, 9, 10), (1, 2, 3, 5, 6, 8, 9, 10), (1, 2, 3, 5, 7, 8, 9, 10), (1, 2, 3, 6, 7, 8, 9, 10), (1, 2, 5, 6, 7, 8, 9, 10), (1, 3, 5, 6, 7, 8, 9, 10), (2, 3, 5, 6, 7, 8, 9, 10), (1, 2, 3, 5, 6, 7, 8, 9, 10)]\n"
     ]
    }
   ],
   "source": [
    "''' \n",
    "Write a Python program to get the powerset of a given iterable.\n",
    "Sample Output:\n",
    "'''\n",
    "from itertools import chain, combinations\n",
    "ls = [1,2,3,5,6,7,8,9,10]\n",
    "ans=[]\n",
    "for i in range(len(ls) +1):\n",
    "    tpl = [tuple(j) for j in combinations(ls,i)]\n",
    "    ans.extend(tpl)\n",
    "print(ans)  \n",
    " \n"
   ]
  },
  {
   "cell_type": "code",
   "execution_count": 41,
   "metadata": {},
   "outputs": [
    {
     "data": {
      "text/plain": [
       "[1, 2, 3, 4, 5, 6, 7, 8, 9, 10]"
      ]
     },
     "execution_count": 41,
     "metadata": {},
     "output_type": "execute_result"
    }
   ],
   "source": [
    "'''\n",
    "to unique \n",
    "'''\n",
    "L = [(1, 2), (5, 6), (3, 4), (1, 2), (7, 8), (1, 2), (3, 4), (3, 4), (7, 8), (9, 10)]\n",
    "s = set({})\n",
    "for i in L:\n",
    "    for j in i:\n",
    "        s.add(j)\n",
    "list(s)"
   ]
  },
  {
   "cell_type": "markdown",
   "metadata": {},
   "source": [
    "list advanced"
   ]
  },
  {
   "cell_type": "code",
   "execution_count": 51,
   "metadata": {},
   "outputs": [
    {
     "name": "stdout",
     "output_type": "stream",
     "text": [
      "-5\n"
     ]
    }
   ],
   "source": [
    "'''\n",
    "kadanes algorithm \n",
    "'''\n",
    "ls = [-1,2,3,4,-5]\n",
    "sum=0\n",
    "Max=200000\n",
    "for i in ls:\n",
    "    sum =sum +i\n",
    "    \n",
    "    Max = min(sum,Max)\n",
    "    if sum>0:\n",
    "        sum=0\n",
    "print(Max)\n",
    "\n"
   ]
  },
  {
   "cell_type": "code",
   "execution_count": 93,
   "metadata": {},
   "outputs": [
    {
     "data": {
      "text/plain": [
       "{'item1': 1150, 'item2': 300}"
      ]
     },
     "execution_count": 93,
     "metadata": {},
     "output_type": "execute_result"
    }
   ],
   "source": [
    "'''\n",
    "\n",
    "'''\n",
    "Sampledata = [{'item': 'item1', 'amount': 400}, {'item': 'item2', 'amount': 300}, {'item': 'item1', 'amount': 750}]\n",
    "dict = {}\n",
    "c=[]\n",
    "for i in Sampledata:\n",
    "    for j,z in i.items():\n",
    "        c.append(z)\n",
    "\n",
    "for j,i in enumerate(c):\n",
    "    if type(i)==str:\n",
    "        dict[i] = 0\n",
    "for j,i in enumerate(c):\n",
    "    if type(i)==str:\n",
    "        dict[i] = dict[i]+c[j+1]\n",
    "\n",
    "\n",
    "dict"
   ]
  },
  {
   "cell_type": "code",
   "execution_count": 97,
   "metadata": {},
   "outputs": [
    {
     "name": "stdout",
     "output_type": "stream",
     "text": [
      "Cierra Vega (6.2, 70)\n"
     ]
    }
   ],
   "source": [
    "'''\n",
    "Write a Python program to filter the height and width of students, which are stored in a dictionary. \n",
    "'''\n",
    "Original_Dictionary={'Cierra Vega': (6.2, 70), 'Alden Cantrell': (5.9, 65), 'Kierra Gentry': (6.0, 68), 'Pierre Cox': (5.8, 66)}\n",
    "\n",
    "for i,j in Original_Dictionary.items():\n",
    "    if j[0]>=6 and j[1]>=70:\n",
    "        print(i,j)\n",
    "\n",
    "    "
   ]
  },
  {
   "cell_type": "code",
   "execution_count": 99,
   "metadata": {},
   "outputs": [
    {
     "data": {
      "text/plain": [
       "[[1, 2], [2, 3], [3, 4]]"
      ]
     },
     "execution_count": 99,
     "metadata": {},
     "output_type": "execute_result"
    }
   ],
   "source": [
    "'''\n",
    "Write a Python program to convert a given list of tuples to a list of lists. \n",
    "'''\n",
    "Original_list_of_tuples =[(1, 2), (2, 3), (3, 4)]\n",
    "ls = []\n",
    "for i in Original_list_of_tuples:\n",
    "    ls.append(list(i))\n",
    "ls"
   ]
  },
  {
   "cell_type": "code",
   "execution_count": 102,
   "metadata": {},
   "outputs": [
    {
     "data": {
      "text/plain": [
       "1234"
      ]
     },
     "execution_count": 102,
     "metadata": {},
     "output_type": "execute_result"
    }
   ],
   "source": [
    "'''\n",
    ". Write a Python program to convert a given tuple of positive integers into an integer.\n",
    "Original tuple:\n",
    "(1, 2, 3) \n",
    "'''\n",
    "tpl = (1,2,3,4)\n",
    "ans = 0\n",
    "l = len(tpl)\n",
    "for i in tpl:\n",
    "    ans = ans + i*pow(10,l-i)\n",
    "ans"
   ]
  },
  {
   "cell_type": "code",
   "execution_count": 117,
   "metadata": {},
   "outputs": [
    {
     "data": {
      "text/plain": [
       "[{1, 2, 9}, {1, 3, 8}, {1, 4, 7}, {1, 5, 6}, {2, 3, 7}, {2, 4, 6}, {3, 4, 5}]"
      ]
     },
     "execution_count": 117,
     "metadata": {},
     "output_type": "execute_result"
    }
   ],
   "source": [
    "'''\n",
    "sum equal to target \n",
    "'''\n",
    "ls= [1, 2, 3, 4, 5, 6, 7, 8, 9]\n",
    "taget = 12\n",
    "ans=[]\n",
    "for i in combinations(ls,3):\n",
    "    l = set(i)\n",
    "    sum=0\n",
    "    for j in l:\n",
    "        sum = sum+j\n",
    "    if sum==taget:\n",
    "        ans.append(l)\n",
    "ans\n",
    "\n"
   ]
  },
  {
   "cell_type": "code",
   "execution_count": 142,
   "metadata": {},
   "outputs": [
    {
     "name": "stdout",
     "output_type": "stream",
     "text": [
      "2\n",
      "2\n",
      "0\n",
      "0\n",
      "0\n"
     ]
    },
    {
     "data": {
      "text/plain": [
       "[['eat', 'tae'], ['cba', 'abc']]"
      ]
     },
     "execution_count": 142,
     "metadata": {},
     "output_type": "execute_result"
    }
   ],
   "source": [
    "'''\n",
    "anagram of string \n",
    "'''\n",
    "ls =['eat', 'cba', 'tae', 'abc', 'xyz']\n",
    "ans=[]\n",
    "\n",
    "for i in range(len(ls)):\n",
    "    temp = []\n",
    "\n",
    "    for j in range(i+1,len(ls)):\n",
    "        \n",
    "        if sorted((ls[i])) == sorted((ls[j])):\n",
    "            \n",
    "            temp.append(ls[i])\n",
    "            temp.append(ls[j])\n",
    "            ans.append(temp)\n",
    "          \n",
    "    print(len(temp))  \n",
    "ans"
   ]
  },
  {
   "cell_type": "code",
   "execution_count": 157,
   "metadata": {},
   "outputs": [
    {
     "name": "stdout",
     "output_type": "stream",
     "text": [
      "15\n"
     ]
    }
   ],
   "source": [
    "import array as arr\n",
    "\n",
    "r1 = arr.array('i',[10 ,11 ,12 ,13 ,14 ,16 ,17 ,18 ,19 ,20])\n",
    "\n",
    "for i in range(10,21):\n",
    "    if i not in r1:\n",
    "        print(i)\n"
   ]
  },
  {
   "cell_type": "code",
   "execution_count": 160,
   "metadata": {},
   "outputs": [
    {
     "data": {
      "text/plain": [
       "array('i', [1, 3, 5, 7, 9])"
      ]
     },
     "execution_count": 160,
     "metadata": {},
     "output_type": "execute_result"
    }
   ],
   "source": [
    "r1 = arr.array('i',[1, 3 ,5 ,1, 3 ,7 ,9])\n",
    "\n",
    "temp = set(r1)\n",
    "r2 = arr.array('i',temp)\n",
    "r2\n"
   ]
  },
  {
   "cell_type": "code",
   "execution_count": 165,
   "metadata": {},
   "outputs": [
    {
     "name": "stdout",
     "output_type": "stream",
     "text": [
      "vraj 12\n",
      "aneri 21\n",
      "vatsal 90\n"
     ]
    },
    {
     "data": {
      "text/plain": [
       "[12, 21, 90]"
      ]
     },
     "execution_count": 165,
     "metadata": {},
     "output_type": "execute_result"
    }
   ],
   "source": [
    "'''\n",
    "ENUM \n",
    "'''\n",
    "from enum import Enum\n",
    "\n",
    "class Demo(Enum):\n",
    "    vraj = 12\n",
    "    aneri = 21\n",
    "    vatsal = 90\n",
    "\n",
    "for i in Demo:\n",
    "    print(i.name,i.value)\n",
    "ls = [i.value for i in Demo]\n",
    "ls"
   ]
  }
 ],
 "metadata": {
  "kernelspec": {
   "display_name": "base",
   "language": "python",
   "name": "python3"
  },
  "language_info": {
   "codemirror_mode": {
    "name": "ipython",
    "version": 3
   },
   "file_extension": ".py",
   "mimetype": "text/x-python",
   "name": "python",
   "nbconvert_exporter": "python",
   "pygments_lexer": "ipython3",
   "version": "3.12.7"
  }
 },
 "nbformat": 4,
 "nbformat_minor": 2
}
