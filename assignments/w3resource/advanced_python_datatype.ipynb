{
 "cells": [
  {
   "cell_type": "markdown",
   "metadata": {},
   "source": [
    "booleans datatype"
   ]
  },
  {
   "cell_type": "code",
   "execution_count": 4,
   "metadata": {},
   "outputs": [
    {
     "data": {
      "text/plain": [
       "False"
      ]
     },
     "execution_count": 4,
     "metadata": {},
     "output_type": "execute_result"
    }
   ],
   "source": [
    "'''\n",
    "Write a Python program that checks a simple authentication system. The program verifies the provided username and password against predefined usernames and passwords by using boolean checks. \n",
    "'''\n",
    "\n",
    "def validate_user(data_set,username,password):\n",
    "\n",
    "    for i,j in data_set.items():\n",
    "        if username in data_set and data_set[username] == password:\n",
    "            return True\n",
    "    return False\n",
    "\n",
    "\n",
    "\n",
    "data_set = {\n",
    "    'emp1':\"V@ts@l0101\",\n",
    "    'emp2':\"123456\",\n",
    "    'emp3':\"aura1234\"\n",
    "}\n",
    "\n",
    "validate_user(data_set,\"emp2\",\"V@ts@l010\")\n"
   ]
  },
  {
   "cell_type": "code",
   "execution_count": 11,
   "metadata": {},
   "outputs": [
    {
     "data": {
      "text/plain": [
       "False"
      ]
     },
     "execution_count": 11,
     "metadata": {},
     "output_type": "execute_result"
    }
   ],
   "source": [
    "'''\n",
    "Write a  Python program that implements a function to check if a given string is a valid  email address format using boolean logic.\n",
    "'''\n",
    "import re\n",
    "pattern = r'^[A-Za-z]+\\w+\\d+@\\w+\\.[a-z]+$'\n",
    "def email_validator(s):\n",
    "    if re.match(pattern,s):\n",
    "        return True\n",
    "    return False\n",
    "email_validator(\"vatsalchauhan009@gmailcom\")"
   ]
  },
  {
   "cell_type": "code",
   "execution_count": 27,
   "metadata": {},
   "outputs": [
    {
     "name": "stdout",
     "output_type": "stream",
     "text": [
      "vaidehi chauhan \n"
     ]
    }
   ],
   "source": [
    "'''\n",
    "Python string substring replacement \n",
    "'''\n",
    "s = \"vatsal chauahn\"\n",
    "\n",
    "def str_replacer(s_original,s_what_to_replace,s_replacer):\n",
    "    if s_original:\n",
    "        try:\n",
    "         temp = s_original.replace(s_what_to_replace,s_replacer)\n",
    "         return temp\n",
    "        except Exception as ex:\n",
    "           print(ex)\n",
    "\n",
    "print(str_replacer(\"vatsal chauhan \",\"vatsal\",\"vaidehi\"))"
   ]
  },
  {
   "cell_type": "code",
   "execution_count": 32,
   "metadata": {},
   "outputs": [
    {
     "data": {
      "text/plain": [
       "'\\x01\\x02\\x03\\x05\\x06'"
      ]
     },
     "execution_count": 32,
     "metadata": {},
     "output_type": "execute_result"
    }
   ],
   "source": [
    "'''\n",
    "Python Function: Convert bytearray to bytes \n",
    "'''\n",
    "\n",
    "data_ara = bytearray([1,2,3,5,6])\n",
    "bytes(data_ara).decode('utf-8')"
   ]
  },
  {
   "cell_type": "code",
   "execution_count": 57,
   "metadata": {},
   "outputs": [
    {
     "name": "stdout",
     "output_type": "stream",
     "text": [
      "yes\n"
     ]
    }
   ],
   "source": [
    "'''\n",
    "Python Function: Search bytes sequence in file \n",
    "'''\n",
    "s = b\"football\"\n",
    "with open(\"byte_checker.bin\",'wb') as f1:\n",
    "    s = b\"football\"\n",
    "    f1.write(s)\n",
    "   \n",
    "   \n",
    "with open(\"byte_checker.bin\",'rb') as f1:\n",
    "   \n",
    "    for i in f1:\n",
    "        if b\"football\" in i:\n",
    "            print(\"yes\")\n",
    "    \n",
    "\n",
    "\n",
    "\n"
   ]
  },
  {
   "cell_type": "code",
   "execution_count": 65,
   "metadata": {},
   "outputs": [
    {
     "name": "stdout",
     "output_type": "stream",
     "text": [
      "14\n",
      "<memory at 0x0000025539FE5540>\n"
     ]
    }
   ],
   "source": [
    "'''\n",
    "data = b\"Python Exercises!\"\n",
    "        # Create memory view on data\n",
    "        mem_data  = memoryview(data)   \n",
    "'''\n",
    "data= b\"vatsal chauhan\"\n",
    " \n",
    "mem_data =  memoryview(data)\n",
    "print(len(mem_data))\n",
    "print(mem_data[:2])"
   ]
  },
  {
   "cell_type": "code",
   "execution_count": 68,
   "metadata": {},
   "outputs": [
    {
     "name": "stdout",
     "output_type": "stream",
     "text": [
      "memory view is  <memory at 0x0000025539FE7F40>\n",
      "b'vastal chauhan'\n"
     ]
    }
   ],
   "source": [
    "s = b\"vastal chauhan\"\n",
    "mem_data = memoryview(s)\n",
    "print(\"memory view is \",mem_data)\n",
    "\n",
    "byte_data = bytes(mem_data)\n",
    "print(byte_data)"
   ]
  },
  {
   "cell_type": "code",
   "execution_count": 95,
   "metadata": {},
   "outputs": [],
   "source": [
    "'''\n",
    "Write a  Python program that reads a binary file into a memory view and saves a modified copy. \n",
    "'''\n",
    "\n",
    "with open(\"old_binary_file.bin\",'wb+') as f2:\n",
    "    data = b\"vatsal chauhan\"\n",
    "    f2.write(data)\n",
    "\n",
    "\n",
    "with open(\"old_binary_file.bin\",'rb+') as f2:\n",
    "  \n",
    "    data_read =bytes(f2.read())\n",
    "    data_mem_view = memoryview(data_read)\n",
    "    with open(\"new_binary.bin\",'bw+') as f3:\n",
    "       f3.write(data_mem_view)"
   ]
  },
  {
   "cell_type": "code",
   "execution_count": 101,
   "metadata": {},
   "outputs": [
    {
     "name": "stdout",
     "output_type": "stream",
     "text": [
      "frozenset({1, 2, 3, 4, 5, 6, 7, 10, 11, 12, 13})\n",
      "frozenset({2, 3, 4, 5})\n"
     ]
    }
   ],
   "source": [
    "'''\n",
    "Frozen Set \n",
    "'''\n",
    "s1 = frozenset([1,2,3,4,5,6,7,7])\n",
    "\n",
    "s2 =frozenset([2,3,4,5,10,11,12,13])\n",
    "print(s1.union(s2))\n",
    "print(s1.intersection(s2))"
   ]
  },
  {
   "cell_type": "code",
   "execution_count": 103,
   "metadata": {},
   "outputs": [
    {
     "name": "stdout",
     "output_type": "stream",
     "text": [
      "frozenset({1, 6, 7})\n"
     ]
    }
   ],
   "source": [
    "print(s1.difference(s2))\n"
   ]
  },
  {
   "cell_type": "code",
   "execution_count": 117,
   "metadata": {},
   "outputs": [
    {
     "name": "stdout",
     "output_type": "stream",
     "text": [
      "vatsal 21\n",
      "vraj 22\n",
      "aneri 25\n"
     ]
    }
   ],
   "source": [
    "'''\n",
    "Python NamedTuple example: Employee information \n",
    "'''\n",
    "from collections import namedtuple\n",
    "tpl = namedtuple(\"Employee\",[\"name\",\"age\"])\n",
    "x = [tpl(\"vatsal\",21),tpl(\"vraj\",22),tpl(\"aneri\",25)]\n",
    "for i in x:\n",
    "    print(i.name,i.age)\n"
   ]
  },
  {
   "cell_type": "code",
   "execution_count": 119,
   "metadata": {},
   "outputs": [
    {
     "name": "stdout",
     "output_type": "stream",
     "text": [
      "aura sx 2025 petrol\n",
      "creata x 2025 diesel\n",
      "alto maruti 2015 CNG\n"
     ]
    }
   ],
   "source": [
    "'''\n",
    "Write a  Python program that defines a NamedTuple named \"Car\" with fields 'make', 'model', 'year', and ' engine' (a NamedTuple representing engine details). Create an instance of the \"Car\" NamedTuple and print its attributes.\n",
    "'''\n",
    "tpl = namedtuple(\"Car\",[\"make\",\"model\",\"year\",\"engine\"])\n",
    "tpl_val = [\n",
    "    tpl(\"aura\",\"sx\",2025,\"petrol\"),\n",
    "    tpl(\"creata\",\"x\",2025,\"diesel\"),\n",
    "    tpl(\"alto\",\"maruti\",2015,\"CNG\"),\n",
    "\n",
    "]\n",
    "\n",
    "for i in tpl_val:\n",
    "    print(i.make,i.model,i.year,i.engine)"
   ]
  },
  {
   "cell_type": "code",
   "execution_count": 122,
   "metadata": {},
   "outputs": [
    {
     "data": {
      "text/plain": [
       "OrderedDict([('vatsal', 'chauhan'), ('vraj', 'desai'), ('aneri', 'desai')])"
      ]
     },
     "execution_count": 122,
     "metadata": {},
     "output_type": "execute_result"
    }
   ],
   "source": [
    "'''\n",
    "orders dictionary \n",
    "'''\n",
    "from collections import OrderedDict\n",
    "\n",
    "od = OrderedDict()\n",
    "od[\"vatsal\"]=\"chauhan\"\n",
    "od[\"vraj\"]= \"desai\"\n",
    "od[\"aneri\"] = \"desai\"\n",
    "\n",
    "od\n"
   ]
  },
  {
   "cell_type": "code",
   "execution_count": 125,
   "metadata": {},
   "outputs": [
    {
     "data": {
      "text/plain": [
       "OrderedDict([('vatsal', 6), ('vraj', 4), ('aneri', 5), ('prince', 6)])"
      ]
     },
     "execution_count": 125,
     "metadata": {},
     "output_type": "execute_result"
    }
   ],
   "source": [
    "words = [\"vatsal\",\"vraj\",\"aneri\",\"prince\"]\n",
    "od = OrderedDict()\n",
    "\n",
    "for i in words:\n",
    "    od[i] = len(i)\n",
    "od"
   ]
  },
  {
   "cell_type": "code",
   "execution_count": 127,
   "metadata": {},
   "outputs": [
    {
     "data": {
      "text/plain": [
       "Counter({'a': 2, 'v': 1, 't': 1, 's': 1, 'l': 1})"
      ]
     },
     "execution_count": 127,
     "metadata": {},
     "output_type": "execute_result"
    }
   ],
   "source": [
    "from collections import Counter\n",
    "\n",
    "txt =  Counter(\"vatsal\")\n",
    "txt"
   ]
  },
  {
   "cell_type": "code",
   "execution_count": 142,
   "metadata": {},
   "outputs": [
    {
     "data": {
      "text/plain": [
       "[{'Red': 3}]"
      ]
     },
     "execution_count": 142,
     "metadata": {},
     "output_type": "execute_result"
    }
   ],
   "source": [
    "colors = [\"Red\", \"Green\", \"Black\", \"Black\", \"Red\", \"red\", \"Orange\", \"Pink\", \"Pink\", \"Red\", \"White\"]\n",
    "color_counter = Counter(colors)\n",
    "ans=[]\n",
    "for i,j in color_counter.items():\n",
    "   \n",
    "    if j>2:\n",
    "        \n",
    "        dict1 = {}\n",
    "        dict1[i] = j\n",
    "       \n",
    "        ans.append(dict1)\n",
    "ans\n",
    "        "
   ]
  },
  {
   "cell_type": "code",
   "execution_count": 146,
   "metadata": {},
   "outputs": [
    {
     "name": "stdout",
     "output_type": "stream",
     "text": [
      "1 2 3 4\n"
     ]
    }
   ],
   "source": [
    "'''\n",
    "ellipsis \n",
    "'''\n",
    "\n",
    "def fun1(arg1,arg2,arg3,arg4=...):\n",
    "    print(arg1,arg2,arg3,arg4)\n",
    "\n",
    "fun1(1,2,3,4)"
   ]
  }
 ],
 "metadata": {
  "kernelspec": {
   "display_name": "base",
   "language": "python",
   "name": "python3"
  },
  "language_info": {
   "codemirror_mode": {
    "name": "ipython",
    "version": 3
   },
   "file_extension": ".py",
   "mimetype": "text/x-python",
   "name": "python",
   "nbconvert_exporter": "python",
   "pygments_lexer": "ipython3",
   "version": "3.12.7"
  }
 },
 "nbformat": 4,
 "nbformat_minor": 2
}
