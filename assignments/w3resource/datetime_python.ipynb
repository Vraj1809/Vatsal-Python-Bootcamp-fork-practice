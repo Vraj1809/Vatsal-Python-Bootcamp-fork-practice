{
 "cells": [
  {
   "cell_type": "code",
   "execution_count": 2,
   "metadata": {},
   "outputs": [
    {
     "name": "stdout",
     "output_type": "stream",
     "text": [
      "String representing time: 22 January, 2020\n",
      "time.struct_time(tm_year=2020, tm_mon=1, tm_mday=22, tm_hour=0, tm_min=0, tm_sec=0, tm_wday=2, tm_yday=22, tm_isdst=-1)\n"
     ]
    }
   ],
   "source": [
    "import time\n",
    "time_string = \"22 January, 2020\"\n",
    "print(\"String representing time:\", time_string)\n",
    "result = time.strptime(time_string, \"%d %B, %Y\")\n",
    "print(result)"
   ]
  },
  {
   "cell_type": "code",
   "execution_count": 6,
   "metadata": {},
   "outputs": [
    {
     "data": {
      "text/plain": [
       "'Sun Jan 22 02:34:06 2020'"
      ]
     },
     "execution_count": 6,
     "metadata": {},
     "output_type": "execute_result"
    }
   ],
   "source": [
    "t = (2020, 1, 22, 2, 34, 6, 6, 362, 0)\n",
    "\n",
    "time.asctime(t)"
   ]
  },
  {
   "cell_type": "code",
   "execution_count": 10,
   "metadata": {},
   "outputs": [
    {
     "name": "stdout",
     "output_type": "stream",
     "text": [
      "Remaining time: 19929.120145 seconds\n",
      "Remaining time: 19928.119004 seconds\n",
      "Remaining time: 19927.118135 seconds\n",
      "Remaining time: 19926.117256 seconds\n",
      "Remaining time: 19925.115842 seconds\n",
      "Remaining time: 19924.115384 seconds\n",
      "Remaining time: 19923.115064 seconds\n",
      "Remaining time: 19922.113793 seconds\n",
      "Remaining time: 19921.11341 seconds\n",
      "Remaining time: 19920.112975 seconds\n",
      "Remaining time: 19919.110304 seconds\n",
      "Remaining time: 19918.108395 seconds\n",
      "Remaining time: 19917.106488 seconds\n",
      "Remaining time: 19916.105393 seconds\n",
      "Remaining time: 19915.104834 seconds\n",
      "Remaining time: 19914.10318 seconds\n",
      "Remaining time: 19913.101523 seconds\n",
      "Remaining time: 19912.10086 seconds\n",
      "Remaining time: 19911.100044 seconds\n",
      "Remaining time: 19910.099319 seconds\n",
      "Remaining time: 19909.098715 seconds\n",
      "Remaining time: 19908.093081 seconds\n",
      "Remaining time: 19907.092646 seconds\n",
      "Remaining time: 19906.091299 seconds\n",
      "Remaining time: 19905.090638 seconds\n",
      "Remaining time: 19904.090294 seconds\n",
      "\r"
     ]
    },
    {
     "ename": "KeyboardInterrupt",
     "evalue": "",
     "output_type": "error",
     "traceback": [
      "\u001b[1;31m---------------------------------------------------------------------------\u001b[0m",
      "\u001b[1;31mKeyboardInterrupt\u001b[0m                         Traceback (most recent call last)",
      "Cell \u001b[1;32mIn[10], line 23\u001b[0m\n\u001b[0;32m     19\u001b[0m end_datetime_str \u001b[38;5;241m=\u001b[39m \u001b[38;5;124m\"\u001b[39m\u001b[38;5;124m2025-01-08 15:10:59\u001b[39m\u001b[38;5;124m\"\u001b[39m\n\u001b[0;32m     21\u001b[0m end_datetime \u001b[38;5;241m=\u001b[39m pendulum\u001b[38;5;241m.\u001b[39mparse(end_datetime_str)\n\u001b[1;32m---> 23\u001b[0m countdown_timer(end_datetime)\n",
      "Cell \u001b[1;32mIn[10], line 12\u001b[0m, in \u001b[0;36mcountdown_timer\u001b[1;34m(end_datetime)\u001b[0m\n\u001b[0;32m      9\u001b[0m \u001b[38;5;28;01mwhile\u001b[39;00m remaining_time\u001b[38;5;241m.\u001b[39mtotal_seconds() \u001b[38;5;241m>\u001b[39m \u001b[38;5;241m0\u001b[39m:\n\u001b[0;32m     10\u001b[0m     \u001b[38;5;28mprint\u001b[39m(\u001b[38;5;124mf\u001b[39m\u001b[38;5;124m\"\u001b[39m\u001b[38;5;124mRemaining time: \u001b[39m\u001b[38;5;132;01m{\u001b[39;00mremaining_time\u001b[38;5;241m.\u001b[39mtotal_seconds()\u001b[38;5;132;01m}\u001b[39;00m\u001b[38;5;124m seconds\u001b[39m\u001b[38;5;130;01m\\n\u001b[39;00m\u001b[38;5;124m\"\u001b[39m, end\u001b[38;5;241m=\u001b[39m\u001b[38;5;124m'\u001b[39m\u001b[38;5;130;01m\\r\u001b[39;00m\u001b[38;5;124m'\u001b[39m)\n\u001b[1;32m---> 12\u001b[0m     time\u001b[38;5;241m.\u001b[39msleep(\u001b[38;5;241m1\u001b[39m)\n\u001b[0;32m     14\u001b[0m     current_datetime \u001b[38;5;241m=\u001b[39m pendulum\u001b[38;5;241m.\u001b[39mnow()\n\u001b[0;32m     15\u001b[0m     remaining_time \u001b[38;5;241m=\u001b[39m end_datetime\u001b[38;5;241m.\u001b[39mdiff(current_datetime)\n",
      "\u001b[1;31mKeyboardInterrupt\u001b[0m: "
     ]
    }
   ],
   "source": [
    "import pendulum\n",
    "import time\n",
    "\n",
    "def countdown_timer(end_datetime):\n",
    "    current_datetime = pendulum.now()\n",
    "\n",
    "    remaining_time = end_datetime.diff(current_datetime)\n",
    "\n",
    "    while remaining_time.total_seconds() > 0:\n",
    "        print(f\"Remaining time: {remaining_time.total_seconds()} seconds\\n\", end='\\r')\n",
    "\n",
    "        time.sleep(1)\n",
    "\n",
    "        current_datetime = pendulum.now()\n",
    "        remaining_time = end_datetime.diff(current_datetime)\n",
    "\n",
    "    print(\"\\nCountdown reached zero!\")\n",
    "\n",
    "end_datetime_str = \"2025-01-08 15:10:59\"\n",
    "\n",
    "end_datetime = pendulum.parse(end_datetime_str)\n",
    "\n",
    "countdown_timer(end_datetime)"
   ]
  }
 ],
 "metadata": {
  "kernelspec": {
   "display_name": "base",
   "language": "python",
   "name": "python3"
  },
  "language_info": {
   "codemirror_mode": {
    "name": "ipython",
    "version": 3
   },
   "file_extension": ".py",
   "mimetype": "text/x-python",
   "name": "python",
   "nbconvert_exporter": "python",
   "pygments_lexer": "ipython3",
   "version": "3.12.7"
  }
 },
 "nbformat": 4,
 "nbformat_minor": 2
}
