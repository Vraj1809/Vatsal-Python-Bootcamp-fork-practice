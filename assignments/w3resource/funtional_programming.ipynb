{
 "cells": [
  {
   "cell_type": "markdown",
   "metadata": {},
   "source": [
    "Python funtions"
   ]
  },
  {
   "cell_type": "code",
   "execution_count": 1,
   "metadata": {},
   "outputs": [
    {
     "name": "stdout",
     "output_type": "stream",
     "text": [
      "2.0\n",
      "3.0\n",
      "5.0\n",
      "6.0\n"
     ]
    }
   ],
   "source": [
    "'''\n",
    "Write a Python program that invokes a function after a specified period of time \n",
    "'''\n",
    "import time\n",
    "import math\n",
    "def fun1(*args):\n",
    "    for i in args:\n",
    "        time.sleep(2)\n",
    "        print(math.sqrt(i))\n",
    "\n",
    "fun1(4,9,25,36)"
   ]
  },
  {
   "cell_type": "code",
   "execution_count": 2,
   "metadata": {},
   "outputs": [
    {
     "data": {
      "text/plain": [
       "6"
      ]
     },
     "execution_count": 2,
     "metadata": {},
     "output_type": "execute_result"
    }
   ],
   "source": [
    "'''\n",
    "Python Exercise: Access a function inside a function \n",
    "'''\n",
    "\n",
    "def fun2(a,b):\n",
    "    return a+b\n",
    "\n",
    "def fun3(a,b,c):\n",
    "    return fun2(a,b) + c\n",
    "\n",
    "fun3(1,2,3)\n"
   ]
  },
  {
   "cell_type": "markdown",
   "metadata": {},
   "source": [
    "Lamda"
   ]
  },
  {
   "cell_type": "code",
   "execution_count": 10,
   "metadata": {},
   "outputs": [
    {
     "name": "stdout",
     "output_type": "stream",
     "text": [
      "[12, 0, 23, -55, 234, 89, 0, 6, -12]\n"
     ]
    }
   ],
   "source": [
    "'''\n",
    "Write a  Python program to remove None values from a given list using the lambda function. \n",
    "'''\n",
    "ls = [12, 0, None, 23, None, -55, 234, 89, None, 0, 6, -12]\n",
    "result = filter(lambda l : l is not None ,ls)\n",
    "print(list(result))"
   ]
  },
  {
   "cell_type": "code",
   "execution_count": 16,
   "metadata": {},
   "outputs": [
    {
     "name": "stdout",
     "output_type": "stream",
     "text": [
      "[5, 10, 11, 90, 90]\n",
      "[4, 9, 2, 9, 90]\n"
     ]
    }
   ],
   "source": [
    "'''\n",
    "Write a Python program to find the maximum and minimum values in a given list of tuples using the lambda function \n",
    "'''\n",
    "ls = [(4,5),(9,10),(11,2),(90,9),(90,90)]\n",
    "\n",
    "Max = map( lambda l : max(l[0],l[1]),ls)\n",
    "Min = map( lambda l : min(l[0],l[1]),ls)\n",
    "print(list(Max))\n",
    "print(list(Min))\n",
    "\n"
   ]
  },
  {
   "cell_type": "code",
   "execution_count": 23,
   "metadata": {},
   "outputs": [
    {
     "name": "stdout",
     "output_type": "stream",
     "text": [
      "['red pink', 'white black', 'orange green']\n"
     ]
    }
   ],
   "source": [
    "'''\n",
    "Convert a given list of tuples to a list of strings using map function \n",
    "'''\n",
    "ls = [('red', 'pink'), ('white', 'black'), ('orange', 'green')]\n",
    "result = map(lambda x: x[0] + \" \" +x[1] ,ls)\n",
    "print(list(result))"
   ]
  },
  {
   "cell_type": "code",
   "execution_count": 33,
   "metadata": {},
   "outputs": [
    {
     "name": "stdout",
     "output_type": "stream",
     "text": [
      "a : [('a', 1), ('a', 2)]\n",
      "b : [('b', 3), ('b', 4)]\n"
     ]
    }
   ],
   "source": [
    "import itertools\n",
    "L = [(\"a\", 1), (\"a\", 2), (\"b\", 3), (\"b\", 4)] \n",
    "  \n",
    "# Key function \n",
    "key_func = lambda x: x[0] \n",
    "for key, group in itertools.groupby(L, key_func): \n",
    "    print(key + \" :\", list(group)) "
   ]
  },
  {
   "cell_type": "code",
   "execution_count": 48,
   "metadata": {},
   "outputs": [
    {
     "name": "stdout",
     "output_type": "stream",
     "text": [
      "[3, 4, 6, 2]\n",
      "[6, 7, 6, 9, 10]\n",
      "[7, 4, 4]\n",
      "[5, 3, 2, 9, 7, 1]\n"
     ]
    }
   ],
   "source": [
    "nums = [3,4,6,2,0,0,0,0,0,0,6,7,6,9,10,0,0,0,0,0,7,4,4,0,0,0,0,0,0,5,3,2,9,7,1]\n",
    "\n",
    "ans = itertools.groupby(nums,lambda x: x==0)\n",
    "for i in ans:\n",
    "    if i[0]==False:\n",
    "      print(list(i[1]))"
   ]
  },
  {
   "cell_type": "code",
   "execution_count": 54,
   "metadata": {},
   "outputs": [
    {
     "data": {
      "text/plain": [
       "[(90, 10)]"
      ]
     },
     "execution_count": 54,
     "metadata": {},
     "output_type": "execute_result"
    }
   ],
   "source": [
    "'''\n",
    " Find maximum difference pair in a given list \n",
    "\n",
    " '''\n",
    "from heapq import nlargest\n",
    "ls = [32, 14, 90, 10, 22, 42, 31]\n",
    "\n",
    "\n",
    "result = nlargest(1, itertools.combinations(ls, 2),\n",
    "               key=lambda sub: abs(sub[0] - sub[1]))\n",
    "result"
   ]
  },
  {
   "cell_type": "code",
   "execution_count": 58,
   "metadata": {},
   "outputs": [
    {
     "data": {
      "text/plain": [
       "[('New York', 8500000),\n",
       " ('Los Angeles', 4000000),\n",
       " ('Chicago', 2700000),\n",
       " ('Houston', 2300000)]"
      ]
     },
     "execution_count": 58,
     "metadata": {},
     "output_type": "execute_result"
    }
   ],
   "source": [
    "'''\n",
    "Python program to filter cities by population \n",
    "'''\n",
    "cities = [\n",
    "    (\"New York\", 8500000),\n",
    "    (\"Los Angeles\", 4000000),\n",
    "    (\"Chicago\", 2700000),\n",
    "    (\"Houston\", 2300000),\n",
    "    (\"Phoenix\", 1600000),\n",
    "    (\"Philadelphia\", 1500000),\n",
    "    (\"San Antonio\", 1500000),\n",
    "]\n",
    "\n",
    "result = filter(lambda y: y[1]>2000000,cities)\n",
    "list(result)"
   ]
  }
 ],
 "metadata": {
  "kernelspec": {
   "display_name": "base",
   "language": "python",
   "name": "python3"
  },
  "language_info": {
   "codemirror_mode": {
    "name": "ipython",
    "version": 3
   },
   "file_extension": ".py",
   "mimetype": "text/x-python",
   "name": "python",
   "nbconvert_exporter": "python",
   "pygments_lexer": "ipython3",
   "version": "3.12.7"
  }
 },
 "nbformat": 4,
 "nbformat_minor": 2
}
