{
 "cells": [
  {
   "cell_type": "code",
   "execution_count": 10,
   "metadata": {},
   "outputs": [
    {
     "data": {
      "text/plain": [
       "[8, 1, 2, 3]"
      ]
     },
     "execution_count": 10,
     "metadata": {},
     "output_type": "execute_result"
    }
   ],
   "source": [
    "'''\n",
    "Given a string consisting of groups of matched nested parentheses separated by parentheses, write a Python program to compute the depth of each group. \n",
    "'''\n",
    "\n",
    "Input= '(((((((()))))))) () (()) ((()()()))'\n",
    "ls = Input.split()\n",
    "ans = []\n",
    "\n",
    "for i in ls:\n",
    "    for c,j in enumerate(i):\n",
    "        \n",
    "        if j==')':\n",
    "            ans.append(c)\n",
    "            break\n",
    "ans"
   ]
  },
  {
   "cell_type": "code",
   "execution_count": 33,
   "metadata": {},
   "outputs": [
    {
     "data": {
      "text/plain": [
       "'madaadam'"
      ]
     },
     "execution_count": 33,
     "metadata": {},
     "output_type": "execute_result"
    }
   ],
   "source": [
    "'''\n",
    "Write a Python program to generate a palindrome of a given length from a string. \n",
    "'''\n",
    "Input =\"madam\" \n",
    "x = 7\n",
    "\n",
    "ans = Input[:x//2]\n",
    "\n",
    "temp2 = ans[::-1]\n",
    "if x%2!=0:\n",
    " temp = x - ((x//2) * 2) +1\n",
    "else:\n",
    " temp = x - ((x//2) * 2)\n",
    "temp3 =''\n",
    "\n",
    "for i in range(temp):\n",
    " temp3+='a'\n",
    "\n",
    " \n",
    "\n",
    "ans = ans+temp3 + temp2\n",
    "ans\n",
    "\n"
   ]
  },
  {
   "cell_type": "code",
   "execution_count": null,
   "metadata": {},
   "outputs": [],
   "source": []
  }
 ],
 "metadata": {
  "kernelspec": {
   "display_name": "base",
   "language": "python",
   "name": "python3"
  },
  "language_info": {
   "codemirror_mode": {
    "name": "ipython",
    "version": 3
   },
   "file_extension": ".py",
   "mimetype": "text/x-python",
   "name": "python",
   "nbconvert_exporter": "python",
   "pygments_lexer": "ipython3",
   "version": "3.12.7"
  }
 },
 "nbformat": 4,
 "nbformat_minor": 2
}
