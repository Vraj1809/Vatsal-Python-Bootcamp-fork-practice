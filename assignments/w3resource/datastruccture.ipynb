{
 "cells": [
  {
   "cell_type": "code",
   "execution_count": 2,
   "metadata": {},
   "outputs": [
    {
     "name": "stdout",
     "output_type": "stream",
     "text": [
      "[10, 20, 25, 30, 80, 90]\n"
     ]
    }
   ],
   "source": [
    "'''\n",
    "Write a Python program to sort unsorted numbers using Merge-insertion sort. \n",
    "'''\n",
    "\n",
    "ls = [10,20,90,80,30,25]\n",
    "\n",
    "ls.sort()\n",
    "print(ls)"
   ]
  },
  {
   "cell_type": "code",
   "execution_count": 6,
   "metadata": {},
   "outputs": [
    {
     "data": {
      "text/plain": [
       "[10, 20, 25, 30, 80, 90]"
      ]
     },
     "execution_count": 6,
     "metadata": {},
     "output_type": "execute_result"
    }
   ],
   "source": [
    "'''\n",
    "bubble sort \n",
    "'''\n",
    "ls = [10,20,90,80,30,25]\n",
    "n = len(ls)\n",
    "for i in range(n):\n",
    "    for j in range(n-i-1):\n",
    "        if ls[j]>ls[j+1]:\n",
    "            temp = ls[j]\n",
    "            ls[j]=ls[j+1]\n",
    "            ls[j+1]=temp\n",
    "ls"
   ]
  },
  {
   "cell_type": "code",
   "execution_count": 1,
   "metadata": {},
   "outputs": [
    {
     "name": "stdout",
     "output_type": "stream",
     "text": [
      "PHP\n",
      "Python\n",
      "C#\n",
      "C++\n",
      "Java\n",
      "\n",
      "head.data:  PHP\n",
      "tail.data:  Java\n"
     ]
    }
   ],
   "source": [
    "'''\n",
    "linkedlist \n",
    "'''\n",
    "class Node:\n",
    "    def __init__(self, data=None):\n",
    "        self.data = data\n",
    "        self.next = None\n",
    "class singly_linked_list:\n",
    "    def __init__(self):\n",
    "        self.head = None\n",
    "        self.tail = None\n",
    "        self.count = 0\n",
    "    def iterate_item(self):\n",
    "        current_item = self.head\n",
    "        while current_item:\n",
    "            val = current_item.data\n",
    "            current_item = current_item.next\n",
    "            yield val\n",
    "    def append_item(self, data):\n",
    "        node = Node(data)\n",
    "        if self.tail:\n",
    "            self.tail.next = node\n",
    "            self.tail = node\n",
    "        else:\n",
    "            self.head = node\n",
    "            self.tail = node\n",
    "        self.count += 1\n",
    "items = singly_linked_list()\n",
    "items.append_item('PHP')\n",
    "items.append_item('Python')\n",
    "items.append_item('C#')\n",
    "items.append_item('C++')\n",
    "items.append_item('Java')\n",
    "for val in items.iterate_item():\n",
    "    print(val)\n",
    "print(\"\\nhead.data: \",items.head.data)\n",
    "print(\"tail.data: \",items.tail.data)"
   ]
  }
 ],
 "metadata": {
  "kernelspec": {
   "display_name": "base",
   "language": "python",
   "name": "python3"
  },
  "language_info": {
   "codemirror_mode": {
    "name": "ipython",
    "version": 3
   },
   "file_extension": ".py",
   "mimetype": "text/x-python",
   "name": "python",
   "nbconvert_exporter": "python",
   "pygments_lexer": "ipython3",
   "version": "3.12.7"
  }
 },
 "nbformat": 4,
 "nbformat_minor": 2
}
