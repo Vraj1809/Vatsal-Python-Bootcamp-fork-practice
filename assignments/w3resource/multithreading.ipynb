{
 "cells": [
  {
   "cell_type": "code",
   "execution_count": 19,
   "metadata": {},
   "outputs": [
    {
     "name": "stdout",
     "output_type": "stream",
     "text": [
      "0v\n",
      "\n",
      "a\n",
      "1\n",
      "2t\n",
      "\n",
      "3s\n",
      "\n",
      "4a\n",
      "\n",
      "l\n",
      "6.01407409994863\n"
     ]
    }
   ],
   "source": [
    "import threading\n",
    "import time\n",
    "def fun1():\n",
    "    for i in range(5):\n",
    "        time.sleep(1)\n",
    "        print(i)\n",
    "def fun2():\n",
    "    for i in \"vatsal\":\n",
    "        time.sleep(1)\n",
    "        print(i)\n",
    "t1  = time.perf_counter()\n",
    "th1 = threading.Thread(target=fun1)\n",
    "th2 = threading.Thread(target=fun2)\n",
    "\n",
    "th1.start()\n",
    "th2.start()\n",
    "th1.join()\n",
    "th2.join()\n",
    "t2 = time.perf_counter()\n",
    "print(t2-t1)\n",
    "\n"
   ]
  },
  {
   "cell_type": "code",
   "execution_count": 42,
   "metadata": {},
   "outputs": [
    {
     "name": "stdout",
     "output_type": "stream",
     "text": [
      "0.005477000027894974\n"
     ]
    }
   ],
   "source": [
    "def factorial(n):\n",
    "    if n<1:\n",
    "        return 1\n",
    "    return n*factorial(n-1)\n",
    "t1  = time.perf_counter()\n",
    "n = 5\n",
    "th1 = threading.Thread(target=factorial,args=(n,))\n",
    "th2 = threading.Thread(target=factorial,args=(900,))\n",
    "th1.start()\n",
    "th2.start()\n",
    "\n",
    "th1.join()\n",
    "th2.join()\n",
    "t2 =time.perf_counter()\n",
    "print(t2-t1)\n"
   ]
  },
  {
   "cell_type": "code",
   "execution_count": 51,
   "metadata": {},
   "outputs": [
    {
     "name": "stdout",
     "output_type": "stream",
     "text": [
      "0\n",
      "1\n",
      "2\n",
      "3\n",
      "4\n"
     ]
    }
   ],
   "source": [
    "import asyncio\n",
    "\n",
    "async def fun1():\n",
    "    for i in range(5):\n",
    "     await asyncio.sleep(2)\n",
    "     print(i)\n",
    "\n",
    "     \n",
    "async def main():\n",
    "   await asyncio.gather(fun1())\n",
    "   \n",
    "await main()"
   ]
  },
  {
   "cell_type": "code",
   "execution_count": 53,
   "metadata": {},
   "outputs": [
    {
     "name": "stdout",
     "output_type": "stream",
     "text": [
      "Starting long operation for 8 seconds...\n",
      "Timeout occurred after waiting for 3 seconds\n"
     ]
    }
   ],
   "source": [
    "async def time_consuming_task(duration):\n",
    "    print(f'Starting long operation for {duration} seconds...')\n",
    "    await asyncio.sleep(duration)\n",
    "    return f'Long operation completed in {duration} seconds'\n",
    "async def main():\n",
    "    timeout =3\n",
    "    try:\n",
    "        result = await asyncio.wait_for(time_consuming_task(8), timeout)\n",
    "        print(result)\n",
    "    except asyncio.TimeoutError:\n",
    "        print(f'Timeout occurred after waiting for {timeout} seconds')\n",
    "await main()"
   ]
  }
 ],
 "metadata": {
  "kernelspec": {
   "display_name": "base",
   "language": "python",
   "name": "python3"
  },
  "language_info": {
   "codemirror_mode": {
    "name": "ipython",
    "version": 3
   },
   "file_extension": ".py",
   "mimetype": "text/x-python",
   "name": "python",
   "nbconvert_exporter": "python",
   "pygments_lexer": "ipython3",
   "version": "3.12.7"
  }
 },
 "nbformat": 4,
 "nbformat_minor": 2
}
