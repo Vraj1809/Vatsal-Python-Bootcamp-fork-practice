{
 "cells": [
  {
   "cell_type": "code",
   "execution_count": 4,
   "metadata": {},
   "outputs": [
    {
     "data": {
      "text/plain": [
       "'A'"
      ]
     },
     "execution_count": 4,
     "metadata": {},
     "output_type": "execute_result"
    }
   ],
   "source": [
    "'''\n",
    "Write a Python class named Student with two instances student1, student2 and assign values to the instances' attributes. Print all the attributes of the student1, student2 instances with their values in the given format. \n",
    "'''\n",
    "class Student:\n",
    "    def __init__(self,id,name,maths,science,english):\n",
    "        self.id = id\n",
    "        self.name = name\n",
    "        self.maths = maths\n",
    "        self.science = science\n",
    "        self.english = english\n",
    "    def __str__(self):\n",
    "         str1 = f\"name is {self.name} id = {self.id}\"\n",
    "         return str1\n",
    "    def grade(self):\n",
    "        avg= (self.english+self.maths+self.science)/3\n",
    "        if avg in range(90,101):\n",
    "            return 'A'\n",
    "        elif avg in range(80-91):\n",
    "            return 'B'\n",
    "        else:\n",
    "            return 'C' \n",
    "student1  = Student(9,\"vatsal\",90,80,100)\n",
    "student1.grade()        "
   ]
  },
  {
   "cell_type": "code",
   "execution_count": 7,
   "metadata": {},
   "outputs": [
    {
     "name": "stdout",
     "output_type": "stream",
     "text": [
      "9 vatsal xyz\n"
     ]
    }
   ],
   "source": [
    "'''\n",
    "Write a Python class named Student with two attributes: student_id, student_name. Add a new attribute: student_class. Create a function to display all attributes and their values in the Student class. \n",
    "'''\n",
    "\n",
    "class Student:\n",
    "    def __init__(self,student_id,student_name):\n",
    "        self.student_id = student_id\n",
    "        self.student_name = student_name\n",
    "    def display(self):\n",
    "        print(self.student_id,self.student_name,self.s_class)\n",
    "        pass\n",
    "\n",
    "student1 = Student(9,\"vatsal\")\n",
    "student1.s_class = \"xyz\"\n",
    "student1.display()"
   ]
  },
  {
   "cell_type": "code",
   "execution_count": 3,
   "metadata": {},
   "outputs": [
    {
     "name": "stdout",
     "output_type": "stream",
     "text": [
      "employee id is  ADAMS\n",
      "employee name is  E7876\n",
      "employee salary is  50000\n",
      "employee department is  ACCOUNTING\n",
      "your salary is 60000.0\n",
      "department changed\n",
      "employee id is  ADAMS\n",
      "employee name is  E7876\n",
      "employee salary is  50000\n",
      "employee department is  IT\n"
     ]
    }
   ],
   "source": [
    "'''\n",
    "Write a Python class Employee with attributes like emp_id, emp_name, emp_salary, and emp_department and methods like calculate_emp_salary, emp_assign_department, and print_employee_details. \n",
    "'''\n",
    "class Employee:\n",
    "    def __init__(self,emp_id=0,emp_name=\"guest\",emp_salary=0,emp_department=\"None\"):\n",
    "        self.emp_id=emp_id\n",
    "        self.emp_name=emp_name\n",
    "        self.emp_salary=emp_salary\n",
    "        self.emp_department=emp_department\n",
    "        pass\n",
    "    def print_emp_details(self):\n",
    "        print(\"employee id is \",self.emp_id)\n",
    "        print(\"employee name is \",self.emp_name)\n",
    "        print(\"employee salary is \",self.emp_salary)\n",
    "        print(\"employee department is \",self.emp_department)\n",
    "    def calculate_emp_salary(self,salary,hours):\n",
    "        overtime = 0\n",
    "        \n",
    "        Overtime_amount=0\n",
    "        \n",
    "        if hours>50:\n",
    "            overtime =hours - 50\n",
    "            Overtime_amount = (overtime * (salary / 50))\n",
    "        print(f\"your salary is {self.emp_salary + Overtime_amount}\")\n",
    "    def assign_department(self,department):\n",
    "        self.emp_department = department\n",
    "        print(\"department changed\")\n",
    "        self.print_emp_details()\n",
    "\n",
    "\n",
    "emp1 = Employee(\"ADAMS\", \"E7876\", 50000, \"ACCOUNTING\")\n",
    "emp1.print_emp_details()\n",
    "emp1.calculate_emp_salary(50000,60)\n",
    "emp1.assign_department(\"IT\")\n",
    "\n",
    "\n",
    "\n"
   ]
  },
  {
   "cell_type": "code",
   "execution_count": 13,
   "metadata": {},
   "outputs": [
    {
     "name": "stdout",
     "output_type": "stream",
     "text": [
      "menu items are :  {'chass', 'mug', 'dahi'}\n",
      "table already booked\n",
      "your order is {'2-mug', '2-chass'}\n"
     ]
    }
   ],
   "source": [
    "'''\n",
    "Write a Python class Restaurant with attributes like menu_items, book_table, and customer_orders, and methods like add_item_to_menu, book_tables, and customer_order.\n",
    "Perform the following tasks now:\n",
    "Now add items to the menu.\n",
    "Make table reservations.\n",
    "Take customer orders.\n",
    "Print the menu.\n",
    "Print table reservations.\n",
    "Print customer orders. \n",
    "'''\n",
    "class Restaurant:\n",
    "    def __init__(self,menu_items=set({}),book_table={'1':0,'2':0,'3':0,'4':0,'5':0},customer_orders=set({})):\n",
    "        self.menu_items = menu_items\n",
    "        self.book_table = book_table\n",
    "        self.customer_orders = customer_orders\n",
    "    def add_items_menu(self,*items):\n",
    "        for i in items:\n",
    "            self.menu_items.add(i)\n",
    "        \n",
    "        print(\"menu items are : \",self.menu_items)\n",
    "    def customer_book_table(self,table_num,name):\n",
    "        if self.book_table[table_num] == 0:\n",
    "            self.book_table[table_num] = name \n",
    "        else:\n",
    "            print(\"table already booked\")\n",
    "    def make_customer_order(self,*args):\n",
    "        for i in args:\n",
    "            self.customer_orders.add(i)\n",
    "        print(f\"your order is {self.customer_orders}\")\n",
    "\n",
    "\n",
    "r1 = Restaurant()\n",
    "r1.add_items_menu(\"mug\",\"chass\",\"dahi\")\n",
    "\n",
    "r1.customer_book_table('1',\"vatsal\")\n",
    "r1.customer_book_table('1',\"vraj\")\n",
    "r1.make_customer_order(\"2-mug\",\"2-chass\")\n",
    "\n",
    "\n",
    "\n",
    "    \n"
   ]
  }
 ],
 "metadata": {
  "kernelspec": {
   "display_name": "base",
   "language": "python",
   "name": "python3"
  },
  "language_info": {
   "codemirror_mode": {
    "name": "ipython",
    "version": 3
   },
   "file_extension": ".py",
   "mimetype": "text/x-python",
   "name": "python",
   "nbconvert_exporter": "python",
   "pygments_lexer": "ipython3",
   "version": "3.12.7"
  }
 },
 "nbformat": 4,
 "nbformat_minor": 2
}
