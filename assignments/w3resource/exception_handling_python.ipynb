{
 "cells": [
  {
   "cell_type": "code",
   "execution_count": 3,
   "metadata": {},
   "outputs": [
    {
     "name": "stdout",
     "output_type": "stream",
     "text": [
      "'list' object has no attribute 'length'\n",
      "'list' object has no attribute 'length'\n",
      "'list' object has no attribute 'length'\n"
     ]
    }
   ],
   "source": [
    "def check_length(*ls):\n",
    "    for i in ls:\n",
    "        try:\n",
    "          l = i.length()\n",
    "          print(l)\n",
    "        except Exception as ex:\n",
    "           print(ex) \n",
    "\n",
    "check_length([1,2,3],[3,4,5,6],[9,0,7,5])"
   ]
  },
  {
   "cell_type": "code",
   "execution_count": 5,
   "metadata": {},
   "outputs": [
    {
     "name": "stdout",
     "output_type": "stream",
     "text": [
      "division by zero\n"
     ]
    }
   ],
   "source": [
    "def arithmatic_fun(num1,num2):\n",
    "    try:\n",
    "        result = num1/num2\n",
    "    except Exception as ex:\n",
    "        print(ex)\n",
    "arithmatic_fun(1,0)"
   ]
  },
  {
   "cell_type": "code",
   "execution_count": 7,
   "metadata": {},
   "outputs": [
    {
     "name": "stdout",
     "output_type": "stream",
     "text": [
      "Input canceled by the user.\n"
     ]
    }
   ],
   "source": [
    "try:\n",
    "    n = int(input(\"Input a number: \"))\n",
    "\n",
    "    print(\"You entered:\", n)\n",
    "\n",
    "except KeyboardInterrupt:\n",
    "    print(\"Input canceled by the user.\")"
   ]
  },
  {
   "cell_type": "code",
   "execution_count": null,
   "metadata": {},
   "outputs": [],
   "source": []
  }
 ],
 "metadata": {
  "kernelspec": {
   "display_name": "base",
   "language": "python",
   "name": "python3"
  },
  "language_info": {
   "codemirror_mode": {
    "name": "ipython",
    "version": 3
   },
   "file_extension": ".py",
   "mimetype": "text/x-python",
   "name": "python",
   "nbconvert_exporter": "python",
   "pygments_lexer": "ipython3",
   "version": "3.12.7"
  }
 },
 "nbformat": 4,
 "nbformat_minor": 2
}
