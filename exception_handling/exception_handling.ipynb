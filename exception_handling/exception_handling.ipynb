{
 "cells": [
  {
   "cell_type": "code",
   "execution_count": 4,
   "metadata": {},
   "outputs": [
    {
     "name": "stdout",
     "output_type": "stream",
     "text": [
      "name 'b' is not defined\n",
      "division by zero\n",
      "'tuple' object does not support item assignment\n"
     ]
    }
   ],
   "source": [
    "try:\n",
    "    a=b\n",
    "except NameError as ex:\n",
    " print(ex)\n",
    "\n",
    "\n",
    "try:\n",
    "    a = 1/0\n",
    "except ZeroDivisionError as e:\n",
    "   print(e)\n",
    "\n",
    "try:\n",
    "   a = (1,2,3,4)\n",
    "   a[2] = 10\n",
    "except Exception as ex:\n",
    "   print(ex)\n",
    "   "
   ]
  },
  {
   "cell_type": "code",
   "execution_count": 6,
   "metadata": {},
   "outputs": [
    {
     "name": "stdout",
     "output_type": "stream",
     "text": [
      "invalid literal for int() with base 10: 'vatsal'\n",
      "execution completed\n"
     ]
    }
   ],
   "source": [
    "try:\n",
    "    x = int(input(\"enter a interger\"))\n",
    "except Exception as ex:\n",
    "    print(ex)\n",
    "else:\n",
    "    print(f\"number is {x}\")\n",
    "finally:\n",
    "    print(\"execution completed\")"
   ]
  }
 ],
 "metadata": {
  "kernelspec": {
   "display_name": "base",
   "language": "python",
   "name": "python3"
  },
  "language_info": {
   "codemirror_mode": {
    "name": "ipython",
    "version": 3
   },
   "file_extension": ".py",
   "mimetype": "text/x-python",
   "name": "python",
   "nbconvert_exporter": "python",
   "pygments_lexer": "ipython3",
   "version": "3.12.7"
  }
 },
 "nbformat": 4,
 "nbformat_minor": 2
}
