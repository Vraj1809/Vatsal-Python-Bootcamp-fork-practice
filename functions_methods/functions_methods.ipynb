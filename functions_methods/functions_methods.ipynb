{
 "cells": [
  {
   "cell_type": "code",
   "execution_count": 8,
   "metadata": {},
   "outputs": [
    {
     "name": "stdout",
     "output_type": "stream",
     "text": [
      "[2, 5, 1, 4, 9, 6, 8, 3, 7, 10]\n"
     ]
    }
   ],
   "source": [
    "from random import *\n",
    "\n",
    "\n",
    "def shuffle_list(lst):\n",
    "    shuffle(lst)\n",
    "    return lst\n",
    "ls = [1,2,3,4,5,6,7,8,9,10]\n",
    "\n",
    "print(shuffle_list(ls))"
   ]
  },
  {
   "cell_type": "code",
   "execution_count": null,
   "metadata": {},
   "outputs": [],
   "source": [
    "def num_check():\n",
    "    num=''\n",
    "    while num not in ['0','1','2']:\n",
    "        input(\"choose a number from 0,1 or 2\")\n",
    "    return int(num)\n",
    "num_check()"
   ]
  },
  {
   "cell_type": "code",
   "execution_count": 2,
   "metadata": {},
   "outputs": [
    {
     "name": "stdout",
     "output_type": "stream",
     "text": [
      "1\n",
      "2\n",
      "3\n",
      "4\n",
      "5\n",
      "vatsal\n",
      "chauhan\n"
     ]
    }
   ],
   "source": [
    "def fun1(*args):\n",
    "    for i in args:\n",
    "        print(i)\n",
    "\n",
    "fun1(1,2,3,4,5,\"vatsal\",\"chauhan\")"
   ]
  },
  {
   "cell_type": "code",
   "execution_count": 4,
   "metadata": {},
   "outputs": [
    {
     "name": "stdout",
     "output_type": "stream",
     "text": [
      "{'name': 'vatsal', 'age': 21, 'company': 'crest'}\n"
     ]
    }
   ],
   "source": [
    "def fun2(**args):\n",
    "    print(args)\n",
    "\n",
    "fun2(name=\"vatsal\",age=21,company=\"crest\")"
   ]
  },
  {
   "cell_type": "code",
   "execution_count": 5,
   "metadata": {},
   "outputs": [
    {
     "data": {
      "text/plain": [
       "10"
      ]
     },
     "execution_count": 5,
     "metadata": {},
     "output_type": "execute_result"
    }
   ],
   "source": [
    "# lamda funtion\n",
    "addition = lambda x,y:x+y\n",
    "oddoreven = lambda x: x%2==0\n",
    "addition(2,8)"
   ]
  }
 ],
 "metadata": {
  "kernelspec": {
   "display_name": "base",
   "language": "python",
   "name": "python3"
  },
  "language_info": {
   "codemirror_mode": {
    "name": "ipython",
    "version": 3
   },
   "file_extension": ".py",
   "mimetype": "text/x-python",
   "name": "python",
   "nbconvert_exporter": "python",
   "pygments_lexer": "ipython3",
   "version": "3.12.7"
  }
 },
 "nbformat": 4,
 "nbformat_minor": 2
}
