{
 "cells": [
  {
   "cell_type": "code",
   "execution_count": 9,
   "metadata": {},
   "outputs": [
    {
     "name": "stdout",
     "output_type": "stream",
     "text": [
      "hello i am old \n",
      "i am new\n"
     ]
    }
   ],
   "source": [
    "def decor(fun):\n",
    "    def inner():\n",
    "        fun()\n",
    "        print(\"i am new\")\n",
    "    return inner\n",
    "    \n",
    "@decor\n",
    "def fun():\n",
    "    print(\"hello i am old \")\n",
    "fun()\n",
    "\n",
    "\n",
    "\n"
   ]
  },
  {
   "cell_type": "code",
   "execution_count": 16,
   "metadata": {},
   "outputs": [
    {
     "data": {
      "text/plain": [
       "13"
      ]
     },
     "execution_count": 16,
     "metadata": {},
     "output_type": "execute_result"
    }
   ],
   "source": [
    "def decora(addition):\n",
    "    def inner_fun(a,b):\n",
    "        result = addition(a,b)\n",
    "        return result + 10\n",
    "    return inner_fun\n",
    "\n",
    "@decora\n",
    "def addition(num1,num2):\n",
    "    return num1+num2\n",
    "\n",
    "addition(1,2)"
   ]
  },
  {
   "cell_type": "code",
   "execution_count": 28,
   "metadata": {},
   "outputs": [
    {
     "name": "stdout",
     "output_type": "stream",
     "text": [
      "this is old funtion\n"
     ]
    },
    {
     "data": {
      "text/plain": [
       "['vatssal']"
      ]
     },
     "execution_count": 28,
     "metadata": {},
     "output_type": "execute_result"
    }
   ],
   "source": [
    "def decor1(fun2):\n",
    "    def innerfn(str1):\n",
    "        fun2(str1)\n",
    "        return str1.upper()\n",
    "    return innerfn \n",
    "\n",
    "def decor2(fun2):\n",
    "    def innerfn(str1):\n",
    "        fun2(str1)\n",
    "        return str1.split()\n",
    "    return innerfn\n",
    "    \n",
    "@decor2    \n",
    "@decor1\n",
    "def fun2(str1):\n",
    "    print(\"this is old funtion\")\n",
    "   \n",
    "str1 = input(\"enter a string\")\n",
    "fun2(str1)"
   ]
  },
  {
   "cell_type": "code",
   "execution_count": 35,
   "metadata": {},
   "outputs": [
    {
     "name": "stdout",
     "output_type": "stream",
     "text": [
      "<class 'generator'>\n",
      "0\n",
      "1\n"
     ]
    },
    {
     "data": {
      "text/plain": [
       "200"
      ]
     },
     "execution_count": 35,
     "metadata": {},
     "output_type": "execute_result"
    }
   ],
   "source": [
    "# generators\n",
    "\n",
    "import sys\n",
    "ls = (i**2 for i in range(100))\n",
    "print(type(ls))\n",
    "\n",
    "print(next(ls))\n",
    "print(next(ls))\n",
    "sys.getsizeof(ls)"
   ]
  }
 ],
 "metadata": {
  "kernelspec": {
   "display_name": "base",
   "language": "python",
   "name": "python3"
  },
  "language_info": {
   "codemirror_mode": {
    "name": "ipython",
    "version": 3
   },
   "file_extension": ".py",
   "mimetype": "text/x-python",
   "name": "python",
   "nbconvert_exporter": "python",
   "pygments_lexer": "ipython3",
   "version": "3.12.7"
  }
 },
 "nbformat": 4,
 "nbformat_minor": 2
}
