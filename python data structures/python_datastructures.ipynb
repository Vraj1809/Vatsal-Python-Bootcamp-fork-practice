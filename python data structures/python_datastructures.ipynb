{
 "cells": [
  {
   "cell_type": "code",
   "execution_count": 2,
   "metadata": {},
   "outputs": [
    {
     "name": "stdout",
     "output_type": "stream",
     "text": [
      "<class 'int'>\n",
      "<class 'str'>\n",
      "<class 'bool'>\n",
      "<class 'float'>\n"
     ]
    }
   ],
   "source": [
    "# python data types\n",
    "a = 21\n",
    "b = \"vatsal\"\n",
    "c = True\n",
    "d = 3.14\n",
    "\n",
    "print(type(a))\n",
    "print(type(b))\n",
    "print(type(c))\n",
    "print(type(d))"
   ]
  },
  {
   "cell_type": "code",
   "execution_count": 9,
   "metadata": {},
   "outputs": [
    {
     "name": "stdout",
     "output_type": "stream",
     "text": [
      "v\n",
      "ats\n",
      "vats\n",
      "vatsal chauhan\n",
      "vta hua\n"
     ]
    }
   ],
   "source": [
    "# string slicing\n",
    "#immutable whilw changinf value of index\n",
    "str = \"vatsal chauhan\"\n",
    "print(str[0])\n",
    "print(str[1:4])\n",
    "print(str[:4])\n",
    "print(str[0:])\n",
    "print(str[0::2])"
   ]
  },
  {
   "cell_type": "code",
   "execution_count": 15,
   "metadata": {},
   "outputs": [
    {
     "name": "stdout",
     "output_type": "stream",
     "text": [
      "hello worldhello vatsal\n"
     ]
    },
    {
     "data": {
      "text/plain": [
       "list"
      ]
     },
     "execution_count": 15,
     "metadata": {},
     "output_type": "execute_result"
    }
   ],
   "source": [
    "# string methods\n",
    "\n",
    "str = \"hello world\"\n",
    "str2 = \"hello vatsal\"\n",
    "\n",
    "str3 = str+str2\n",
    "print(str3)\n",
    "\n",
    "str3.upper()\n",
    "str3.lower()\n",
    "str.isupper()\n",
    "str3.islower()\n",
    "type(str3.split())"
   ]
  },
  {
   "cell_type": "code",
   "execution_count": 7,
   "metadata": {},
   "outputs": [
    {
     "name": "stdout",
     "output_type": "stream",
     "text": [
      "helllo how are you vatsal what is your age 21\n",
      "colors are red blue green black\n",
      "colors are blue red black green\n",
      "colors are red red black black\n"
     ]
    }
   ],
   "source": [
    "# string formatting\n",
    "\n",
    "print(\"helllo how are you {} what is your age {}\".format(\"vatsal\",21))\n",
    "print(\"colors are {} {} {} {}\".format(\"red\",\"blue\",\"green\",\"black\"))\n",
    "print(\"colors are {1} {0} {3} {2}\".format(\"red\",\"blue\",\"green\",\"black\"))\n",
    "print(\"colors are {0} {0} {3} {3}\".format(\"red\",\"blue\",\"green\",\"black\"))"
   ]
  },
  {
   "cell_type": "code",
   "execution_count": 12,
   "metadata": {},
   "outputs": [
    {
     "name": "stdout",
     "output_type": "stream",
     "text": [
      "3.142857142857143\n",
      "value is :3.143\n",
      "value is :3.14\n",
      "value is :3.142857\n"
     ]
    }
   ],
   "source": [
    "# float value precesion\n",
    "f = 22/7\n",
    "print(f)\n",
    "\n",
    "print(\"value is :{r:1.3f}\".format(r=f))\n",
    "print(\"value is :{r:1.2f}\".format(r=f))\n",
    "print(\"value is :{r:1.6f}\".format(r=f))"
   ]
  },
  {
   "cell_type": "code",
   "execution_count": 14,
   "metadata": {},
   "outputs": [
    {
     "name": "stdout",
     "output_type": "stream",
     "text": [
      " name is vatsal surname is chauhan and age is 21\n"
     ]
    }
   ],
   "source": [
    "# f strings\n",
    "name = \"vatsal\"\n",
    "suranme = \"chauhan\"\n",
    "age = 21\n",
    "print(f\" name is {name} surname is {suranme} and age is {age}\")"
   ]
  },
  {
   "cell_type": "code",
   "execution_count": 36,
   "metadata": {},
   "outputs": [
    {
     "name": "stdout",
     "output_type": "stream",
     "text": [
      "[1, 2, 'vatsal', 3.14, True, 'crest']\n",
      "<class 'list'>\n",
      "[1, 2, 'vatsal', 1.86, True, 'crest']\n",
      "[1, 1.86]\n",
      "['crest', True, 1.86, 'vatsal', 2, 1]\n",
      "[True, 1.86, 'vatsal', 2, 1]\n"
     ]
    }
   ],
   "source": [
    "# list\n",
    "'''\n",
    "list are ordered mutable collections of items\n",
    "'''\n",
    "ls = [1,2,\"vatsal\",3.14,True,\"crest\"]\n",
    "print(ls)\n",
    "print(type(ls))\n",
    "ls[3]=1.86 # mutability canhe values at  any time, dynamic nature\n",
    "# slicing list\n",
    "print(ls[0:])\n",
    "print(ls[0::3])\n",
    "print(ls[::-1])\n",
    "print(ls[4::-1])\n",
    "\n"
   ]
  },
  {
   "cell_type": "code",
   "execution_count": 37,
   "metadata": {},
   "outputs": [
    {
     "name": "stdout",
     "output_type": "stream",
     "text": [
      "[1, 2, 'vatsal', 1.86, True, 'crest', 'infosystem']\n",
      "[1, 2, 'between', 'vatsal', 1.86, True, 'crest', 'infosystem']\n",
      "[1, 2, 'vatsal', 1.86, True, 'crest', 'infosystem']\n",
      "[1, 2, 'vatsal', 1.86, True, 'crest']\n",
      "3\n"
     ]
    },
    {
     "data": {
      "text/plain": [
       "0"
      ]
     },
     "execution_count": 37,
     "metadata": {},
     "output_type": "execute_result"
    }
   ],
   "source": [
    "# list methods \n",
    "ls.append(\"infosystem\")\n",
    "print(ls)\n",
    "ls.insert(2,\"between\")\n",
    "print(ls)\n",
    "\n",
    "ls.remove(\"between\")\n",
    "print(ls)\n",
    "ls.pop()\n",
    "print(ls)\n",
    "\n",
    "print(ls.index(1.86))\n",
    "ls.count(\"infosystem\")\n",
    "\n",
    "\n"
   ]
  },
  {
   "cell_type": "code",
   "execution_count": 39,
   "metadata": {},
   "outputs": [
    {
     "data": {
      "text/plain": [
       "[]"
      ]
     },
     "execution_count": 39,
     "metadata": {},
     "output_type": "execute_result"
    }
   ],
   "source": [
    "ls.clear()\n",
    "ls"
   ]
  },
  {
   "cell_type": "code",
   "execution_count": 48,
   "metadata": {},
   "outputs": [
    {
     "name": "stdout",
     "output_type": "stream",
     "text": [
      "1 2 3 4 5 6 7 8 9 10 vatsal crest chauhan \n",
      "index 0 ,value 1\n",
      "index 1 ,value 2\n",
      "index 2 ,value 3\n",
      "index 3 ,value 4\n",
      "index 4 ,value 5\n",
      "index 5 ,value 6\n",
      "index 6 ,value 7\n",
      "index 7 ,value 8\n",
      "index 8 ,value 9\n",
      "index 9 ,value 10\n",
      "index 10 ,value vatsal\n",
      "index 11 ,value crest\n",
      "index 12 ,value chauhan\n"
     ]
    }
   ],
   "source": [
    "# iterating over the list using loops\n",
    "\n",
    "ls = [1,2,3,4,5,6,7,8,9,10,\"vatsal\",\"crest\",\"chauhan\"]\n",
    "for i in ls:\n",
    "    print(i,end=\" \")\n",
    "print()\n",
    "for index,value in enumerate(ls):\n",
    "    print(f\"index {index} ,value {value}\")"
   ]
  },
  {
   "cell_type": "code",
   "execution_count": 54,
   "metadata": {},
   "outputs": [
    {
     "name": "stdout",
     "output_type": "stream",
     "text": [
      "[0, 1, 2, 3, 4, 5, 6, 7, 8, 9]\n",
      "[0, 2, 4, 6, 8, 10, 12, 14, 16, 18]\n",
      "[True, False, True, False, True, False, True, False, True, False]\n"
     ]
    }
   ],
   "source": [
    "#list comrehension\n",
    "\n",
    "ls = [i for i in range(10)]\n",
    "print(ls)\n",
    "ls = [i*2 for i in range(10)]\n",
    "print(ls)\n",
    "\n",
    "ls = [i%2==0 for i in range(10)]\n",
    "print(ls)"
   ]
  },
  {
   "cell_type": "code",
   "execution_count": 56,
   "metadata": {},
   "outputs": [
    {
     "name": "stdout",
     "output_type": "stream",
     "text": [
      "(1, 2, 3, 'vatsal', 'crest')\n",
      "<class 'tuple'>\n"
     ]
    }
   ],
   "source": [
    "# tuples in python\n",
    "# they are immutable values cannot bbe changed lated \n",
    "tple = (1,2,3,\"vatsal\",\"crest\")\n",
    "print(tple)\n",
    "print(type(tple))"
   ]
  },
  {
   "cell_type": "code",
   "execution_count": 58,
   "metadata": {},
   "outputs": [
    {
     "ename": "AttributeError",
     "evalue": "'tuple' object has no attribute 'append'",
     "output_type": "error",
     "traceback": [
      "\u001b[1;31m---------------------------------------------------------------------------\u001b[0m",
      "\u001b[1;31mAttributeError\u001b[0m                            Traceback (most recent call last)",
      "Cell \u001b[1;32mIn[58], line 1\u001b[0m\n\u001b[1;32m----> 1\u001b[0m tple\u001b[38;5;241m.\u001b[39mappend()\n",
      "\u001b[1;31mAttributeError\u001b[0m: 'tuple' object has no attribute 'append'"
     ]
    }
   ],
   "source": [
    "tple.append()"
   ]
  },
  {
   "cell_type": "code",
   "execution_count": 60,
   "metadata": {},
   "outputs": [
    {
     "data": {
      "text/plain": [
       "1"
      ]
     },
     "execution_count": 60,
     "metadata": {},
     "output_type": "execute_result"
    }
   ],
   "source": [
    "tple[0]"
   ]
  },
  {
   "cell_type": "code",
   "execution_count": 62,
   "metadata": {},
   "outputs": [
    {
     "ename": "TypeError",
     "evalue": "'tuple' object does not support item assignment",
     "output_type": "error",
     "traceback": [
      "\u001b[1;31m---------------------------------------------------------------------------\u001b[0m",
      "\u001b[1;31mTypeError\u001b[0m                                 Traceback (most recent call last)",
      "Cell \u001b[1;32mIn[62], line 1\u001b[0m\n\u001b[1;32m----> 1\u001b[0m tple[\u001b[38;5;241m0\u001b[39m]\u001b[38;5;241m=\u001b[39m\u001b[38;5;124m\"\u001b[39m\u001b[38;5;124mvatsal\u001b[39m\u001b[38;5;124m\"\u001b[39m\n",
      "\u001b[1;31mTypeError\u001b[0m: 'tuple' object does not support item assignment"
     ]
    }
   ],
   "source": [
    "tple[0]=\"vatsal\""
   ]
  },
  {
   "cell_type": "code",
   "execution_count": 64,
   "metadata": {},
   "outputs": [
    {
     "data": {
      "text/plain": [
       "(1, 2, 3, 'vatsal', 'crest')"
      ]
     },
     "execution_count": 64,
     "metadata": {},
     "output_type": "execute_result"
    }
   ],
   "source": [
    "tple[0:]\n"
   ]
  },
  {
   "cell_type": "code",
   "execution_count": 69,
   "metadata": {},
   "outputs": [
    {
     "name": "stdout",
     "output_type": "stream",
     "text": [
      "{1, 2, 3, 4, 5, 6, 7, 8}\n",
      "{1, 2, 3, 4, 5, 6, 7, 8}\n",
      "{1, 'chauahn', 4, 6, 'vatsal', 90}\n",
      "{1, 2}\n"
     ]
    }
   ],
   "source": [
    "# sets in python\n",
    "s = {1,2,3,4,5,6,7,8}\n",
    "print(s)\n",
    "s = {8,7,6,5,4,3,2,1}\n",
    "print(s)\n",
    "s = {6,4,1,\"vatsal\",90,\"chauahn\"}\n",
    "print(s)\n",
    "s = {1,1,1,1,2,2,2,}\n",
    "print(s)"
   ]
  },
  {
   "cell_type": "code",
   "execution_count": 72,
   "metadata": {},
   "outputs": [
    {
     "data": {
      "text/plain": [
       "False"
      ]
     },
     "execution_count": 72,
     "metadata": {},
     "output_type": "execute_result"
    }
   ],
   "source": [
    "s2 = {5,6,7,8,9}\n",
    "\n",
    "s.union(s2)\n",
    "s.issubset(s2)"
   ]
  },
  {
   "cell_type": "code",
   "execution_count": 74,
   "metadata": {},
   "outputs": [],
   "source": [
    "s.add(22)\n",
    "s.pop()\n",
    "s.discard(\"vatsal\")\n",
    "s.clear()"
   ]
  },
  {
   "cell_type": "code",
   "execution_count": 80,
   "metadata": {},
   "outputs": [
    {
     "name": "stdout",
     "output_type": "stream",
     "text": [
      "{'name': 'vatsal', 'surname': 'chauhan', 'age': 21}\n",
      "{'name': 'crest', 'surname': 'chauhan', 'age': 21}\n",
      "21\n",
      "None\n",
      "sorry not found\n"
     ]
    }
   ],
   "source": [
    "# dictionaries\n",
    "dict = {\n",
    "    \"name\":\"vatsal\",\n",
    "    \"surname\":\"chauhan\",\n",
    "    \"age\":21\n",
    "}\n",
    "print(dict)\n",
    "dict[\"name\"]=\"crest\"\n",
    "print(dict)\n",
    "# no data dedundancy\n",
    "# unique keys\n",
    "\n",
    "print(dict.get(\"age\"))\n",
    "print(dict.get(\"company\"))\n",
    "print(dict.get(\"company\",\"sorry not found\"))"
   ]
  },
  {
   "cell_type": "code",
   "execution_count": 82,
   "metadata": {},
   "outputs": [
    {
     "name": "stdout",
     "output_type": "stream",
     "text": [
      "{'name': 'crest', 'surname': 'chauhan', 'age': 21, 'company': 'crest'}\n",
      "{'name': 'crest', 'surname': 'chauhan', 'age': 21}\n"
     ]
    }
   ],
   "source": [
    "# inser / update/ delete dictionary keys\n",
    "dict[\"company\"]=\"crest\"\n",
    "print(dict)\n",
    "del dict[\"company\"]\n",
    "\n",
    "print(dict)"
   ]
  },
  {
   "cell_type": "code",
   "execution_count": 86,
   "metadata": {},
   "outputs": [
    {
     "name": "stdout",
     "output_type": "stream",
     "text": [
      "dict_keys(['name', 'surname', 'age'])\n",
      "dict_values(['crest', 'chauhan', 21])\n",
      "dict_items([('name', 'crest'), ('surname', 'chauhan'), ('age', 21)])\n"
     ]
    }
   ],
   "source": [
    "# keys and values\n",
    "\n",
    "print(dict.keys())\n",
    "print(dict.values())\n",
    "print(dict.items())"
   ]
  },
  {
   "cell_type": "code",
   "execution_count": 91,
   "metadata": {},
   "outputs": [
    {
     "name": "stdout",
     "output_type": "stream",
     "text": [
      "{'name': 'change', 'surname': 'chauhan', 'age': 30}\n",
      "{'name': 'change', 'surname': 'chauhan', 'age': 30}\n",
      "{'name': 'change', 'surname': 'chauhan', 'age': 30}\n",
      "{'name': 'change', 'surname': 'chauhan', 'age': 30}\n",
      "{'name': 'change', 'surname': 'chauhan', 'age': 30}\n"
     ]
    }
   ],
   "source": [
    "# copy dcitionaries\n",
    "\n",
    "dict_copy = dict\n",
    "\n",
    "print(dict)\n",
    "print(dict_copy)\n",
    "dict[\"name\"]=\"change\"\n",
    "print(dict)\n",
    "print(dict_copy)\n",
    "dict_copy[\"age\"]=30\n",
    "\n",
    "print(dict)"
   ]
  },
  {
   "cell_type": "code",
   "execution_count": 92,
   "metadata": {},
   "outputs": [],
   "source": [
    "dict_copy = dict.copy() # to avoid deep copy of dictionariers"
   ]
  },
  {
   "cell_type": "code",
   "execution_count": 95,
   "metadata": {},
   "outputs": [
    {
     "name": "stdout",
     "output_type": "stream",
     "text": [
      "name change\n",
      "surname chauhan\n",
      "age 30\n"
     ]
    }
   ],
   "source": [
    "for i,j in dict.items():\n",
    "    print(i,j)"
   ]
  },
  {
   "cell_type": "code",
   "execution_count": 99,
   "metadata": {},
   "outputs": [
    {
     "name": "stdout",
     "output_type": "stream",
     "text": [
      "{'student1': {'name': 'vatsal', 'age': 21}, 'student2': {'name': 'meet', 'age': 51}, 'student3': {'name': 'vatsal', 'age': 91}}\n",
      "student1 {'name': 'vatsal', 'age': 21}\n",
      "student2 {'name': 'meet', 'age': 51}\n",
      "student3 {'name': 'vatsal', 'age': 91}\n",
      "student1 {'name': 'vatsal', 'age': 21}\n",
      "name vatsal\n",
      "age 21\n",
      "student2 {'name': 'meet', 'age': 51}\n",
      "name meet\n",
      "age 51\n",
      "student3 {'name': 'vatsal', 'age': 91}\n",
      "name vatsal\n",
      "age 91\n"
     ]
    }
   ],
   "source": [
    "# nested dictionries \n",
    "dict ={\n",
    "    \"student1\":{\"name\":\"vatsal\",\"age\":21},\n",
    "    \"student2\":{\"name\":\"meet\",\"age\":51},\n",
    "    \"student3\":{\"name\":\"vatsal\",\"age\":91}\n",
    "}\n",
    "print(dict)\n",
    "\n",
    "for i,j in dict.items():\n",
    "    print(i,j)\n",
    "\n",
    "for i,j in dict.items():\n",
    "    print(i,j)\n",
    "    for i,j in j.items():\n",
    "        print(i,j)"
   ]
  }
 ],
 "metadata": {
  "kernelspec": {
   "display_name": "base",
   "language": "python",
   "name": "python3"
  },
  "language_info": {
   "codemirror_mode": {
    "name": "ipython",
    "version": 3
   },
   "file_extension": ".py",
   "mimetype": "text/x-python",
   "name": "python",
   "nbconvert_exporter": "python",
   "pygments_lexer": "ipython3",
   "version": "3.12.7"
  }
 },
 "nbformat": 4,
 "nbformat_minor": 2
}
