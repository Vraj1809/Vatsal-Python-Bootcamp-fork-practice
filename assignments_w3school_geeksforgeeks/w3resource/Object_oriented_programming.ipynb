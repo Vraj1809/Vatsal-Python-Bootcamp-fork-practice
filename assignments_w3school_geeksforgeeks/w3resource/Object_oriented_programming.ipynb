{
 "cells": [
  {
   "cell_type": "code",
   "execution_count": 10,
   "metadata": {},
   "outputs": [
    {
     "data": {
      "text/plain": [
       "2"
      ]
     },
     "execution_count": 10,
     "metadata": {},
     "output_type": "execute_result"
    }
   ],
   "source": [
    "'''\n",
    " Write a Python program to create a class representing a queue data structure. Include methods for enqueueing and dequeueing elements. \n",
    "'''\n",
    "\n",
    "class Queue:\n",
    "    def __init__(self,front=-1,rear=-1,arr=[]):\n",
    "      self.arr = arr\n",
    "      self.rear = rear\n",
    "      self.front = front\n",
    "      pass\n",
    "\n",
    "    def enqueue(self,x):\n",
    "        self.arr.append(x)\n",
    "        self.rear = self.rear+1\n",
    "e = Queue()\n",
    "e.enqueue(1)\n",
    "e.enqueue(2)\n",
    "e.enqueue(3)\n",
    "e.rear\n",
    "\n",
    "        "
   ]
  },
  {
   "cell_type": "code",
   "execution_count": 22,
   "metadata": {},
   "outputs": [
    {
     "name": "stdout",
     "output_type": "stream",
     "text": [
      "Not found\n"
     ]
    }
   ],
   "source": [
    "'''\n",
    "Write a Python program to create a class representing a shopping cart. Include methods for adding and removing items, and calculating the total price. \n",
    "'''\n",
    "class Cart:\n",
    "    def __init__(self,arr=set({})):\n",
    "        self.arr = arr\n",
    "    def add_items(self,*args):\n",
    "        for i in args:\n",
    "            self.arr.add(i)\n",
    "    def remove_items(self,data):\n",
    "        try:\n",
    "         self.arr.remove(data)\n",
    "         print(self.arr)\n",
    "        except Exception as ex:\n",
    "            print(\"Not found\")\n",
    "\n",
    "\n",
    "c1 =Cart()\n",
    "c1.add_items(\"kinder joy\",\"sumul chass\")\n",
    "c1.arr\n",
    "c1.add_items(\"kinder joy\",\"papad\",\"darr bhatt\")\n",
    "c1.remove_items(\"darr bhat\")\n",
    "        \n"
   ]
  },
  {
   "cell_type": "markdown",
   "metadata": {},
   "source": [
    "DECORATORS"
   ]
  },
  {
   "cell_type": "code",
   "execution_count": 24,
   "metadata": {},
   "outputs": [
    {
     "name": "stdout",
     "output_type": "stream",
     "text": [
      "Result: 7.0\n"
     ]
    }
   ],
   "source": [
    "def handle_exceptions(default_response):\n",
    "    def decorator(func):\n",
    "        def wrapper(*args, **kwargs):\n",
    "            try:\n",
    "              \n",
    "                return func(*args, **kwargs)\n",
    "            except Exception as e:\n",
    "                print(f\"Exception occurred: {e}\")\n",
    "                return default_response\n",
    "        return wrapper\n",
    "    return decorator\n",
    "\n",
    "\n",
    "@handle_exceptions(default_response=\"An error occurred!\")\n",
    "def divide_numbers(x, y):\n",
    "    return x / y\n",
    "\n",
    "\n",
    "result = divide_numbers(7, 1)  \n",
    "print(\"Result:\", result)"
   ]
  }
 ],
 "metadata": {
  "kernelspec": {
   "display_name": "base",
   "language": "python",
   "name": "python3"
  },
  "language_info": {
   "codemirror_mode": {
    "name": "ipython",
    "version": 3
   },
   "file_extension": ".py",
   "mimetype": "text/x-python",
   "name": "python",
   "nbconvert_exporter": "python",
   "pygments_lexer": "ipython3",
   "version": "3.12.7"
  }
 },
 "nbformat": 4,
 "nbformat_minor": 2
}
