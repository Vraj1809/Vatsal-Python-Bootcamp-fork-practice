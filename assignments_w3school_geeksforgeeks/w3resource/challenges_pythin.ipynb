{
 "cells": [
  {
   "cell_type": "code",
   "execution_count": 25,
   "metadata": {},
   "outputs": [
    {
     "name": "stdout",
     "output_type": "stream",
     "text": [
      "sum of all negative numbers is  -120\n",
      "sum of all negative numbers is  9046\n"
     ]
    }
   ],
   "source": [
    "'''\n",
    "Write a Python program to calculate sum of all positive, negative integers present in a given string. \n",
    "'''\n",
    "import re\n",
    "text =\"-100#^sdfkj8902w3ir021@swf-20\"\n",
    "pattern1 = r'-\\d+'\n",
    "pattern2 = r'\\d+'\n",
    "\n",
    "neg = re.findall(pattern1,text)\n",
    "pos = re.findall(pattern2,text)\n",
    "total_sum=0\n",
    "sum_neg =0\n",
    "for j in pos:\n",
    "    total_sum = total_sum + int(j)\n",
    "\n",
    "\n",
    "for i in neg:\n",
    "    sum_neg = sum_neg+int(i)\n",
    "print(\"sum of all negative numbers is \",sum_neg)\n",
    "print(\"sum of all negative numbers is \",total_sum)\n",
    "\n"
   ]
  },
  {
   "cell_type": "code",
   "execution_count": 42,
   "metadata": {},
   "outputs": [
    {
     "name": "stdout",
     "output_type": "stream",
     "text": [
      "AAAABBBCCDAA\n"
     ]
    }
   ],
   "source": [
    "'''\n",
    "Write a Python program that takes a string of numbers and letters and return string which consists of letters. \n",
    "'''\n",
    "\n",
    "input_string = \"4A3B2C1D2A\"\n",
    "result_string=''\n",
    "for i in range(0,len(input_string),2):\n",
    "    for j in range(int(input_string[i])):\n",
    "        result_string = result_string+ input_string[i+1]\n",
    "print(result_string)\n",
    "\n"
   ]
  }
 ],
 "metadata": {
  "kernelspec": {
   "display_name": "base",
   "language": "python",
   "name": "python3"
  },
  "language_info": {
   "codemirror_mode": {
    "name": "ipython",
    "version": 3
   },
   "file_extension": ".py",
   "mimetype": "text/x-python",
   "name": "python",
   "nbconvert_exporter": "python",
   "pygments_lexer": "ipython3",
   "version": "3.12.7"
  }
 },
 "nbformat": 4,
 "nbformat_minor": 2
}
