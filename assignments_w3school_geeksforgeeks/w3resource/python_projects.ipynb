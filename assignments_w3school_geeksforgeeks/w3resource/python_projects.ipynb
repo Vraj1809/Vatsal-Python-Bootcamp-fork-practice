{
 "cells": [
  {
   "cell_type": "code",
   "execution_count": 7,
   "metadata": {},
   "outputs": [
    {
     "name": "stdout",
     "output_type": "stream",
     "text": [
      "Sam\n",
      "Robert\n",
      "Mark\n",
      "Linda\n",
      "Charles\n",
      "Mary\n",
      "Mark\n"
     ]
    }
   ],
   "source": [
    "import project_package\n",
    "import project_package.random_profile as rp\n",
    "obj = rp.Name(7)\n",
    "\n",
    "obj.first_name()\n",
    "\n",
    "\n",
    "\n"
   ]
  },
  {
   "cell_type": "code",
   "execution_count": 3,
   "metadata": {},
   "outputs": [
    {
     "name": "stdout",
     "output_type": "stream",
     "text": [
      " Aries Daily Horoscope - Aries Horoscope Today \n",
      "Performance of your child may give you immense pleasure\n",
      " You are most likely to attain financial profits today at night because as any money lent before will come back instantly\n",
      "  You should spend your spare time enjoying the company of children-even if you have to go out of your way to make that happen\n",
      " Sky will look brighter, flowers will seem more colorful, everything will shimmer around you; because you are in love! You will be in a position to put together major land deals and coordinate many people in entertainment projects\n",
      " Pending problems need to get sorted out soon and you know that you have to start somewhere- so think positively and start putting efforts today\n",
      " It's going to be the most romantic day of your life with your spouse\n",
      "\n"
     ]
    }
   ],
   "source": [
    "import requests\n",
    "from bs4 import BeautifulSoup\n",
    "\n",
    "rashi = input(\"enter yout Rashi\")\n",
    "\n",
    "try:\n",
    "    res = requests.get(\"https://www.astrosage.com/horoscope/daily-{}-horoscope.asp\".\n",
    " format(rashi))\n",
    "    \n",
    "    if res.status_code==200:\n",
    "           response = BeautifulSoup(res.content,\"html.parser\")\n",
    "           print(response.title.text)\n",
    "           rashi_bhavishya =response.select(\".ui-large-content.text-justify\")\n",
    "           temp = rashi_bhavishya[0].text.split(\".\")\n",
    "           for i in temp:\n",
    "                print(i)\n",
    "                  \n",
    "           \n",
    "except Exception as ex:\n",
    "           print(\"enter a valid Rashi\")\n"
   ]
  },
  {
   "cell_type": "code",
   "execution_count": 20,
   "metadata": {},
   "outputs": [
    {
     "name": "stdout",
     "output_type": "stream",
     "text": [
      "Welcome to the game, to Chalye Shuru Karte Hayy\n",
      "you choose  rock\n",
      "computer chooses rock\n",
      "player1:0 player2:0\n",
      "you choose  rock\n",
      "computer chooses scissor\n",
      "player1:1 player2:0\n",
      "you choose  scissor\n",
      "computer chooses rock\n",
      "player1:1 player2:1\n",
      "you choose  paper\n",
      "computer chooses rock\n",
      "player1:2 player2:1\n",
      "you choose  rock\n",
      "computer chooses paper\n",
      "player1:2 player2:2\n"
     ]
    }
   ],
   "source": [
    "import random\n",
    "game_input_list ={\n",
    "    1:\"rock\",\n",
    "    2:\"paper\",\n",
    "    3:\"scissor\"\n",
    "}\n",
    "\n",
    "class Game:\n",
    "    def __init__(self,n=1,player1=0,player2=0):\n",
    "        self.player1=player1\n",
    "        self.player2=player2\n",
    "        self.n=n\n",
    " \n",
    "    def start_game(self):\n",
    "        print(\"Welcome to the game, to Chalye Shuru Karte Hayy\")\n",
    "        for i in range(self.n):\n",
    "           \n",
    "       \n",
    "    \n",
    "            t1 = int(input(\"Enter your value 1: rock, 2:paper , 3:scissor\"))\n",
    "            print(\"you choose \",game_input_list[t1])\n",
    "            \n",
    "            t2 = random.randint(1,3)\n",
    "            print(\"computer chooses\",game_input_list[t2])\n",
    "\n",
    "            if game_input_list[t1]== game_input_list[t2]:\n",
    "                print(f\"player1:{self.player1} player2:{self.player2}\")\n",
    "            elif game_input_list[t1]==\"rock\" and game_input_list[t2]=='scissor':\n",
    "                 self.player1 = self.player1+1\n",
    "                 print(f\"player1:{self.player1} player2:{self.player2}\")\n",
    "            elif game_input_list[t1]==\"rock\" and game_input_list[t2]=='paper':\n",
    "                 self.player2 = self.player2+1\n",
    "                 print(f\"player1:{self.player1} player2:{self.player2}\")\n",
    "            elif game_input_list[t1]==\"paper\" and game_input_list[t2]=='scissor':\n",
    "                 self.player2 = self.player2+1\n",
    "                 print(f\"player1:{self.player1} player2:{self.player2}\")\n",
    "            elif game_input_list[t1]==\"paper\" and game_input_list[t2]=='rock':\n",
    "                 self.player1 = self.player1+1\n",
    "                 print(f\"player1:{self.player1} player2:{self.player2}\")\n",
    "            elif game_input_list[t1]==\"scissor\" and game_input_list[t2]=='rock':\n",
    "                 self.player2 = self.player2+1\n",
    "                 print(f\"player1:{self.player1} player2:{self.player2}\")\n",
    "            elif game_input_list[t1]==\"scissor\" and game_input_list[t2]=='paper':\n",
    "                 self.player1 = self.player1+1\n",
    "                 print(f\"player1:{self.player1} player2:{self.player2}\")\n",
    "                 \n",
    "           \n",
    "                \n",
    "             \n",
    "\n",
    "\n",
    "g1 = Game(5)\n",
    "g1.start_game()\n"
   ]
  }
 ],
 "metadata": {
  "kernelspec": {
   "display_name": "base",
   "language": "python",
   "name": "python3"
  },
  "language_info": {
   "codemirror_mode": {
    "name": "ipython",
    "version": 3
   },
   "file_extension": ".py",
   "mimetype": "text/x-python",
   "name": "python",
   "nbconvert_exporter": "python",
   "pygments_lexer": "ipython3",
   "version": "3.12.7"
  }
 },
 "nbformat": 4,
 "nbformat_minor": 2
}
