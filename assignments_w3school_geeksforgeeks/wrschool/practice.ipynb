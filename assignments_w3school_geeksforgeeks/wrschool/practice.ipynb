{
 "cells": [
  {
   "cell_type": "code",
   "execution_count": 3,
   "metadata": {},
   "outputs": [
    {
     "name": "stdout",
     "output_type": "stream",
     "text": [
      "Twinkle, twinkle, little star,\n",
      "  \tHow I wonder what you are!\n",
      " \t\t up above the world so high,\n",
      " \t\t Like a diamond in the sky.\n",
      " Twinkle, twinkle, little star,\n",
      " \t How I wonder what you are\n"
     ]
    }
   ],
   "source": [
    "'''\n",
    "Write a Python program to print the following string in a specific format (see the output).\n",
    "Sample String : \"Twinkle, twinkle, little star, How I wonder what you are! Up above the world so high, Like a diamond in the sky. Twinkle, twinkle, little star, How I wonder what you are\"\n",
    "'''\n",
    "print(\"Twinkle, twinkle, little star,\\n  \\tHow I wonder what you are!\\n \\t\\t up above the world so high,\\n \\t\\t Like a diamond in the sky.\\n Twinkle, twinkle, little star,\\n \\t How I wonder what you are\")"
   ]
  },
  {
   "cell_type": "code",
   "execution_count": 5,
   "metadata": {},
   "outputs": [
    {
     "data": {
      "text/plain": [
       "'3.12.7 | packaged by Anaconda, Inc. | (main, Oct  4 2024, 13:17:27) [MSC v.1929 64 bit (AMD64)]'"
      ]
     },
     "execution_count": 5,
     "metadata": {},
     "output_type": "execute_result"
    }
   ],
   "source": [
    "'''\n",
    "Write a Python program to find out what version of Python you are using.\n",
    "'''\n",
    "import sys\n",
    "sys.version"
   ]
  },
  {
   "cell_type": "code",
   "execution_count": 9,
   "metadata": {},
   "outputs": [
    {
     "name": "stdout",
     "output_type": "stream",
     "text": [
      "2025-01-03 09:31:24\n"
     ]
    }
   ],
   "source": [
    "'''\n",
    "Write a Python program to display the current date and time.\n",
    "Sample Output :\n",
    "Current date and time :\n",
    "2014-07-05 14:34:14 \n",
    "'''\n",
    "import datetime\n",
    "print(datetime.datetime.now().strftime(\"%Y-%m-%d %H:%M:%S\"))"
   ]
  },
  {
   "cell_type": "code",
   "execution_count": 12,
   "metadata": {},
   "outputs": [
    {
     "name": "stdout",
     "output_type": "stream",
     "text": [
      "area is 3.8013271108436504\n"
     ]
    }
   ],
   "source": [
    "'''\n",
    "Write a Python program that calculates the area of a circle based on the radius entered by the user.\n",
    "Sample Output :\n",
    "r = 1.1\n",
    "Area = 3.8013271108436504\n",
    "'''\n",
    "from math import pi\n",
    "r = float(input(\"enter radius of circle\"))\n",
    "area = pi*(r**2)\n",
    "print(f\"area is {area}\")"
   ]
  },
  {
   "cell_type": "code",
   "execution_count": 19,
   "metadata": {},
   "outputs": [
    {
     "name": "stdout",
     "output_type": "stream",
     "text": [
      "chauhan vatsal\n"
     ]
    }
   ],
   "source": [
    "'''\n",
    "Write a Python program that accepts the user's first and last name and prints them in reverse order with a space between them.\n",
    "\n",
    "'''\n",
    "st = input('Enter your full name')\n",
    "\n",
    "full_name = list(st.split())\n",
    "\n",
    "result =full_name[::-1]\n",
    "\n",
    "r = \" \".join(result)\n",
    "print(r)\n"
   ]
  },
  {
   "cell_type": "code",
   "execution_count": 22,
   "metadata": {},
   "outputs": [
    {
     "name": "stdout",
     "output_type": "stream",
     "text": [
      "['1', '2', '3', '4', '6', '7', '8', '9', '10']\n",
      "('1', '2', '3', '4', '6', '7', '8', '9', '10')\n"
     ]
    }
   ],
   "source": [
    "'''\n",
    "Write a Python program that accepts a sequence of comma-separated numbers from the user and generates a list and a tuple of those numbers.\n",
    "Sample data : 3, 5, 7, 23\n",
    "Output :\n",
    "List : ['3', ' 5', ' 7', ' 23']\n",
    "Tuple : ('3', ' 5', ' 7', ' 23') \n",
    "'''\n",
    "\n",
    "number = input(\"enter elements\")\n",
    "number = number.split()\n",
    "print(list(number))\n",
    "print(tuple(number))"
   ]
  },
  {
   "cell_type": "code",
   "execution_count": 23,
   "metadata": {},
   "outputs": [
    {
     "name": "stdout",
     "output_type": "stream",
     "text": [
      "example\n"
     ]
    }
   ],
   "source": [
    "'''\n",
    "Write a Python program that accepts a filename from the user and prints the extension of the file.\n",
    "Sample filename : abc.java\n",
    "Output : java\n",
    "'''\n",
    "x = input(\"write down file name\")\n",
    "index = x.index(\".\")\n",
    "result  = x[:index]\n",
    "print(result)"
   ]
  },
  {
   "cell_type": "code",
   "execution_count": 25,
   "metadata": {},
   "outputs": [
    {
     "name": "stdout",
     "output_type": "stream",
     "text": [
      "Red Black\n"
     ]
    }
   ],
   "source": [
    "'''\n",
    "Write a Python program to display the first and last colors from the following list.\n",
    "color_list = [\"Red\",\"Green\",\"White\" ,\"Black\"] \n",
    "'''\n",
    "color_list = [\"Red\",\"Green\",\"White\" ,\"Black\"] \n",
    "print(color_list[0],color_list[-1])\n"
   ]
  },
  {
   "cell_type": "code",
   "execution_count": 26,
   "metadata": {},
   "outputs": [
    {
     "name": "stdout",
     "output_type": "stream",
     "text": [
      "The exam will star from : 11/12/2019\n"
     ]
    }
   ],
   "source": [
    "''' \n",
    "Write a Python program to display the examination schedule. (extract the date from exam_st_date).\n",
    "exam_st_date = (11, 12, 2014)\n",
    "Sample Output : The examination will start from : 11 / 12 / 2014\n",
    "'''\n",
    "input_data = input('')\n",
    "\n",
    "result  = input_data.split()\n",
    "print(f\"The exam will star from : {result[0]}/{result[1]}/{result[2]}\")"
   ]
  },
  {
   "cell_type": "code",
   "execution_count": 28,
   "metadata": {},
   "outputs": [
    {
     "name": "stdout",
     "output_type": "stream",
     "text": [
      "615\n"
     ]
    }
   ],
   "source": [
    "''' \n",
    "Write a Python program that accepts an integer (n) and computes the value of n+nn+nnn.\n",
    "Sample value of n is 5\n",
    "Expected Result : 615\n",
    "'''\n",
    "\n",
    "x = int(input(\"enter a number : \"))\n",
    "result = x + (x*10 +x) +(x*100 + x*10 + x)\n",
    "print(result)"
   ]
  },
  {
   "cell_type": "code",
   "execution_count": 33,
   "metadata": {},
   "outputs": [
    {
     "name": "stdout",
     "output_type": "stream",
     "text": [
      "    January 2025\n",
      "Mo Tu We Th Fr Sa Su\n",
      "       1  2  3  4  5\n",
      " 6  7  8  9 10 11 12\n",
      "13 14 15 16 17 18 19\n",
      "20 21 22 23 24 25 26\n",
      "27 28 29 30 31\n",
      "\n"
     ]
    }
   ],
   "source": [
    "'''\n",
    "Write a Python program that prints the calendar for a given month and year.\n",
    "Note : Use 'calendar' module.\n",
    "'''\n",
    "import calendar\n",
    "\n",
    "m = int(input('enter month'))\n",
    "year = int(input('enter year'))\n",
    "\n",
    "print(calendar.month(year,m))\n"
   ]
  },
  {
   "cell_type": "code",
   "execution_count": null,
   "metadata": {},
   "outputs": [],
   "source": []
  }
 ],
 "metadata": {
  "kernelspec": {
   "display_name": "base",
   "language": "python",
   "name": "python3"
  },
  "language_info": {
   "codemirror_mode": {
    "name": "ipython",
    "version": 3
   },
   "file_extension": ".py",
   "mimetype": "text/x-python",
   "name": "python",
   "nbconvert_exporter": "python",
   "pygments_lexer": "ipython3",
   "version": "3.12.7"
  }
 },
 "nbformat": 4,
 "nbformat_minor": 2
}
