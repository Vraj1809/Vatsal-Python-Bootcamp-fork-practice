{
 "cells": [
  {
   "cell_type": "code",
   "execution_count": 13,
   "metadata": {},
   "outputs": [
    {
     "name": "stdout",
     "output_type": "stream",
     "text": [
      "False\n",
      "demo.txt\n",
      "True\n",
      "utf-8\n"
     ]
    }
   ],
   "source": [
    "f = open(\"demo.txt\",mode='w')\n",
    "\n",
    "f.write(\"hello this is my first python file handling file \")\n",
    "f.write(\"next line\")\n",
    "f = open(\"demo.txt\",mode='r',buffering=10,newline='\\n',encoding='utf-8')\n",
    "print(f.closed)\n",
    "f.close() # to remove it from memory\n",
    "# do not rely on  garbage collector\n",
    "print(f.name)\n",
    "print(f.closed)\n",
    "print(f.encoding)"
   ]
  },
  {
   "cell_type": "code",
   "execution_count": 16,
   "metadata": {},
   "outputs": [
    {
     "name": "stdout",
     "output_type": "stream",
     "text": [
      "True\n"
     ]
    }
   ],
   "source": [
    "import os\n",
    "\n",
    "print(os.path.isfile(\"demo.txt\"))"
   ]
  },
  {
   "cell_type": "code",
   "execution_count": 20,
   "metadata": {},
   "outputs": [],
   "source": [
    "with open(\"hello.txt\",mode='w+') as f:\n",
    "    f.write(\"hello world\")\n",
    "\n",
    "\n"
   ]
  },
  {
   "cell_type": "code",
   "execution_count": 27,
   "metadata": {},
   "outputs": [],
   "source": [
    "import datetime\n",
    "\n",
    "t = datetime.time(2,20)\n",
    "t.minute\n",
    "t.hour\n",
    "t = datetime.time()\n"
   ]
  },
  {
   "cell_type": "code",
   "execution_count": 30,
   "metadata": {},
   "outputs": [
    {
     "name": "stdout",
     "output_type": "stream",
     "text": [
      "2024-12-31\n"
     ]
    }
   ],
   "source": [
    "date = datetime.date.today()\n",
    "print(date)"
   ]
  },
  {
   "cell_type": "code",
   "execution_count": 34,
   "metadata": {},
   "outputs": [
    {
     "name": "stdout",
     "output_type": "stream",
     "text": [
      "2004-05-01 01:20:02\n"
     ]
    }
   ],
   "source": [
    "from datetime import datetime\n",
    "\n",
    "date = datetime(2004,5,1,1,20,2)\n",
    "print(date)"
   ]
  },
  {
   "cell_type": "code",
   "execution_count": 37,
   "metadata": {},
   "outputs": [
    {
     "data": {
      "text/plain": [
       "datetime.datetime(2004, 5, 1, 1, 20, 2)"
      ]
     },
     "execution_count": 37,
     "metadata": {},
     "output_type": "execute_result"
    }
   ],
   "source": [
    "date.replace(year=2003)\n",
    "date"
   ]
  },
  {
   "cell_type": "code",
   "execution_count": 40,
   "metadata": {},
   "outputs": [
    {
     "name": "stdout",
     "output_type": "stream",
     "text": [
      "7305\n",
      "-999999999 days, 0:00:00\n"
     ]
    }
   ],
   "source": [
    "from datetime import date\n",
    "\n",
    "date1 = date(2024,5,1)\n",
    "date2 = date(2004,5,1)\n",
    "result = date1-date2\n",
    "print(result.days)\n",
    "print(result.min)"
   ]
  },
  {
   "cell_type": "code",
   "execution_count": 44,
   "metadata": {},
   "outputs": [
    {
     "data": {
      "text/plain": [
       "5"
      ]
     },
     "execution_count": 44,
     "metadata": {},
     "output_type": "execute_result"
    }
   ],
   "source": [
    "# random numbers module\n",
    "\n",
    "import math\n",
    "\n",
    "math.floor(4.6)\n",
    "math.ceil(4.8)\n",
    "\n",
    "round(4.7)"
   ]
  },
  {
   "cell_type": "code",
   "execution_count": 46,
   "metadata": {},
   "outputs": [
    {
     "name": "stdout",
     "output_type": "stream",
     "text": [
      "3.141592653589793\n"
     ]
    }
   ],
   "source": [
    "from math import pi\n",
    "print(pi)"
   ]
  },
  {
   "cell_type": "code",
   "execution_count": 148,
   "metadata": {},
   "outputs": [
    {
     "name": "stdout",
     "output_type": "stream",
     "text": [
      "1\n",
      "9\n",
      "[3, 12, 2, 7, 2, 12]\n",
      "[4, 123, 16, 12, 9, 8, 10, 1]\n"
     ]
    }
   ],
   "source": [
    "import random\n",
    "\n",
    "print(random.randint(0,2))\n",
    "la = [1,2,3,4,5,7,8,9,0,10,12,12,123,16]\n",
    "\n",
    "print(random.choice(la))\n",
    "print(random.choices(population=la,k=6))\n",
    "print(random.sample(population=la,k=8))"
   ]
  },
  {
   "cell_type": "code",
   "execution_count": 149,
   "metadata": {},
   "outputs": [],
   "source": [
    "# python debugger\n",
    "\n"
   ]
  },
  {
   "cell_type": "code",
   "execution_count": 166,
   "metadata": {},
   "outputs": [
    {
     "name": "stdout",
     "output_type": "stream",
     "text": [
      "<re.Match object; span=(0, 4), match='vraj'>\n"
     ]
    }
   ],
   "source": [
    "# regular expressions\n",
    "\n",
    "import re\n",
    "text = \"vraj is a good boy 942\"\n",
    "pattern = \"vraj\"\n",
    "\n",
    "print(re.search(pattern,text))"
   ]
  },
  {
   "cell_type": "code",
   "execution_count": 172,
   "metadata": {},
   "outputs": [
    {
     "name": "stdout",
     "output_type": "stream",
     "text": [
      "None\n"
     ]
    }
   ],
   "source": [
    "print(re.match(r'\\d\\d\\d',text))"
   ]
  },
  {
   "cell_type": "code",
   "execution_count": 180,
   "metadata": {},
   "outputs": [
    {
     "data": {
      "text/plain": [
       "4.4899992644786835e-05"
      ]
     },
     "execution_count": 180,
     "metadata": {},
     "output_type": "execute_result"
    }
   ],
   "source": [
    "import timeit\n",
    "\n",
    "data ='''\n",
    "fun1(100)\n",
    "'''\n",
    "setup = '''\n",
    "\n",
    "def fun1(n):\n",
    "   return [str(i) for i in range(n)]\n",
    "'''\n",
    "\n",
    "timeit.timeit(data,setup,number=1)"
   ]
  }
 ],
 "metadata": {
  "kernelspec": {
   "display_name": "base",
   "language": "python",
   "name": "python3"
  },
  "language_info": {
   "codemirror_mode": {
    "name": "ipython",
    "version": 3
   },
   "file_extension": ".py",
   "mimetype": "text/x-python",
   "name": "python",
   "nbconvert_exporter": "python",
   "pygments_lexer": "ipython3",
   "version": "3.12.7"
  }
 },
 "nbformat": 4,
 "nbformat_minor": 2
}
