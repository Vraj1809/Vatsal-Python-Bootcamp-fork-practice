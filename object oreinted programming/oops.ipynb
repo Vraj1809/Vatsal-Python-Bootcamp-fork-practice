{
 "cells": [
  {
   "cell_type": "markdown",
   "metadata": {},
   "source": [
    "# oops"
   ]
  },
  {
   "cell_type": "code",
   "execution_count": 4,
   "metadata": {},
   "outputs": [
    {
     "name": "stdout",
     "output_type": "stream",
     "text": [
      "tommy 7 labrador\n"
     ]
    }
   ],
   "source": [
    "class Dog:\n",
    "    #constructor\n",
    "    def __init__(self,name,age,breed):\n",
    "        self.name=name\n",
    "        self.age=age\n",
    "        self.breed = breed\n",
    "\n",
    "dog1 = Dog(\"tommy\",7,\"labrador\")\n",
    "print(f\"{dog1.name} {dog1.age} {dog1.breed}\")\n",
    "\n",
    "      "
   ]
  },
  {
   "cell_type": "code",
   "execution_count": 19,
   "metadata": {},
   "outputs": [
    {
     "name": "stdout",
     "output_type": "stream",
     "text": [
      "available balance is 0\n",
      "available balance is 50000\n",
      "money deducted\n",
      "available balance is 1000\n",
      "insufficient balance\n"
     ]
    }
   ],
   "source": [
    "class ICICI:\n",
    "    #constructor\n",
    "    def __init__(self,userID,name,balance=0):\n",
    "        self.userId = userID\n",
    "        self.name = name\n",
    "        self.balance=balance\n",
    "    def check_balance(self):\n",
    "        print(f\"available balance is {self.balance}\")\n",
    "    def deposit_money(self,amount):\n",
    "        self.balance = self.balance + amount\n",
    "        self.check_balance()\n",
    "    def widhraw_money(self,amount):\n",
    "        if amount>self.balance:\n",
    "            print(\"insufficient balance\")\n",
    "        else:\n",
    "            self.balance = self.balance - amount\n",
    "            print(\"money deducted\")\n",
    "            self.check_balance()\n",
    "        \n",
    "\n",
    "user1 = ICICI(1019,\"Vatsal\")\n",
    "user1.check_balance()\n",
    "user1.deposit_money(50000)\n",
    "user1.widhraw_money(49000)\n",
    "user1.widhraw_money(2000)"
   ]
  },
  {
   "cell_type": "code",
   "execution_count": 21,
   "metadata": {},
   "outputs": [
    {
     "name": "stdout",
     "output_type": "stream",
     "text": [
      "Aura 4 4 windsheild True\n"
     ]
    }
   ],
   "source": [
    "class Car:\n",
    "    def __init__(self,door,window):\n",
    "        self.door = door\n",
    "        self.window = window\n",
    "    def fun1(self):\n",
    "        print(\"Car \",self.door,self.window)\n",
    "class Aura(Car):\n",
    "    def __init__(self, door, window,spoiler,cng):\n",
    "        super().__init__(door, window)\n",
    "        self.spoiler = spoiler\n",
    "        self.cng = cng\n",
    "    def fun2(self):\n",
    "        print(f\"Aura {self.door} {self.window} {self.spoiler} {self.cng}\" )\n",
    "\n",
    "c1 = Aura(4,4,\"windsheild\",True)\n",
    "\n",
    "c1.fun2()\n",
    "        "
   ]
  },
  {
   "cell_type": "code",
   "execution_count": 40,
   "metadata": {},
   "outputs": [
    {
     "name": "stdout",
     "output_type": "stream",
     "text": [
      "Area of rectangle is 150\n"
     ]
    }
   ],
   "source": [
    "class Shape():\n",
    "    def __init__(self, shape):\n",
    "        self.shape = shape  # This initializes the shape name\n",
    "    \n",
    "    def display_shape(self):\n",
    "        print(\"This is the base class Shape, and the value of shape is\", self.__shape)\n",
    "\n",
    "class Circle(Shape):\n",
    "    def __init__(self, shape, radius):\n",
    "        super().__init__(shape)  # Call to the Shape class constructor\n",
    "        self.__radius = radius  # Initialize radius\n",
    "    \n",
    "    def area(self):\n",
    "        ar = 3.14 * self.__radius ** 2  # Calculate area of circle\n",
    "        print(f\"Area of {self.__shape} is {ar}\")  # Print the result\n",
    "\n",
    "class Rectangle(Shape):\n",
    "    def __init__(self, shape, length, breadth):\n",
    "        super().__init__(shape)  # Call to the Shape class constructor\n",
    "        self.__length = length  # Initialize length\n",
    "        self.__breadth = breadth  # Initialize breadth\n",
    "    \n",
    "    def area(self):\n",
    "        print(f\"Area of {self.shape} is {self.__length * self.__breadth}\")  # Print the result\n",
    "\n",
    "# Create a Rectangle object\n",
    "r1 = Rectangle(\"rectangle\", 10, 15)\n",
    "r1.area()  # Output will display the area of the rectangle\n"
   ]
  }
 ],
 "metadata": {
  "kernelspec": {
   "display_name": "base",
   "language": "python",
   "name": "python3"
  },
  "language_info": {
   "codemirror_mode": {
    "name": "ipython",
    "version": 3
   },
   "file_extension": ".py",
   "mimetype": "text/x-python",
   "name": "python",
   "nbconvert_exporter": "python",
   "pygments_lexer": "ipython3",
   "version": "3.12.7"
  }
 },
 "nbformat": 4,
 "nbformat_minor": 2
}
