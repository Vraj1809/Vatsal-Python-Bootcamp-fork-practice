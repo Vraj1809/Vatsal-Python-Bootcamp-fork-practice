{
 "cells": [
  {
   "cell_type": "code",
   "execution_count": 1,
   "metadata": {},
   "outputs": [
    {
     "data": {
      "text/plain": [
       "(220, b'2.0.0 Ready to start TLS')"
      ]
     },
     "execution_count": 1,
     "metadata": {},
     "output_type": "execute_result"
    }
   ],
   "source": [
    "import smtplib\n",
    "smtp_object = smtplib.SMTP('smtp.gmail.com',587)\n",
    "smtp_object.ehlo()\n",
    "smtp_object.starttls()\n"
   ]
  },
  {
   "cell_type": "code",
   "execution_count": 2,
   "metadata": {},
   "outputs": [
    {
     "ename": "SMTPServerDisconnected",
     "evalue": "Connection unexpectedly closed",
     "output_type": "error",
     "traceback": [
      "\u001b[1;31m---------------------------------------------------------------------------\u001b[0m",
      "\u001b[1;31mSMTPServerDisconnected\u001b[0m                    Traceback (most recent call last)",
      "Cell \u001b[1;32mIn[2], line 5\u001b[0m\n\u001b[0;32m      3\u001b[0m email \u001b[38;5;241m=\u001b[39m getpass\u001b[38;5;241m.\u001b[39mgetpass(\u001b[38;5;124m\"\u001b[39m\u001b[38;5;124mEnter your email: \u001b[39m\u001b[38;5;124m\"\u001b[39m)\n\u001b[0;32m      4\u001b[0m password \u001b[38;5;241m=\u001b[39m getpass\u001b[38;5;241m.\u001b[39mgetpass(\u001b[38;5;124m\"\u001b[39m\u001b[38;5;124mEnter your password: \u001b[39m\u001b[38;5;124m\"\u001b[39m)\n\u001b[1;32m----> 5\u001b[0m smtp_object\u001b[38;5;241m.\u001b[39mlogin(email,password)\n",
      "File \u001b[1;32mc:\\Users\\VatsalChauhan\\anaconda3\\Lib\\smtplib.py:714\u001b[0m, in \u001b[0;36mSMTP.login\u001b[1;34m(self, user, password, initial_response_ok)\u001b[0m\n\u001b[0;32m    686\u001b[0m \u001b[38;5;28;01mdef\u001b[39;00m \u001b[38;5;21mlogin\u001b[39m(\u001b[38;5;28mself\u001b[39m, user, password, \u001b[38;5;241m*\u001b[39m, initial_response_ok\u001b[38;5;241m=\u001b[39m\u001b[38;5;28;01mTrue\u001b[39;00m):\n\u001b[0;32m    687\u001b[0m \u001b[38;5;250m    \u001b[39m\u001b[38;5;124;03m\"\"\"Log in on an SMTP server that requires authentication.\u001b[39;00m\n\u001b[0;32m    688\u001b[0m \n\u001b[0;32m    689\u001b[0m \u001b[38;5;124;03m    The arguments are:\u001b[39;00m\n\u001b[1;32m   (...)\u001b[0m\n\u001b[0;32m    711\u001b[0m \u001b[38;5;124;03m                              found.\u001b[39;00m\n\u001b[0;32m    712\u001b[0m \u001b[38;5;124;03m    \"\"\"\u001b[39;00m\n\u001b[1;32m--> 714\u001b[0m     \u001b[38;5;28mself\u001b[39m\u001b[38;5;241m.\u001b[39mehlo_or_helo_if_needed()\n\u001b[0;32m    715\u001b[0m     \u001b[38;5;28;01mif\u001b[39;00m \u001b[38;5;129;01mnot\u001b[39;00m \u001b[38;5;28mself\u001b[39m\u001b[38;5;241m.\u001b[39mhas_extn(\u001b[38;5;124m\"\u001b[39m\u001b[38;5;124mauth\u001b[39m\u001b[38;5;124m\"\u001b[39m):\n\u001b[0;32m    716\u001b[0m         \u001b[38;5;28;01mraise\u001b[39;00m SMTPNotSupportedError(\n\u001b[0;32m    717\u001b[0m             \u001b[38;5;124m\"\u001b[39m\u001b[38;5;124mSMTP AUTH extension not supported by server.\u001b[39m\u001b[38;5;124m\"\u001b[39m)\n",
      "File \u001b[1;32mc:\\Users\\VatsalChauhan\\anaconda3\\Lib\\smtplib.py:612\u001b[0m, in \u001b[0;36mSMTP.ehlo_or_helo_if_needed\u001b[1;34m(self)\u001b[0m\n\u001b[0;32m    610\u001b[0m \u001b[38;5;28;01mif\u001b[39;00m \u001b[38;5;28mself\u001b[39m\u001b[38;5;241m.\u001b[39mhelo_resp \u001b[38;5;129;01mis\u001b[39;00m \u001b[38;5;28;01mNone\u001b[39;00m \u001b[38;5;129;01mand\u001b[39;00m \u001b[38;5;28mself\u001b[39m\u001b[38;5;241m.\u001b[39mehlo_resp \u001b[38;5;129;01mis\u001b[39;00m \u001b[38;5;28;01mNone\u001b[39;00m:\n\u001b[0;32m    611\u001b[0m     \u001b[38;5;28;01mif\u001b[39;00m \u001b[38;5;129;01mnot\u001b[39;00m (\u001b[38;5;241m200\u001b[39m \u001b[38;5;241m<\u001b[39m\u001b[38;5;241m=\u001b[39m \u001b[38;5;28mself\u001b[39m\u001b[38;5;241m.\u001b[39mehlo()[\u001b[38;5;241m0\u001b[39m] \u001b[38;5;241m<\u001b[39m\u001b[38;5;241m=\u001b[39m \u001b[38;5;241m299\u001b[39m):\n\u001b[1;32m--> 612\u001b[0m         (code, resp) \u001b[38;5;241m=\u001b[39m \u001b[38;5;28mself\u001b[39m\u001b[38;5;241m.\u001b[39mhelo()\n\u001b[0;32m    613\u001b[0m         \u001b[38;5;28;01mif\u001b[39;00m \u001b[38;5;129;01mnot\u001b[39;00m (\u001b[38;5;241m200\u001b[39m \u001b[38;5;241m<\u001b[39m\u001b[38;5;241m=\u001b[39m code \u001b[38;5;241m<\u001b[39m\u001b[38;5;241m=\u001b[39m \u001b[38;5;241m299\u001b[39m):\n\u001b[0;32m    614\u001b[0m             \u001b[38;5;28;01mraise\u001b[39;00m SMTPHeloError(code, resp)\n",
      "File \u001b[1;32mc:\\Users\\VatsalChauhan\\anaconda3\\Lib\\smtplib.py:441\u001b[0m, in \u001b[0;36mSMTP.helo\u001b[1;34m(self, name)\u001b[0m\n\u001b[0;32m    436\u001b[0m \u001b[38;5;250m\u001b[39m\u001b[38;5;124;03m\"\"\"SMTP 'helo' command.\u001b[39;00m\n\u001b[0;32m    437\u001b[0m \u001b[38;5;124;03mHostname to send for this command defaults to the FQDN of the local\u001b[39;00m\n\u001b[0;32m    438\u001b[0m \u001b[38;5;124;03mhost.\u001b[39;00m\n\u001b[0;32m    439\u001b[0m \u001b[38;5;124;03m\"\"\"\u001b[39;00m\n\u001b[0;32m    440\u001b[0m \u001b[38;5;28mself\u001b[39m\u001b[38;5;241m.\u001b[39mputcmd(\u001b[38;5;124m\"\u001b[39m\u001b[38;5;124mhelo\u001b[39m\u001b[38;5;124m\"\u001b[39m, name \u001b[38;5;129;01mor\u001b[39;00m \u001b[38;5;28mself\u001b[39m\u001b[38;5;241m.\u001b[39mlocal_hostname)\n\u001b[1;32m--> 441\u001b[0m (code, msg) \u001b[38;5;241m=\u001b[39m \u001b[38;5;28mself\u001b[39m\u001b[38;5;241m.\u001b[39mgetreply()\n\u001b[0;32m    442\u001b[0m \u001b[38;5;28mself\u001b[39m\u001b[38;5;241m.\u001b[39mhelo_resp \u001b[38;5;241m=\u001b[39m msg\n\u001b[0;32m    443\u001b[0m \u001b[38;5;28;01mreturn\u001b[39;00m (code, msg)\n",
      "File \u001b[1;32mc:\\Users\\VatsalChauhan\\anaconda3\\Lib\\smtplib.py:405\u001b[0m, in \u001b[0;36mSMTP.getreply\u001b[1;34m(self)\u001b[0m\n\u001b[0;32m    403\u001b[0m \u001b[38;5;28;01mif\u001b[39;00m \u001b[38;5;129;01mnot\u001b[39;00m line:\n\u001b[0;32m    404\u001b[0m     \u001b[38;5;28mself\u001b[39m\u001b[38;5;241m.\u001b[39mclose()\n\u001b[1;32m--> 405\u001b[0m     \u001b[38;5;28;01mraise\u001b[39;00m SMTPServerDisconnected(\u001b[38;5;124m\"\u001b[39m\u001b[38;5;124mConnection unexpectedly closed\u001b[39m\u001b[38;5;124m\"\u001b[39m)\n\u001b[0;32m    406\u001b[0m \u001b[38;5;28;01mif\u001b[39;00m \u001b[38;5;28mself\u001b[39m\u001b[38;5;241m.\u001b[39mdebuglevel \u001b[38;5;241m>\u001b[39m \u001b[38;5;241m0\u001b[39m:\n\u001b[0;32m    407\u001b[0m     \u001b[38;5;28mself\u001b[39m\u001b[38;5;241m.\u001b[39m_print_debug(\u001b[38;5;124m'\u001b[39m\u001b[38;5;124mreply:\u001b[39m\u001b[38;5;124m'\u001b[39m, \u001b[38;5;28mrepr\u001b[39m(line))\n",
      "\u001b[1;31mSMTPServerDisconnected\u001b[0m: Connection unexpectedly closed"
     ]
    }
   ],
   "source": [
    "import getpass\n",
    "\n",
    "email = getpass.getpass(\"Enter your email: \")\n",
    "password = getpass.getpass(\"Enter your password: \")\n",
    "smtp_object.login(email,password)"
   ]
  },
  {
   "cell_type": "code",
   "execution_count": null,
   "metadata": {},
   "outputs": [],
   "source": []
  }
 ],
 "metadata": {
  "kernelspec": {
   "display_name": "base",
   "language": "python",
   "name": "python3"
  },
  "language_info": {
   "codemirror_mode": {
    "name": "ipython",
    "version": 3
   },
   "file_extension": ".py",
   "mimetype": "text/x-python",
   "name": "python",
   "nbconvert_exporter": "python",
   "pygments_lexer": "ipython3",
   "version": "3.12.7"
  }
 },
 "nbformat": 4,
 "nbformat_minor": 2
}
